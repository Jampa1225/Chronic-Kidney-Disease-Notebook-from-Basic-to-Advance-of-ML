{
 "cells": [
  {
   "cell_type": "code",
   "execution_count": 1,
   "id": "fd2ab279",
   "metadata": {
    "_cell_guid": "b1076dfc-b9ad-4769-8c92-a6c4dae69d19",
    "_uuid": "8f2839f25d086af736a60e9eeb907d3b93b6e0e5",
    "execution": {
     "iopub.execute_input": "2024-08-11T09:09:35.242105Z",
     "iopub.status.busy": "2024-08-11T09:09:35.241449Z",
     "iopub.status.idle": "2024-08-11T09:09:36.139791Z",
     "shell.execute_reply": "2024-08-11T09:09:36.138883Z"
    },
    "papermill": {
     "duration": 0.92672,
     "end_time": "2024-08-11T09:09:36.142213",
     "exception": false,
     "start_time": "2024-08-11T09:09:35.215493",
     "status": "completed"
    },
    "tags": []
   },
   "outputs": [
    {
     "name": "stdout",
     "output_type": "stream",
     "text": [
      "/kaggle/input/ckdisease/kidney_disease.csv\n"
     ]
    }
   ],
   "source": [
    "# This Python 3 environment comes with many helpful analytics libraries installed\n",
    "# It is defined by the kaggle/python Docker image: https://github.com/kaggle/docker-python\n",
    "# For example, here's several helpful packages to load\n",
    "\n",
    "import numpy as np # linear algebra\n",
    "import pandas as pd # data processing, CSV file I/O (e.g. pd.read_csv)\n",
    "\n",
    "# Input data files are available in the read-only \"../input/\" directory\n",
    "# For example, running this (by clicking run or pressing Shift+Enter) will list all files under the input directory\n",
    "\n",
    "import os\n",
    "for dirname, _, filenames in os.walk('/kaggle/input'):\n",
    "    for filename in filenames:\n",
    "        print(os.path.join(dirname, filename))\n",
    "\n",
    "# You can write up to 20GB to the current directory (/kaggle/working/) that gets preserved as output when you create a version using \"Save & Run All\" \n",
    "# You can also write temporary files to /kaggle/temp/, but they won't be saved outside of the current session"
   ]
  },
  {
   "cell_type": "markdown",
   "id": "bea0d318",
   "metadata": {
    "papermill": {
     "duration": 0.024635,
     "end_time": "2024-08-11T09:09:36.193279",
     "exception": false,
     "start_time": "2024-08-11T09:09:36.168644",
     "status": "completed"
    },
    "tags": []
   },
   "source": [
    "# **Aim of the CKD Dataset**"
   ]
  },
  {
   "cell_type": "markdown",
   "id": "35e44336",
   "metadata": {
    "papermill": {
     "duration": 0.023121,
     "end_time": "2024-08-11T09:09:36.241265",
     "exception": false,
     "start_time": "2024-08-11T09:09:36.218144",
     "status": "completed"
    },
    "tags": []
   },
   "source": [
    "The aim of the Chronic Kidney Disease (CKD) dataset is to facilitate the study and prediction of chronic kidney disease by using machine learning and statistical analysis techniques. This dataset typically contains medical and laboratory information about patients, including features such as age, blood pressure, specific laboratory tests (e.g., serum creatinine, blood urea, hemoglobin), and other relevant clinical data.\n",
    "\n",
    "Key objectives include:\n",
    "\n",
    "**Predicting Chronic Kidney Disease**: Developing predictive models to accurately classify whether a patient has CKD based on the available features.\n",
    "\n",
    "**Understanding Risk Factors**: Identifying key factors or indicators that contribute to the onset and progression of CKD, which can aid in early detection and intervention.\n",
    "\n",
    "**Improving Clinical Decision-Making**: Assisting healthcare professionals in making informed decisions regarding diagnosis, treatment, and management of CKD.\n",
    "\n",
    "This dataset is widely used for research, education, and the development of machine learning models aimed at improving patient outcomes in the context of CKD."
   ]
  },
  {
   "cell_type": "markdown",
   "id": "635c715b",
   "metadata": {
    "papermill": {
     "duration": 0.023065,
     "end_time": "2024-08-11T09:09:36.288013",
     "exception": false,
     "start_time": "2024-08-11T09:09:36.264948",
     "status": "completed"
    },
    "tags": []
   },
   "source": [
    "# **Understanding about the CKD Dataset Features**"
   ]
  },
  {
   "cell_type": "markdown",
   "id": "a02480ca",
   "metadata": {
    "papermill": {
     "duration": 0.023128,
     "end_time": "2024-08-11T09:09:36.335311",
     "exception": false,
     "start_time": "2024-08-11T09:09:36.312183",
     "status": "completed"
    },
    "tags": []
   },
   "source": [
    "<table border=\"1\" cellpadding=\"5\" cellspacing=\"0\">\n",
    "  <thead>\n",
    "    <tr>\n",
    "      <th>Feature</th>\n",
    "      <th>Description</th>\n",
    "      <th>Type</th>\n",
    "      <th>Example</th>\n",
    "    </tr>\n",
    "  </thead>\n",
    "  <tbody>\n",
    "    <tr>\n",
    "      <td>Age</td>\n",
    "      <td>The age of the patient in years.</td>\n",
    "      <td>Numerical</td>\n",
    "      <td>48 years</td>\n",
    "    </tr>\n",
    "    <tr>\n",
    "      <td>Blood Pressure (bp)</td>\n",
    "      <td>The patient's blood pressure, typically measured in mm Hg.</td>\n",
    "      <td>Numerical</td>\n",
    "      <td>80 (diastolic pressure)</td>\n",
    "    </tr>\n",
    "    <tr>\n",
    "      <td>Specific Gravity (sg)</td>\n",
    "      <td>Measure of urine concentration, indicating kidney's ability to concentrate urine.</td>\n",
    "      <td>Categorical (1.005-1.025)</td>\n",
    "      <td>1.020</td>\n",
    "    </tr>\n",
    "    <tr>\n",
    "      <td>Albumin (al)</td>\n",
    "      <td>Presence of albumin in urine, indicating kidney damage.</td>\n",
    "      <td>Categorical (0-5)</td>\n",
    "      <td>2</td>\n",
    "    </tr>\n",
    "    <tr>\n",
    "      <td>Sugar (su)</td>\n",
    "      <td>Presence of sugar in urine, possibly indicating diabetes or kidney disease.</td>\n",
    "      <td>Categorical (0-5)</td>\n",
    "      <td>3</td>\n",
    "    </tr>\n",
    "    <tr>\n",
    "      <td>Red Blood Cells (rbc)</td>\n",
    "      <td>Presence of red blood cells in urine, abnormal levels may indicate kidney disease.</td>\n",
    "      <td>Categorical (normal, abnormal)</td>\n",
    "      <td>abnormal</td>\n",
    "    </tr>\n",
    "    <tr>\n",
    "      <td>Pus Cell (pc)</td>\n",
    "      <td>Presence of pus cells in urine, indicating infection or inflammation in kidneys.</td>\n",
    "      <td>Categorical (normal, abnormal)</td>\n",
    "      <td>normal</td>\n",
    "    </tr>\n",
    "    <tr>\n",
    "      <td>Pus Cell Clumps (pcc)</td>\n",
    "      <td>Clumps of pus cells in urine, suggesting a more severe infection.</td>\n",
    "      <td>Categorical (present, not present)</td>\n",
    "      <td>not present</td>\n",
    "    </tr>\n",
    "    <tr>\n",
    "      <td>Bacteria (ba)</td>\n",
    "      <td>Presence of bacteria in urine, possibly indicating a urinary tract infection.</td>\n",
    "      <td>Categorical (present, not present)</td>\n",
    "      <td>present</td>\n",
    "    </tr>\n",
    "    <tr>\n",
    "      <td>Blood Glucose Random (bgr)</td>\n",
    "      <td>Random measurement of blood glucose levels, indicating blood sugar control.</td>\n",
    "      <td>Numerical (mg/dL)</td>\n",
    "      <td>121 mg/dL</td>\n",
    "    </tr>\n",
    "    <tr>\n",
    "      <td>Blood Urea (bu)</td>\n",
    "      <td>Level of urea in blood, an indicator of kidney function.</td>\n",
    "      <td>Numerical (mg/dL)</td>\n",
    "      <td>36 mg/dL</td>\n",
    "    </tr>\n",
    "    <tr>\n",
    "      <td>Serum Creatinine (sc)</td>\n",
    "      <td>Level of creatinine in blood, a marker of kidney function.</td>\n",
    "      <td>Numerical (mg/dL)</td>\n",
    "      <td>1.2 mg/dL</td>\n",
    "    </tr>\n",
    "    <tr>\n",
    "      <td>Sodium (sod)</td>\n",
    "      <td>Level of sodium in blood, affecting kidney function.</td>\n",
    "      <td>Numerical (mEq/L)</td>\n",
    "      <td>140 mEq/L</td>\n",
    "    </tr>\n",
    "    <tr>\n",
    "      <td>Potassium (pot)</td>\n",
    "      <td>Level of potassium in blood, important for kidney function.</td>\n",
    "      <td>Numerical (mEq/L)</td>\n",
    "      <td>4.5 mEq/L</td>\n",
    "    </tr>\n",
    "    <tr>\n",
    "      <td>Hemoglobin (hemo)</td>\n",
    "      <td>Amount of hemoglobin in blood, can be low in kidney disease.</td>\n",
    "      <td>Numerical (g/dL)</td>\n",
    "      <td>13.5 g/dL</td>\n",
    "    </tr>\n",
    "    <tr>\n",
    "      <td>Packed Cell Volume (pcv)</td>\n",
    "      <td>Volume percentage of red blood cells in blood, related to kidney function.</td>\n",
    "      <td>Numerical (Percentage)</td>\n",
    "      <td>41%</td>\n",
    "    </tr>\n",
    "    <tr>\n",
    "      <td>White Blood Cell Count (wc)</td>\n",
    "      <td>Number of white blood cells in blood, indicating infection or inflammation.</td>\n",
    "      <td>Numerical (cells/cumm)</td>\n",
    "      <td>8400 cells/cumm</td>\n",
    "    </tr>\n",
    "    <tr>\n",
    "      <td>Red Blood Cell Count (rc)</td>\n",
    "      <td>Number of red blood cells in blood, related to overall blood health.</td>\n",
    "      <td>Numerical (millions/cumm)</td>\n",
    "      <td>5.2 millions/cumm</td>\n",
    "    </tr>\n",
    "    <tr>\n",
    "      <td>Hypertension (htn)</td>\n",
    "      <td>Indicates whether the patient has hypertension, often associated with CKD.</td>\n",
    "      <td>Categorical (yes, no)</td>\n",
    "      <td>yes</td>\n",
    "    </tr>\n",
    "    <tr>\n",
    "      <td>Diabetes Mellitus (dm)</td>\n",
    "      <td>Indicates whether the patient has diabetes mellitus, which is a risk factor for CKD.</td>\n",
    "      <td>Categorical (yes, no)</td>\n",
    "      <td>yes</td>\n",
    "    </tr>\n",
    "    <tr>\n",
    "      <td>Coronary Artery Disease (cad)</td>\n",
    "      <td>Indicates whether the patient has coronary artery disease, another risk factor for CKD.</td>\n",
    "      <td>Categorical (yes, no)</td>\n",
    "      <td>no</td>\n",
    "    </tr>\n",
    "    <tr>\n",
    "      <td>Appetite</td>\n",
    "      <td>Indicates the patient's appetite, which can be affected by CKD.</td>\n",
    "      <td>Categorical (good, poor)</td>\n",
    "      <td>good</td>\n",
    "    </tr>\n",
    "    <tr>\n",
    "      <td>Pedal Edema</td>\n",
    "      <td>Indicates whether the patient has swelling in the lower extremities, a common symptom in CKD.</td>\n",
    "      <td>Categorical (yes, no)</td>\n",
    "      <td>no</td>\n",
    "    </tr>\n",
    "    <tr>\n",
    "      <td>Anemia</td>\n",
    "      <td>Indicates whether the patient has anemia, which can be a complication of CKD.</td>\n",
    "      <td>Categorical (yes, no)</td>\n",
    "      <td>no</td>\n",
    "    </tr>\n",
    "    <tr>\n",
    "      <td>Class</td>\n",
    "      <td>Indicates whether the patient has CKD or not (the target variable).</td>\n",
    "      <td>Categorical (ckd, notckd)</td>\n",
    "      <td>ckd</td>\n",
    "    </tr>\n",
    "  </tbody>\n",
    "</table>\n"
   ]
  },
  {
   "cell_type": "markdown",
   "id": "65fa4a53",
   "metadata": {
    "papermill": {
     "duration": 0.023085,
     "end_time": "2024-08-11T09:09:36.382256",
     "exception": false,
     "start_time": "2024-08-11T09:09:36.359171",
     "status": "completed"
    },
    "tags": []
   },
   "source": [
    "# **Import Required Libraries**"
   ]
  },
  {
   "cell_type": "code",
   "execution_count": 2,
   "id": "30cfe3eb",
   "metadata": {
    "execution": {
     "iopub.execute_input": "2024-08-11T09:09:36.430232Z",
     "iopub.status.busy": "2024-08-11T09:09:36.429782Z",
     "iopub.status.idle": "2024-08-11T09:09:38.500450Z",
     "shell.execute_reply": "2024-08-11T09:09:38.499485Z"
    },
    "papermill": {
     "duration": 2.097584,
     "end_time": "2024-08-11T09:09:38.502878",
     "exception": false,
     "start_time": "2024-08-11T09:09:36.405294",
     "status": "completed"
    },
    "tags": []
   },
   "outputs": [],
   "source": [
    "import warnings\n",
    "warnings.filterwarnings('ignore')\n",
    "\n",
    "import os\n",
    "import numpy as np\n",
    "import pandas as pd\n",
    "import seaborn as sns\n",
    "import matplotlib.pyplot as plt\n",
    "sns.set()\n",
    "\n",
    "from sklearn.preprocessing import MinMaxScaler\n",
    "from sklearn.model_selection import train_test_split\n",
    "from sklearn.ensemble import AdaBoostClassifier, GradientBoostingClassifier\n",
    "from xgboost import XGBClassifier\n",
    "from sklearn.metrics import confusion_matrix, classification_report, accuracy_score\n"
   ]
  },
  {
   "cell_type": "code",
   "execution_count": 3,
   "id": "0f7ce6a7",
   "metadata": {
    "execution": {
     "iopub.execute_input": "2024-08-11T09:09:38.553255Z",
     "iopub.status.busy": "2024-08-11T09:09:38.552909Z",
     "iopub.status.idle": "2024-08-11T09:09:38.577186Z",
     "shell.execute_reply": "2024-08-11T09:09:38.576421Z"
    },
    "papermill": {
     "duration": 0.050504,
     "end_time": "2024-08-11T09:09:38.579121",
     "exception": false,
     "start_time": "2024-08-11T09:09:38.528617",
     "status": "completed"
    },
    "tags": []
   },
   "outputs": [],
   "source": [
    "dataset = pd.read_csv(r'/kaggle/input/ckdisease/kidney_disease.csv')"
   ]
  },
  {
   "cell_type": "code",
   "execution_count": 4,
   "id": "9e6a155a",
   "metadata": {
    "execution": {
     "iopub.execute_input": "2024-08-11T09:09:38.627647Z",
     "iopub.status.busy": "2024-08-11T09:09:38.626923Z",
     "iopub.status.idle": "2024-08-11T09:09:38.665839Z",
     "shell.execute_reply": "2024-08-11T09:09:38.665001Z"
    },
    "papermill": {
     "duration": 0.065024,
     "end_time": "2024-08-11T09:09:38.667912",
     "exception": false,
     "start_time": "2024-08-11T09:09:38.602888",
     "status": "completed"
    },
    "tags": []
   },
   "outputs": [
    {
     "data": {
      "text/html": [
       "<div>\n",
       "<style scoped>\n",
       "    .dataframe tbody tr th:only-of-type {\n",
       "        vertical-align: middle;\n",
       "    }\n",
       "\n",
       "    .dataframe tbody tr th {\n",
       "        vertical-align: top;\n",
       "    }\n",
       "\n",
       "    .dataframe thead th {\n",
       "        text-align: right;\n",
       "    }\n",
       "</style>\n",
       "<table border=\"1\" class=\"dataframe\">\n",
       "  <thead>\n",
       "    <tr style=\"text-align: right;\">\n",
       "      <th></th>\n",
       "      <th>id</th>\n",
       "      <th>age</th>\n",
       "      <th>bp</th>\n",
       "      <th>sg</th>\n",
       "      <th>al</th>\n",
       "      <th>su</th>\n",
       "      <th>rbc</th>\n",
       "      <th>pc</th>\n",
       "      <th>pcc</th>\n",
       "      <th>ba</th>\n",
       "      <th>...</th>\n",
       "      <th>pcv</th>\n",
       "      <th>wc</th>\n",
       "      <th>rc</th>\n",
       "      <th>htn</th>\n",
       "      <th>dm</th>\n",
       "      <th>cad</th>\n",
       "      <th>appet</th>\n",
       "      <th>pe</th>\n",
       "      <th>ane</th>\n",
       "      <th>classification</th>\n",
       "    </tr>\n",
       "  </thead>\n",
       "  <tbody>\n",
       "    <tr>\n",
       "      <th>0</th>\n",
       "      <td>0</td>\n",
       "      <td>48.0</td>\n",
       "      <td>80.0</td>\n",
       "      <td>1.020</td>\n",
       "      <td>1.0</td>\n",
       "      <td>0.0</td>\n",
       "      <td>NaN</td>\n",
       "      <td>normal</td>\n",
       "      <td>notpresent</td>\n",
       "      <td>notpresent</td>\n",
       "      <td>...</td>\n",
       "      <td>44</td>\n",
       "      <td>7800</td>\n",
       "      <td>5.2</td>\n",
       "      <td>yes</td>\n",
       "      <td>yes</td>\n",
       "      <td>no</td>\n",
       "      <td>good</td>\n",
       "      <td>no</td>\n",
       "      <td>no</td>\n",
       "      <td>ckd</td>\n",
       "    </tr>\n",
       "    <tr>\n",
       "      <th>1</th>\n",
       "      <td>1</td>\n",
       "      <td>7.0</td>\n",
       "      <td>50.0</td>\n",
       "      <td>1.020</td>\n",
       "      <td>4.0</td>\n",
       "      <td>0.0</td>\n",
       "      <td>NaN</td>\n",
       "      <td>normal</td>\n",
       "      <td>notpresent</td>\n",
       "      <td>notpresent</td>\n",
       "      <td>...</td>\n",
       "      <td>38</td>\n",
       "      <td>6000</td>\n",
       "      <td>NaN</td>\n",
       "      <td>no</td>\n",
       "      <td>no</td>\n",
       "      <td>no</td>\n",
       "      <td>good</td>\n",
       "      <td>no</td>\n",
       "      <td>no</td>\n",
       "      <td>ckd</td>\n",
       "    </tr>\n",
       "    <tr>\n",
       "      <th>2</th>\n",
       "      <td>2</td>\n",
       "      <td>62.0</td>\n",
       "      <td>80.0</td>\n",
       "      <td>1.010</td>\n",
       "      <td>2.0</td>\n",
       "      <td>3.0</td>\n",
       "      <td>normal</td>\n",
       "      <td>normal</td>\n",
       "      <td>notpresent</td>\n",
       "      <td>notpresent</td>\n",
       "      <td>...</td>\n",
       "      <td>31</td>\n",
       "      <td>7500</td>\n",
       "      <td>NaN</td>\n",
       "      <td>no</td>\n",
       "      <td>yes</td>\n",
       "      <td>no</td>\n",
       "      <td>poor</td>\n",
       "      <td>no</td>\n",
       "      <td>yes</td>\n",
       "      <td>ckd</td>\n",
       "    </tr>\n",
       "    <tr>\n",
       "      <th>3</th>\n",
       "      <td>3</td>\n",
       "      <td>48.0</td>\n",
       "      <td>70.0</td>\n",
       "      <td>1.005</td>\n",
       "      <td>4.0</td>\n",
       "      <td>0.0</td>\n",
       "      <td>normal</td>\n",
       "      <td>abnormal</td>\n",
       "      <td>present</td>\n",
       "      <td>notpresent</td>\n",
       "      <td>...</td>\n",
       "      <td>32</td>\n",
       "      <td>6700</td>\n",
       "      <td>3.9</td>\n",
       "      <td>yes</td>\n",
       "      <td>no</td>\n",
       "      <td>no</td>\n",
       "      <td>poor</td>\n",
       "      <td>yes</td>\n",
       "      <td>yes</td>\n",
       "      <td>ckd</td>\n",
       "    </tr>\n",
       "    <tr>\n",
       "      <th>4</th>\n",
       "      <td>4</td>\n",
       "      <td>51.0</td>\n",
       "      <td>80.0</td>\n",
       "      <td>1.010</td>\n",
       "      <td>2.0</td>\n",
       "      <td>0.0</td>\n",
       "      <td>normal</td>\n",
       "      <td>normal</td>\n",
       "      <td>notpresent</td>\n",
       "      <td>notpresent</td>\n",
       "      <td>...</td>\n",
       "      <td>35</td>\n",
       "      <td>7300</td>\n",
       "      <td>4.6</td>\n",
       "      <td>no</td>\n",
       "      <td>no</td>\n",
       "      <td>no</td>\n",
       "      <td>good</td>\n",
       "      <td>no</td>\n",
       "      <td>no</td>\n",
       "      <td>ckd</td>\n",
       "    </tr>\n",
       "  </tbody>\n",
       "</table>\n",
       "<p>5 rows × 26 columns</p>\n",
       "</div>"
      ],
      "text/plain": [
       "   id   age    bp     sg   al   su     rbc        pc         pcc          ba  \\\n",
       "0   0  48.0  80.0  1.020  1.0  0.0     NaN    normal  notpresent  notpresent   \n",
       "1   1   7.0  50.0  1.020  4.0  0.0     NaN    normal  notpresent  notpresent   \n",
       "2   2  62.0  80.0  1.010  2.0  3.0  normal    normal  notpresent  notpresent   \n",
       "3   3  48.0  70.0  1.005  4.0  0.0  normal  abnormal     present  notpresent   \n",
       "4   4  51.0  80.0  1.010  2.0  0.0  normal    normal  notpresent  notpresent   \n",
       "\n",
       "   ...  pcv    wc   rc  htn   dm  cad appet   pe  ane classification  \n",
       "0  ...   44  7800  5.2  yes  yes   no  good   no   no            ckd  \n",
       "1  ...   38  6000  NaN   no   no   no  good   no   no            ckd  \n",
       "2  ...   31  7500  NaN   no  yes   no  poor   no  yes            ckd  \n",
       "3  ...   32  6700  3.9  yes   no   no  poor  yes  yes            ckd  \n",
       "4  ...   35  7300  4.6   no   no   no  good   no   no            ckd  \n",
       "\n",
       "[5 rows x 26 columns]"
      ]
     },
     "execution_count": 4,
     "metadata": {},
     "output_type": "execute_result"
    }
   ],
   "source": [
    "dataset.head()"
   ]
  },
  {
   "cell_type": "code",
   "execution_count": 5,
   "id": "ed68d578",
   "metadata": {
    "execution": {
     "iopub.execute_input": "2024-08-11T09:09:38.730386Z",
     "iopub.status.busy": "2024-08-11T09:09:38.729392Z",
     "iopub.status.idle": "2024-08-11T09:09:38.741734Z",
     "shell.execute_reply": "2024-08-11T09:09:38.740772Z"
    },
    "papermill": {
     "duration": 0.04438,
     "end_time": "2024-08-11T09:09:38.743706",
     "exception": false,
     "start_time": "2024-08-11T09:09:38.699326",
     "status": "completed"
    },
    "tags": []
   },
   "outputs": [
    {
     "data": {
      "text/plain": [
       "id                 0.00\n",
       "age                2.25\n",
       "bp                 3.00\n",
       "sg                11.75\n",
       "al                11.50\n",
       "su                12.25\n",
       "rbc               38.00\n",
       "pc                16.25\n",
       "pcc                1.00\n",
       "ba                 1.00\n",
       "bgr               11.00\n",
       "bu                 4.75\n",
       "sc                 4.25\n",
       "sod               21.75\n",
       "pot               22.00\n",
       "hemo              13.00\n",
       "pcv               17.50\n",
       "wc                26.25\n",
       "rc                32.50\n",
       "htn                0.50\n",
       "dm                 0.50\n",
       "cad                0.50\n",
       "appet              0.25\n",
       "pe                 0.25\n",
       "ane                0.25\n",
       "classification     0.00\n",
       "dtype: float64"
      ]
     },
     "execution_count": 5,
     "metadata": {},
     "output_type": "execute_result"
    }
   ],
   "source": [
    "# Find null values in our dataset\n",
    "dataset.isnull().sum()/len(dataset)*100"
   ]
  },
  {
   "cell_type": "code",
   "execution_count": 6,
   "id": "4666f9f4",
   "metadata": {
    "execution": {
     "iopub.execute_input": "2024-08-11T09:09:38.832035Z",
     "iopub.status.busy": "2024-08-11T09:09:38.831671Z",
     "iopub.status.idle": "2024-08-11T09:09:38.839626Z",
     "shell.execute_reply": "2024-08-11T09:09:38.838681Z"
    },
    "papermill": {
     "duration": 0.035211,
     "end_time": "2024-08-11T09:09:38.841907",
     "exception": false,
     "start_time": "2024-08-11T09:09:38.806696",
     "status": "completed"
    },
    "tags": []
   },
   "outputs": [
    {
     "data": {
      "text/plain": [
       "id                  int64\n",
       "age               float64\n",
       "bp                float64\n",
       "sg                float64\n",
       "al                float64\n",
       "su                float64\n",
       "rbc                object\n",
       "pc                 object\n",
       "pcc                object\n",
       "ba                 object\n",
       "bgr               float64\n",
       "bu                float64\n",
       "sc                float64\n",
       "sod               float64\n",
       "pot               float64\n",
       "hemo              float64\n",
       "pcv                object\n",
       "wc                 object\n",
       "rc                 object\n",
       "htn                object\n",
       "dm                 object\n",
       "cad                object\n",
       "appet              object\n",
       "pe                 object\n",
       "ane                object\n",
       "classification     object\n",
       "dtype: object"
      ]
     },
     "execution_count": 6,
     "metadata": {},
     "output_type": "execute_result"
    }
   ],
   "source": [
    "dataset.dtypes"
   ]
  },
  {
   "cell_type": "code",
   "execution_count": 7,
   "id": "f660a233",
   "metadata": {
    "execution": {
     "iopub.execute_input": "2024-08-11T09:09:38.893129Z",
     "iopub.status.busy": "2024-08-11T09:09:38.892799Z",
     "iopub.status.idle": "2024-08-11T09:09:38.900370Z",
     "shell.execute_reply": "2024-08-11T09:09:38.899438Z"
    },
    "papermill": {
     "duration": 0.034558,
     "end_time": "2024-08-11T09:09:38.902370",
     "exception": false,
     "start_time": "2024-08-11T09:09:38.867812",
     "status": "completed"
    },
    "tags": []
   },
   "outputs": [
    {
     "data": {
      "text/plain": [
       "id                  int64\n",
       "age               float64\n",
       "bp                float64\n",
       "sg                float64\n",
       "al                float64\n",
       "su                float64\n",
       "rbc                object\n",
       "pc                 object\n",
       "pcc                object\n",
       "ba                 object\n",
       "bgr               float64\n",
       "bu                float64\n",
       "sc                float64\n",
       "sod               float64\n",
       "pot               float64\n",
       "hemo              float64\n",
       "pcv                object\n",
       "wc                 object\n",
       "rc                 object\n",
       "htn                object\n",
       "dm                 object\n",
       "cad                object\n",
       "appet              object\n",
       "pe                 object\n",
       "ane                object\n",
       "classification     object\n",
       "dtype: object"
      ]
     },
     "execution_count": 7,
     "metadata": {},
     "output_type": "execute_result"
    }
   ],
   "source": [
    "dataset.dtypes"
   ]
  },
  {
   "cell_type": "code",
   "execution_count": 8,
   "id": "4925aac9",
   "metadata": {
    "execution": {
     "iopub.execute_input": "2024-08-11T09:09:38.951685Z",
     "iopub.status.busy": "2024-08-11T09:09:38.951402Z",
     "iopub.status.idle": "2024-08-11T09:09:38.991940Z",
     "shell.execute_reply": "2024-08-11T09:09:38.991010Z"
    },
    "papermill": {
     "duration": 0.067724,
     "end_time": "2024-08-11T09:09:38.994078",
     "exception": false,
     "start_time": "2024-08-11T09:09:38.926354",
     "status": "completed"
    },
    "tags": []
   },
   "outputs": [
    {
     "data": {
      "text/html": [
       "<div>\n",
       "<style scoped>\n",
       "    .dataframe tbody tr th:only-of-type {\n",
       "        vertical-align: middle;\n",
       "    }\n",
       "\n",
       "    .dataframe tbody tr th {\n",
       "        vertical-align: top;\n",
       "    }\n",
       "\n",
       "    .dataframe thead th {\n",
       "        text-align: right;\n",
       "    }\n",
       "</style>\n",
       "<table border=\"1\" class=\"dataframe\">\n",
       "  <thead>\n",
       "    <tr style=\"text-align: right;\">\n",
       "      <th></th>\n",
       "      <th>id</th>\n",
       "      <th>age</th>\n",
       "      <th>bp</th>\n",
       "      <th>sg</th>\n",
       "      <th>al</th>\n",
       "      <th>su</th>\n",
       "      <th>bgr</th>\n",
       "      <th>bu</th>\n",
       "      <th>sc</th>\n",
       "      <th>sod</th>\n",
       "      <th>pot</th>\n",
       "      <th>hemo</th>\n",
       "    </tr>\n",
       "  </thead>\n",
       "  <tbody>\n",
       "    <tr>\n",
       "      <th>count</th>\n",
       "      <td>400.000000</td>\n",
       "      <td>391.000000</td>\n",
       "      <td>388.000000</td>\n",
       "      <td>353.000000</td>\n",
       "      <td>354.000000</td>\n",
       "      <td>351.000000</td>\n",
       "      <td>356.000000</td>\n",
       "      <td>381.000000</td>\n",
       "      <td>383.000000</td>\n",
       "      <td>313.000000</td>\n",
       "      <td>312.000000</td>\n",
       "      <td>348.000000</td>\n",
       "    </tr>\n",
       "    <tr>\n",
       "      <th>mean</th>\n",
       "      <td>199.500000</td>\n",
       "      <td>51.483376</td>\n",
       "      <td>76.469072</td>\n",
       "      <td>1.017408</td>\n",
       "      <td>1.016949</td>\n",
       "      <td>0.450142</td>\n",
       "      <td>148.036517</td>\n",
       "      <td>57.425722</td>\n",
       "      <td>3.072454</td>\n",
       "      <td>137.528754</td>\n",
       "      <td>4.627244</td>\n",
       "      <td>12.526437</td>\n",
       "    </tr>\n",
       "    <tr>\n",
       "      <th>std</th>\n",
       "      <td>115.614301</td>\n",
       "      <td>17.169714</td>\n",
       "      <td>13.683637</td>\n",
       "      <td>0.005717</td>\n",
       "      <td>1.352679</td>\n",
       "      <td>1.099191</td>\n",
       "      <td>79.281714</td>\n",
       "      <td>50.503006</td>\n",
       "      <td>5.741126</td>\n",
       "      <td>10.408752</td>\n",
       "      <td>3.193904</td>\n",
       "      <td>2.912587</td>\n",
       "    </tr>\n",
       "    <tr>\n",
       "      <th>min</th>\n",
       "      <td>0.000000</td>\n",
       "      <td>2.000000</td>\n",
       "      <td>50.000000</td>\n",
       "      <td>1.005000</td>\n",
       "      <td>0.000000</td>\n",
       "      <td>0.000000</td>\n",
       "      <td>22.000000</td>\n",
       "      <td>1.500000</td>\n",
       "      <td>0.400000</td>\n",
       "      <td>4.500000</td>\n",
       "      <td>2.500000</td>\n",
       "      <td>3.100000</td>\n",
       "    </tr>\n",
       "    <tr>\n",
       "      <th>25%</th>\n",
       "      <td>99.750000</td>\n",
       "      <td>42.000000</td>\n",
       "      <td>70.000000</td>\n",
       "      <td>1.010000</td>\n",
       "      <td>0.000000</td>\n",
       "      <td>0.000000</td>\n",
       "      <td>99.000000</td>\n",
       "      <td>27.000000</td>\n",
       "      <td>0.900000</td>\n",
       "      <td>135.000000</td>\n",
       "      <td>3.800000</td>\n",
       "      <td>10.300000</td>\n",
       "    </tr>\n",
       "    <tr>\n",
       "      <th>50%</th>\n",
       "      <td>199.500000</td>\n",
       "      <td>55.000000</td>\n",
       "      <td>80.000000</td>\n",
       "      <td>1.020000</td>\n",
       "      <td>0.000000</td>\n",
       "      <td>0.000000</td>\n",
       "      <td>121.000000</td>\n",
       "      <td>42.000000</td>\n",
       "      <td>1.300000</td>\n",
       "      <td>138.000000</td>\n",
       "      <td>4.400000</td>\n",
       "      <td>12.650000</td>\n",
       "    </tr>\n",
       "    <tr>\n",
       "      <th>75%</th>\n",
       "      <td>299.250000</td>\n",
       "      <td>64.500000</td>\n",
       "      <td>80.000000</td>\n",
       "      <td>1.020000</td>\n",
       "      <td>2.000000</td>\n",
       "      <td>0.000000</td>\n",
       "      <td>163.000000</td>\n",
       "      <td>66.000000</td>\n",
       "      <td>2.800000</td>\n",
       "      <td>142.000000</td>\n",
       "      <td>4.900000</td>\n",
       "      <td>15.000000</td>\n",
       "    </tr>\n",
       "    <tr>\n",
       "      <th>max</th>\n",
       "      <td>399.000000</td>\n",
       "      <td>90.000000</td>\n",
       "      <td>180.000000</td>\n",
       "      <td>1.025000</td>\n",
       "      <td>5.000000</td>\n",
       "      <td>5.000000</td>\n",
       "      <td>490.000000</td>\n",
       "      <td>391.000000</td>\n",
       "      <td>76.000000</td>\n",
       "      <td>163.000000</td>\n",
       "      <td>47.000000</td>\n",
       "      <td>17.800000</td>\n",
       "    </tr>\n",
       "  </tbody>\n",
       "</table>\n",
       "</div>"
      ],
      "text/plain": [
       "               id         age          bp          sg          al          su  \\\n",
       "count  400.000000  391.000000  388.000000  353.000000  354.000000  351.000000   \n",
       "mean   199.500000   51.483376   76.469072    1.017408    1.016949    0.450142   \n",
       "std    115.614301   17.169714   13.683637    0.005717    1.352679    1.099191   \n",
       "min      0.000000    2.000000   50.000000    1.005000    0.000000    0.000000   \n",
       "25%     99.750000   42.000000   70.000000    1.010000    0.000000    0.000000   \n",
       "50%    199.500000   55.000000   80.000000    1.020000    0.000000    0.000000   \n",
       "75%    299.250000   64.500000   80.000000    1.020000    2.000000    0.000000   \n",
       "max    399.000000   90.000000  180.000000    1.025000    5.000000    5.000000   \n",
       "\n",
       "              bgr          bu          sc         sod         pot        hemo  \n",
       "count  356.000000  381.000000  383.000000  313.000000  312.000000  348.000000  \n",
       "mean   148.036517   57.425722    3.072454  137.528754    4.627244   12.526437  \n",
       "std     79.281714   50.503006    5.741126   10.408752    3.193904    2.912587  \n",
       "min     22.000000    1.500000    0.400000    4.500000    2.500000    3.100000  \n",
       "25%     99.000000   27.000000    0.900000  135.000000    3.800000   10.300000  \n",
       "50%    121.000000   42.000000    1.300000  138.000000    4.400000   12.650000  \n",
       "75%    163.000000   66.000000    2.800000  142.000000    4.900000   15.000000  \n",
       "max    490.000000  391.000000   76.000000  163.000000   47.000000   17.800000  "
      ]
     },
     "execution_count": 8,
     "metadata": {},
     "output_type": "execute_result"
    }
   ],
   "source": [
    "dataset.describe()"
   ]
  },
  {
   "cell_type": "markdown",
   "id": "72d2df17",
   "metadata": {
    "papermill": {
     "duration": 0.034469,
     "end_time": "2024-08-11T09:09:39.057011",
     "exception": false,
     "start_time": "2024-08-11T09:09:39.022542",
     "status": "completed"
    },
    "tags": []
   },
   "source": [
    "As we can see that 'packed_cell_volume', 'white_blood_cell_count' and 'red_blood_cell_count' are object type. We need to change them to numerical dtype."
   ]
  },
  {
   "cell_type": "code",
   "execution_count": 9,
   "id": "ec74a556",
   "metadata": {
    "execution": {
     "iopub.execute_input": "2024-08-11T09:09:39.113234Z",
     "iopub.status.busy": "2024-08-11T09:09:39.112885Z",
     "iopub.status.idle": "2024-08-11T09:09:39.128597Z",
     "shell.execute_reply": "2024-08-11T09:09:39.127818Z"
    },
    "papermill": {
     "duration": 0.045604,
     "end_time": "2024-08-11T09:09:39.130761",
     "exception": false,
     "start_time": "2024-08-11T09:09:39.085157",
     "status": "completed"
    },
    "tags": []
   },
   "outputs": [],
   "source": [
    "from sklearn.impute import SimpleImputer\n",
    "from sklearn.compose import ColumnTransformer"
   ]
  },
  {
   "cell_type": "code",
   "execution_count": 10,
   "id": "a6c2c02c",
   "metadata": {
    "execution": {
     "iopub.execute_input": "2024-08-11T09:09:39.185825Z",
     "iopub.status.busy": "2024-08-11T09:09:39.185507Z",
     "iopub.status.idle": "2024-08-11T09:09:39.190041Z",
     "shell.execute_reply": "2024-08-11T09:09:39.189154Z"
    },
    "papermill": {
     "duration": 0.034514,
     "end_time": "2024-08-11T09:09:39.192199",
     "exception": false,
     "start_time": "2024-08-11T09:09:39.157685",
     "status": "completed"
    },
    "tags": []
   },
   "outputs": [],
   "source": [
    "imputer1 = SimpleImputer(strategy='mean')\n",
    "imputer2 = SimpleImputer(strategy='median')\n",
    "imputer3 = SimpleImputer(strategy='most_frequent')\n"
   ]
  },
  {
   "cell_type": "code",
   "execution_count": 11,
   "id": "cced573e",
   "metadata": {
    "execution": {
     "iopub.execute_input": "2024-08-11T09:09:39.244769Z",
     "iopub.status.busy": "2024-08-11T09:09:39.244493Z",
     "iopub.status.idle": "2024-08-11T09:09:39.250299Z",
     "shell.execute_reply": "2024-08-11T09:09:39.249448Z"
    },
    "papermill": {
     "duration": 0.034187,
     "end_time": "2024-08-11T09:09:39.252334",
     "exception": false,
     "start_time": "2024-08-11T09:09:39.218147",
     "status": "completed"
    },
    "tags": []
   },
   "outputs": [
    {
     "data": {
      "text/plain": [
       "Index(['id', 'age', 'bp', 'sg', 'al', 'su', 'rbc', 'pc', 'pcc', 'ba', 'bgr',\n",
       "       'bu', 'sc', 'sod', 'pot', 'hemo', 'pcv', 'wc', 'rc', 'htn', 'dm', 'cad',\n",
       "       'appet', 'pe', 'ane', 'classification'],\n",
       "      dtype='object')"
      ]
     },
     "execution_count": 11,
     "metadata": {},
     "output_type": "execute_result"
    }
   ],
   "source": [
    "dataset.columns"
   ]
  },
  {
   "cell_type": "code",
   "execution_count": 12,
   "id": "5f46161c",
   "metadata": {
    "execution": {
     "iopub.execute_input": "2024-08-11T09:09:39.303599Z",
     "iopub.status.busy": "2024-08-11T09:09:39.303338Z",
     "iopub.status.idle": "2024-08-11T09:09:39.308643Z",
     "shell.execute_reply": "2024-08-11T09:09:39.307706Z"
    },
    "papermill": {
     "duration": 0.033514,
     "end_time": "2024-08-11T09:09:39.310704",
     "exception": false,
     "start_time": "2024-08-11T09:09:39.277190",
     "status": "completed"
    },
    "tags": []
   },
   "outputs": [],
   "source": [
    "trf = ColumnTransformer([('imputer1', imputer1,['age','bp','sg','al','su','sod','pot', 'hemo']),\n",
    "                         ('imputer2', imputer2, ['bgr','bu','sc']),\n",
    "                         ('imputer3', imputer3,['rbc', 'pc', 'pcc', 'ba','pcv', 'wc', 'rc', 'htn', 'dm', 'cad','appet', 'pe', 'ane']),\n",
    "                         ],\n",
    "                          remainder='passthrough')"
   ]
  },
  {
   "cell_type": "code",
   "execution_count": 13,
   "id": "36a54e42",
   "metadata": {
    "execution": {
     "iopub.execute_input": "2024-08-11T09:09:39.363170Z",
     "iopub.status.busy": "2024-08-11T09:09:39.362875Z",
     "iopub.status.idle": "2024-08-11T09:09:39.386746Z",
     "shell.execute_reply": "2024-08-11T09:09:39.385879Z"
    },
    "papermill": {
     "duration": 0.051456,
     "end_time": "2024-08-11T09:09:39.388704",
     "exception": false,
     "start_time": "2024-08-11T09:09:39.337248",
     "status": "completed"
    },
    "tags": []
   },
   "outputs": [
    {
     "data": {
      "text/html": [
       "<div>\n",
       "<style scoped>\n",
       "    .dataframe tbody tr th:only-of-type {\n",
       "        vertical-align: middle;\n",
       "    }\n",
       "\n",
       "    .dataframe tbody tr th {\n",
       "        vertical-align: top;\n",
       "    }\n",
       "\n",
       "    .dataframe thead th {\n",
       "        text-align: right;\n",
       "    }\n",
       "</style>\n",
       "<table border=\"1\" class=\"dataframe\">\n",
       "  <thead>\n",
       "    <tr style=\"text-align: right;\">\n",
       "      <th></th>\n",
       "      <th>id</th>\n",
       "      <th>age</th>\n",
       "      <th>bp</th>\n",
       "      <th>sg</th>\n",
       "      <th>al</th>\n",
       "      <th>su</th>\n",
       "      <th>rbc</th>\n",
       "      <th>pc</th>\n",
       "      <th>pcc</th>\n",
       "      <th>ba</th>\n",
       "      <th>...</th>\n",
       "      <th>pcv</th>\n",
       "      <th>wc</th>\n",
       "      <th>rc</th>\n",
       "      <th>htn</th>\n",
       "      <th>dm</th>\n",
       "      <th>cad</th>\n",
       "      <th>appet</th>\n",
       "      <th>pe</th>\n",
       "      <th>ane</th>\n",
       "      <th>classification</th>\n",
       "    </tr>\n",
       "  </thead>\n",
       "  <tbody>\n",
       "    <tr>\n",
       "      <th>0</th>\n",
       "      <td>0</td>\n",
       "      <td>48.0</td>\n",
       "      <td>80.0</td>\n",
       "      <td>1.020</td>\n",
       "      <td>1.0</td>\n",
       "      <td>0.0</td>\n",
       "      <td>NaN</td>\n",
       "      <td>normal</td>\n",
       "      <td>notpresent</td>\n",
       "      <td>notpresent</td>\n",
       "      <td>...</td>\n",
       "      <td>44</td>\n",
       "      <td>7800</td>\n",
       "      <td>5.2</td>\n",
       "      <td>yes</td>\n",
       "      <td>yes</td>\n",
       "      <td>no</td>\n",
       "      <td>good</td>\n",
       "      <td>no</td>\n",
       "      <td>no</td>\n",
       "      <td>ckd</td>\n",
       "    </tr>\n",
       "    <tr>\n",
       "      <th>1</th>\n",
       "      <td>1</td>\n",
       "      <td>7.0</td>\n",
       "      <td>50.0</td>\n",
       "      <td>1.020</td>\n",
       "      <td>4.0</td>\n",
       "      <td>0.0</td>\n",
       "      <td>NaN</td>\n",
       "      <td>normal</td>\n",
       "      <td>notpresent</td>\n",
       "      <td>notpresent</td>\n",
       "      <td>...</td>\n",
       "      <td>38</td>\n",
       "      <td>6000</td>\n",
       "      <td>NaN</td>\n",
       "      <td>no</td>\n",
       "      <td>no</td>\n",
       "      <td>no</td>\n",
       "      <td>good</td>\n",
       "      <td>no</td>\n",
       "      <td>no</td>\n",
       "      <td>ckd</td>\n",
       "    </tr>\n",
       "    <tr>\n",
       "      <th>2</th>\n",
       "      <td>2</td>\n",
       "      <td>62.0</td>\n",
       "      <td>80.0</td>\n",
       "      <td>1.010</td>\n",
       "      <td>2.0</td>\n",
       "      <td>3.0</td>\n",
       "      <td>normal</td>\n",
       "      <td>normal</td>\n",
       "      <td>notpresent</td>\n",
       "      <td>notpresent</td>\n",
       "      <td>...</td>\n",
       "      <td>31</td>\n",
       "      <td>7500</td>\n",
       "      <td>NaN</td>\n",
       "      <td>no</td>\n",
       "      <td>yes</td>\n",
       "      <td>no</td>\n",
       "      <td>poor</td>\n",
       "      <td>no</td>\n",
       "      <td>yes</td>\n",
       "      <td>ckd</td>\n",
       "    </tr>\n",
       "    <tr>\n",
       "      <th>3</th>\n",
       "      <td>3</td>\n",
       "      <td>48.0</td>\n",
       "      <td>70.0</td>\n",
       "      <td>1.005</td>\n",
       "      <td>4.0</td>\n",
       "      <td>0.0</td>\n",
       "      <td>normal</td>\n",
       "      <td>abnormal</td>\n",
       "      <td>present</td>\n",
       "      <td>notpresent</td>\n",
       "      <td>...</td>\n",
       "      <td>32</td>\n",
       "      <td>6700</td>\n",
       "      <td>3.9</td>\n",
       "      <td>yes</td>\n",
       "      <td>no</td>\n",
       "      <td>no</td>\n",
       "      <td>poor</td>\n",
       "      <td>yes</td>\n",
       "      <td>yes</td>\n",
       "      <td>ckd</td>\n",
       "    </tr>\n",
       "    <tr>\n",
       "      <th>4</th>\n",
       "      <td>4</td>\n",
       "      <td>51.0</td>\n",
       "      <td>80.0</td>\n",
       "      <td>1.010</td>\n",
       "      <td>2.0</td>\n",
       "      <td>0.0</td>\n",
       "      <td>normal</td>\n",
       "      <td>normal</td>\n",
       "      <td>notpresent</td>\n",
       "      <td>notpresent</td>\n",
       "      <td>...</td>\n",
       "      <td>35</td>\n",
       "      <td>7300</td>\n",
       "      <td>4.6</td>\n",
       "      <td>no</td>\n",
       "      <td>no</td>\n",
       "      <td>no</td>\n",
       "      <td>good</td>\n",
       "      <td>no</td>\n",
       "      <td>no</td>\n",
       "      <td>ckd</td>\n",
       "    </tr>\n",
       "  </tbody>\n",
       "</table>\n",
       "<p>5 rows × 26 columns</p>\n",
       "</div>"
      ],
      "text/plain": [
       "   id   age    bp     sg   al   su     rbc        pc         pcc          ba  \\\n",
       "0   0  48.0  80.0  1.020  1.0  0.0     NaN    normal  notpresent  notpresent   \n",
       "1   1   7.0  50.0  1.020  4.0  0.0     NaN    normal  notpresent  notpresent   \n",
       "2   2  62.0  80.0  1.010  2.0  3.0  normal    normal  notpresent  notpresent   \n",
       "3   3  48.0  70.0  1.005  4.0  0.0  normal  abnormal     present  notpresent   \n",
       "4   4  51.0  80.0  1.010  2.0  0.0  normal    normal  notpresent  notpresent   \n",
       "\n",
       "   ...  pcv    wc   rc  htn   dm  cad appet   pe  ane classification  \n",
       "0  ...   44  7800  5.2  yes  yes   no  good   no   no            ckd  \n",
       "1  ...   38  6000  NaN   no   no   no  good   no   no            ckd  \n",
       "2  ...   31  7500  NaN   no  yes   no  poor   no  yes            ckd  \n",
       "3  ...   32  6700  3.9  yes   no   no  poor  yes  yes            ckd  \n",
       "4  ...   35  7300  4.6   no   no   no  good   no   no            ckd  \n",
       "\n",
       "[5 rows x 26 columns]"
      ]
     },
     "execution_count": 13,
     "metadata": {},
     "output_type": "execute_result"
    }
   ],
   "source": [
    "dataset1 = dataset.copy()\n",
    "dataset1.head()"
   ]
  },
  {
   "cell_type": "code",
   "execution_count": 14,
   "id": "025132df",
   "metadata": {
    "execution": {
     "iopub.execute_input": "2024-08-11T09:09:39.439662Z",
     "iopub.status.busy": "2024-08-11T09:09:39.439421Z",
     "iopub.status.idle": "2024-08-11T09:09:39.444093Z",
     "shell.execute_reply": "2024-08-11T09:09:39.443347Z"
    },
    "papermill": {
     "duration": 0.032383,
     "end_time": "2024-08-11T09:09:39.445874",
     "exception": false,
     "start_time": "2024-08-11T09:09:39.413491",
     "status": "completed"
    },
    "tags": []
   },
   "outputs": [],
   "source": [
    "dataset1 = dataset1.drop(['id'], axis=1)"
   ]
  },
  {
   "cell_type": "code",
   "execution_count": 15,
   "id": "db1335b3",
   "metadata": {
    "execution": {
     "iopub.execute_input": "2024-08-11T09:09:39.497635Z",
     "iopub.status.busy": "2024-08-11T09:09:39.497394Z",
     "iopub.status.idle": "2024-08-11T09:09:39.511839Z",
     "shell.execute_reply": "2024-08-11T09:09:39.510841Z"
    },
    "papermill": {
     "duration": 0.042523,
     "end_time": "2024-08-11T09:09:39.514073",
     "exception": false,
     "start_time": "2024-08-11T09:09:39.471550",
     "status": "completed"
    },
    "tags": []
   },
   "outputs": [
    {
     "data": {
      "text/html": [
       "<style>#sk-container-id-1 {color: black;background-color: white;}#sk-container-id-1 pre{padding: 0;}#sk-container-id-1 div.sk-toggleable {background-color: white;}#sk-container-id-1 label.sk-toggleable__label {cursor: pointer;display: block;width: 100%;margin-bottom: 0;padding: 0.3em;box-sizing: border-box;text-align: center;}#sk-container-id-1 label.sk-toggleable__label-arrow:before {content: \"▸\";float: left;margin-right: 0.25em;color: #696969;}#sk-container-id-1 label.sk-toggleable__label-arrow:hover:before {color: black;}#sk-container-id-1 div.sk-estimator:hover label.sk-toggleable__label-arrow:before {color: black;}#sk-container-id-1 div.sk-toggleable__content {max-height: 0;max-width: 0;overflow: hidden;text-align: left;background-color: #f0f8ff;}#sk-container-id-1 div.sk-toggleable__content pre {margin: 0.2em;color: black;border-radius: 0.25em;background-color: #f0f8ff;}#sk-container-id-1 input.sk-toggleable__control:checked~div.sk-toggleable__content {max-height: 200px;max-width: 100%;overflow: auto;}#sk-container-id-1 input.sk-toggleable__control:checked~label.sk-toggleable__label-arrow:before {content: \"▾\";}#sk-container-id-1 div.sk-estimator input.sk-toggleable__control:checked~label.sk-toggleable__label {background-color: #d4ebff;}#sk-container-id-1 div.sk-label input.sk-toggleable__control:checked~label.sk-toggleable__label {background-color: #d4ebff;}#sk-container-id-1 input.sk-hidden--visually {border: 0;clip: rect(1px 1px 1px 1px);clip: rect(1px, 1px, 1px, 1px);height: 1px;margin: -1px;overflow: hidden;padding: 0;position: absolute;width: 1px;}#sk-container-id-1 div.sk-estimator {font-family: monospace;background-color: #f0f8ff;border: 1px dotted black;border-radius: 0.25em;box-sizing: border-box;margin-bottom: 0.5em;}#sk-container-id-1 div.sk-estimator:hover {background-color: #d4ebff;}#sk-container-id-1 div.sk-parallel-item::after {content: \"\";width: 100%;border-bottom: 1px solid gray;flex-grow: 1;}#sk-container-id-1 div.sk-label:hover label.sk-toggleable__label {background-color: #d4ebff;}#sk-container-id-1 div.sk-serial::before {content: \"\";position: absolute;border-left: 1px solid gray;box-sizing: border-box;top: 0;bottom: 0;left: 50%;z-index: 0;}#sk-container-id-1 div.sk-serial {display: flex;flex-direction: column;align-items: center;background-color: white;padding-right: 0.2em;padding-left: 0.2em;position: relative;}#sk-container-id-1 div.sk-item {position: relative;z-index: 1;}#sk-container-id-1 div.sk-parallel {display: flex;align-items: stretch;justify-content: center;background-color: white;position: relative;}#sk-container-id-1 div.sk-item::before, #sk-container-id-1 div.sk-parallel-item::before {content: \"\";position: absolute;border-left: 1px solid gray;box-sizing: border-box;top: 0;bottom: 0;left: 50%;z-index: -1;}#sk-container-id-1 div.sk-parallel-item {display: flex;flex-direction: column;z-index: 1;position: relative;background-color: white;}#sk-container-id-1 div.sk-parallel-item:first-child::after {align-self: flex-end;width: 50%;}#sk-container-id-1 div.sk-parallel-item:last-child::after {align-self: flex-start;width: 50%;}#sk-container-id-1 div.sk-parallel-item:only-child::after {width: 0;}#sk-container-id-1 div.sk-dashed-wrapped {border: 1px dashed gray;margin: 0 0.4em 0.5em 0.4em;box-sizing: border-box;padding-bottom: 0.4em;background-color: white;}#sk-container-id-1 div.sk-label label {font-family: monospace;font-weight: bold;display: inline-block;line-height: 1.2em;}#sk-container-id-1 div.sk-label-container {text-align: center;}#sk-container-id-1 div.sk-container {/* jupyter's `normalize.less` sets `[hidden] { display: none; }` but bootstrap.min.css set `[hidden] { display: none !important; }` so we also need the `!important` here to be able to override the default hidden behavior on the sphinx rendered scikit-learn.org. See: https://github.com/scikit-learn/scikit-learn/issues/21755 */display: inline-block !important;position: relative;}#sk-container-id-1 div.sk-text-repr-fallback {display: none;}</style><div id=\"sk-container-id-1\" class=\"sk-top-container\"><div class=\"sk-text-repr-fallback\"><pre>ColumnTransformer(remainder=&#x27;passthrough&#x27;,\n",
       "                  transformers=[(&#x27;imputer1&#x27;, SimpleImputer(),\n",
       "                                 [&#x27;age&#x27;, &#x27;bp&#x27;, &#x27;sg&#x27;, &#x27;al&#x27;, &#x27;su&#x27;, &#x27;sod&#x27;, &#x27;pot&#x27;,\n",
       "                                  &#x27;hemo&#x27;]),\n",
       "                                (&#x27;imputer2&#x27;, SimpleImputer(strategy=&#x27;median&#x27;),\n",
       "                                 [&#x27;bgr&#x27;, &#x27;bu&#x27;, &#x27;sc&#x27;]),\n",
       "                                (&#x27;imputer3&#x27;,\n",
       "                                 SimpleImputer(strategy=&#x27;most_frequent&#x27;),\n",
       "                                 [&#x27;rbc&#x27;, &#x27;pc&#x27;, &#x27;pcc&#x27;, &#x27;ba&#x27;, &#x27;pcv&#x27;, &#x27;wc&#x27;, &#x27;rc&#x27;,\n",
       "                                  &#x27;htn&#x27;, &#x27;dm&#x27;, &#x27;cad&#x27;, &#x27;appet&#x27;, &#x27;pe&#x27;, &#x27;ane&#x27;])])</pre><b>In a Jupyter environment, please rerun this cell to show the HTML representation or trust the notebook. <br />On GitHub, the HTML representation is unable to render, please try loading this page with nbviewer.org.</b></div><div class=\"sk-container\" hidden><div class=\"sk-item sk-dashed-wrapped\"><div class=\"sk-label-container\"><div class=\"sk-label sk-toggleable\"><input class=\"sk-toggleable__control sk-hidden--visually\" id=\"sk-estimator-id-1\" type=\"checkbox\" ><label for=\"sk-estimator-id-1\" class=\"sk-toggleable__label sk-toggleable__label-arrow\">ColumnTransformer</label><div class=\"sk-toggleable__content\"><pre>ColumnTransformer(remainder=&#x27;passthrough&#x27;,\n",
       "                  transformers=[(&#x27;imputer1&#x27;, SimpleImputer(),\n",
       "                                 [&#x27;age&#x27;, &#x27;bp&#x27;, &#x27;sg&#x27;, &#x27;al&#x27;, &#x27;su&#x27;, &#x27;sod&#x27;, &#x27;pot&#x27;,\n",
       "                                  &#x27;hemo&#x27;]),\n",
       "                                (&#x27;imputer2&#x27;, SimpleImputer(strategy=&#x27;median&#x27;),\n",
       "                                 [&#x27;bgr&#x27;, &#x27;bu&#x27;, &#x27;sc&#x27;]),\n",
       "                                (&#x27;imputer3&#x27;,\n",
       "                                 SimpleImputer(strategy=&#x27;most_frequent&#x27;),\n",
       "                                 [&#x27;rbc&#x27;, &#x27;pc&#x27;, &#x27;pcc&#x27;, &#x27;ba&#x27;, &#x27;pcv&#x27;, &#x27;wc&#x27;, &#x27;rc&#x27;,\n",
       "                                  &#x27;htn&#x27;, &#x27;dm&#x27;, &#x27;cad&#x27;, &#x27;appet&#x27;, &#x27;pe&#x27;, &#x27;ane&#x27;])])</pre></div></div></div><div class=\"sk-parallel\"><div class=\"sk-parallel-item\"><div class=\"sk-item\"><div class=\"sk-label-container\"><div class=\"sk-label sk-toggleable\"><input class=\"sk-toggleable__control sk-hidden--visually\" id=\"sk-estimator-id-2\" type=\"checkbox\" ><label for=\"sk-estimator-id-2\" class=\"sk-toggleable__label sk-toggleable__label-arrow\">imputer1</label><div class=\"sk-toggleable__content\"><pre>[&#x27;age&#x27;, &#x27;bp&#x27;, &#x27;sg&#x27;, &#x27;al&#x27;, &#x27;su&#x27;, &#x27;sod&#x27;, &#x27;pot&#x27;, &#x27;hemo&#x27;]</pre></div></div></div><div class=\"sk-serial\"><div class=\"sk-item\"><div class=\"sk-estimator sk-toggleable\"><input class=\"sk-toggleable__control sk-hidden--visually\" id=\"sk-estimator-id-3\" type=\"checkbox\" ><label for=\"sk-estimator-id-3\" class=\"sk-toggleable__label sk-toggleable__label-arrow\">SimpleImputer</label><div class=\"sk-toggleable__content\"><pre>SimpleImputer()</pre></div></div></div></div></div></div><div class=\"sk-parallel-item\"><div class=\"sk-item\"><div class=\"sk-label-container\"><div class=\"sk-label sk-toggleable\"><input class=\"sk-toggleable__control sk-hidden--visually\" id=\"sk-estimator-id-4\" type=\"checkbox\" ><label for=\"sk-estimator-id-4\" class=\"sk-toggleable__label sk-toggleable__label-arrow\">imputer2</label><div class=\"sk-toggleable__content\"><pre>[&#x27;bgr&#x27;, &#x27;bu&#x27;, &#x27;sc&#x27;]</pre></div></div></div><div class=\"sk-serial\"><div class=\"sk-item\"><div class=\"sk-estimator sk-toggleable\"><input class=\"sk-toggleable__control sk-hidden--visually\" id=\"sk-estimator-id-5\" type=\"checkbox\" ><label for=\"sk-estimator-id-5\" class=\"sk-toggleable__label sk-toggleable__label-arrow\">SimpleImputer</label><div class=\"sk-toggleable__content\"><pre>SimpleImputer(strategy=&#x27;median&#x27;)</pre></div></div></div></div></div></div><div class=\"sk-parallel-item\"><div class=\"sk-item\"><div class=\"sk-label-container\"><div class=\"sk-label sk-toggleable\"><input class=\"sk-toggleable__control sk-hidden--visually\" id=\"sk-estimator-id-6\" type=\"checkbox\" ><label for=\"sk-estimator-id-6\" class=\"sk-toggleable__label sk-toggleable__label-arrow\">imputer3</label><div class=\"sk-toggleable__content\"><pre>[&#x27;rbc&#x27;, &#x27;pc&#x27;, &#x27;pcc&#x27;, &#x27;ba&#x27;, &#x27;pcv&#x27;, &#x27;wc&#x27;, &#x27;rc&#x27;, &#x27;htn&#x27;, &#x27;dm&#x27;, &#x27;cad&#x27;, &#x27;appet&#x27;, &#x27;pe&#x27;, &#x27;ane&#x27;]</pre></div></div></div><div class=\"sk-serial\"><div class=\"sk-item\"><div class=\"sk-estimator sk-toggleable\"><input class=\"sk-toggleable__control sk-hidden--visually\" id=\"sk-estimator-id-7\" type=\"checkbox\" ><label for=\"sk-estimator-id-7\" class=\"sk-toggleable__label sk-toggleable__label-arrow\">SimpleImputer</label><div class=\"sk-toggleable__content\"><pre>SimpleImputer(strategy=&#x27;most_frequent&#x27;)</pre></div></div></div></div></div></div><div class=\"sk-parallel-item\"><div class=\"sk-item\"><div class=\"sk-label-container\"><div class=\"sk-label sk-toggleable\"><input class=\"sk-toggleable__control sk-hidden--visually\" id=\"sk-estimator-id-8\" type=\"checkbox\" ><label for=\"sk-estimator-id-8\" class=\"sk-toggleable__label sk-toggleable__label-arrow\">remainder</label><div class=\"sk-toggleable__content\"><pre></pre></div></div></div><div class=\"sk-serial\"><div class=\"sk-item\"><div class=\"sk-estimator sk-toggleable\"><input class=\"sk-toggleable__control sk-hidden--visually\" id=\"sk-estimator-id-9\" type=\"checkbox\" ><label for=\"sk-estimator-id-9\" class=\"sk-toggleable__label sk-toggleable__label-arrow\">passthrough</label><div class=\"sk-toggleable__content\"><pre>passthrough</pre></div></div></div></div></div></div></div></div></div></div>"
      ],
      "text/plain": [
       "ColumnTransformer(remainder='passthrough',\n",
       "                  transformers=[('imputer1', SimpleImputer(),\n",
       "                                 ['age', 'bp', 'sg', 'al', 'su', 'sod', 'pot',\n",
       "                                  'hemo']),\n",
       "                                ('imputer2', SimpleImputer(strategy='median'),\n",
       "                                 ['bgr', 'bu', 'sc']),\n",
       "                                ('imputer3',\n",
       "                                 SimpleImputer(strategy='most_frequent'),\n",
       "                                 ['rbc', 'pc', 'pcc', 'ba', 'pcv', 'wc', 'rc',\n",
       "                                  'htn', 'dm', 'cad', 'appet', 'pe', 'ane'])])"
      ]
     },
     "execution_count": 15,
     "metadata": {},
     "output_type": "execute_result"
    }
   ],
   "source": [
    "trf"
   ]
  },
  {
   "cell_type": "code",
   "execution_count": 16,
   "id": "adb82cc6",
   "metadata": {
    "execution": {
     "iopub.execute_input": "2024-08-11T09:09:39.566400Z",
     "iopub.status.busy": "2024-08-11T09:09:39.566159Z",
     "iopub.status.idle": "2024-08-11T09:09:39.606490Z",
     "shell.execute_reply": "2024-08-11T09:09:39.605539Z"
    },
    "papermill": {
     "duration": 0.068163,
     "end_time": "2024-08-11T09:09:39.608469",
     "exception": false,
     "start_time": "2024-08-11T09:09:39.540306",
     "status": "completed"
    },
    "tags": []
   },
   "outputs": [
    {
     "data": {
      "text/html": [
       "<div>\n",
       "<style scoped>\n",
       "    .dataframe tbody tr th:only-of-type {\n",
       "        vertical-align: middle;\n",
       "    }\n",
       "\n",
       "    .dataframe tbody tr th {\n",
       "        vertical-align: top;\n",
       "    }\n",
       "\n",
       "    .dataframe thead th {\n",
       "        text-align: right;\n",
       "    }\n",
       "</style>\n",
       "<table border=\"1\" class=\"dataframe\">\n",
       "  <thead>\n",
       "    <tr style=\"text-align: right;\">\n",
       "      <th></th>\n",
       "      <th>0</th>\n",
       "      <th>1</th>\n",
       "      <th>2</th>\n",
       "      <th>3</th>\n",
       "      <th>4</th>\n",
       "      <th>5</th>\n",
       "      <th>6</th>\n",
       "      <th>7</th>\n",
       "      <th>8</th>\n",
       "      <th>9</th>\n",
       "      <th>...</th>\n",
       "      <th>15</th>\n",
       "      <th>16</th>\n",
       "      <th>17</th>\n",
       "      <th>18</th>\n",
       "      <th>19</th>\n",
       "      <th>20</th>\n",
       "      <th>21</th>\n",
       "      <th>22</th>\n",
       "      <th>23</th>\n",
       "      <th>24</th>\n",
       "    </tr>\n",
       "  </thead>\n",
       "  <tbody>\n",
       "    <tr>\n",
       "      <th>0</th>\n",
       "      <td>48.0</td>\n",
       "      <td>80.0</td>\n",
       "      <td>1.02</td>\n",
       "      <td>1.0</td>\n",
       "      <td>0.0</td>\n",
       "      <td>137.528754</td>\n",
       "      <td>4.627244</td>\n",
       "      <td>15.4</td>\n",
       "      <td>121.0</td>\n",
       "      <td>36.0</td>\n",
       "      <td>...</td>\n",
       "      <td>44</td>\n",
       "      <td>7800</td>\n",
       "      <td>5.2</td>\n",
       "      <td>yes</td>\n",
       "      <td>yes</td>\n",
       "      <td>no</td>\n",
       "      <td>good</td>\n",
       "      <td>no</td>\n",
       "      <td>no</td>\n",
       "      <td>ckd</td>\n",
       "    </tr>\n",
       "    <tr>\n",
       "      <th>1</th>\n",
       "      <td>7.0</td>\n",
       "      <td>50.0</td>\n",
       "      <td>1.02</td>\n",
       "      <td>4.0</td>\n",
       "      <td>0.0</td>\n",
       "      <td>137.528754</td>\n",
       "      <td>4.627244</td>\n",
       "      <td>11.3</td>\n",
       "      <td>121.0</td>\n",
       "      <td>18.0</td>\n",
       "      <td>...</td>\n",
       "      <td>38</td>\n",
       "      <td>6000</td>\n",
       "      <td>5.2</td>\n",
       "      <td>no</td>\n",
       "      <td>no</td>\n",
       "      <td>no</td>\n",
       "      <td>good</td>\n",
       "      <td>no</td>\n",
       "      <td>no</td>\n",
       "      <td>ckd</td>\n",
       "    </tr>\n",
       "    <tr>\n",
       "      <th>2</th>\n",
       "      <td>62.0</td>\n",
       "      <td>80.0</td>\n",
       "      <td>1.01</td>\n",
       "      <td>2.0</td>\n",
       "      <td>3.0</td>\n",
       "      <td>137.528754</td>\n",
       "      <td>4.627244</td>\n",
       "      <td>9.6</td>\n",
       "      <td>423.0</td>\n",
       "      <td>53.0</td>\n",
       "      <td>...</td>\n",
       "      <td>31</td>\n",
       "      <td>7500</td>\n",
       "      <td>5.2</td>\n",
       "      <td>no</td>\n",
       "      <td>yes</td>\n",
       "      <td>no</td>\n",
       "      <td>poor</td>\n",
       "      <td>no</td>\n",
       "      <td>yes</td>\n",
       "      <td>ckd</td>\n",
       "    </tr>\n",
       "    <tr>\n",
       "      <th>3</th>\n",
       "      <td>48.0</td>\n",
       "      <td>70.0</td>\n",
       "      <td>1.005</td>\n",
       "      <td>4.0</td>\n",
       "      <td>0.0</td>\n",
       "      <td>111.0</td>\n",
       "      <td>2.5</td>\n",
       "      <td>11.2</td>\n",
       "      <td>117.0</td>\n",
       "      <td>56.0</td>\n",
       "      <td>...</td>\n",
       "      <td>32</td>\n",
       "      <td>6700</td>\n",
       "      <td>3.9</td>\n",
       "      <td>yes</td>\n",
       "      <td>no</td>\n",
       "      <td>no</td>\n",
       "      <td>poor</td>\n",
       "      <td>yes</td>\n",
       "      <td>yes</td>\n",
       "      <td>ckd</td>\n",
       "    </tr>\n",
       "    <tr>\n",
       "      <th>4</th>\n",
       "      <td>51.0</td>\n",
       "      <td>80.0</td>\n",
       "      <td>1.01</td>\n",
       "      <td>2.0</td>\n",
       "      <td>0.0</td>\n",
       "      <td>137.528754</td>\n",
       "      <td>4.627244</td>\n",
       "      <td>11.6</td>\n",
       "      <td>106.0</td>\n",
       "      <td>26.0</td>\n",
       "      <td>...</td>\n",
       "      <td>35</td>\n",
       "      <td>7300</td>\n",
       "      <td>4.6</td>\n",
       "      <td>no</td>\n",
       "      <td>no</td>\n",
       "      <td>no</td>\n",
       "      <td>good</td>\n",
       "      <td>no</td>\n",
       "      <td>no</td>\n",
       "      <td>ckd</td>\n",
       "    </tr>\n",
       "    <tr>\n",
       "      <th>...</th>\n",
       "      <td>...</td>\n",
       "      <td>...</td>\n",
       "      <td>...</td>\n",
       "      <td>...</td>\n",
       "      <td>...</td>\n",
       "      <td>...</td>\n",
       "      <td>...</td>\n",
       "      <td>...</td>\n",
       "      <td>...</td>\n",
       "      <td>...</td>\n",
       "      <td>...</td>\n",
       "      <td>...</td>\n",
       "      <td>...</td>\n",
       "      <td>...</td>\n",
       "      <td>...</td>\n",
       "      <td>...</td>\n",
       "      <td>...</td>\n",
       "      <td>...</td>\n",
       "      <td>...</td>\n",
       "      <td>...</td>\n",
       "      <td>...</td>\n",
       "    </tr>\n",
       "    <tr>\n",
       "      <th>395</th>\n",
       "      <td>55.0</td>\n",
       "      <td>80.0</td>\n",
       "      <td>1.02</td>\n",
       "      <td>0.0</td>\n",
       "      <td>0.0</td>\n",
       "      <td>150.0</td>\n",
       "      <td>4.9</td>\n",
       "      <td>15.7</td>\n",
       "      <td>140.0</td>\n",
       "      <td>49.0</td>\n",
       "      <td>...</td>\n",
       "      <td>47</td>\n",
       "      <td>6700</td>\n",
       "      <td>4.9</td>\n",
       "      <td>no</td>\n",
       "      <td>no</td>\n",
       "      <td>no</td>\n",
       "      <td>good</td>\n",
       "      <td>no</td>\n",
       "      <td>no</td>\n",
       "      <td>notckd</td>\n",
       "    </tr>\n",
       "    <tr>\n",
       "      <th>396</th>\n",
       "      <td>42.0</td>\n",
       "      <td>70.0</td>\n",
       "      <td>1.025</td>\n",
       "      <td>0.0</td>\n",
       "      <td>0.0</td>\n",
       "      <td>141.0</td>\n",
       "      <td>3.5</td>\n",
       "      <td>16.5</td>\n",
       "      <td>75.0</td>\n",
       "      <td>31.0</td>\n",
       "      <td>...</td>\n",
       "      <td>54</td>\n",
       "      <td>7800</td>\n",
       "      <td>6.2</td>\n",
       "      <td>no</td>\n",
       "      <td>no</td>\n",
       "      <td>no</td>\n",
       "      <td>good</td>\n",
       "      <td>no</td>\n",
       "      <td>no</td>\n",
       "      <td>notckd</td>\n",
       "    </tr>\n",
       "    <tr>\n",
       "      <th>397</th>\n",
       "      <td>12.0</td>\n",
       "      <td>80.0</td>\n",
       "      <td>1.02</td>\n",
       "      <td>0.0</td>\n",
       "      <td>0.0</td>\n",
       "      <td>137.0</td>\n",
       "      <td>4.4</td>\n",
       "      <td>15.8</td>\n",
       "      <td>100.0</td>\n",
       "      <td>26.0</td>\n",
       "      <td>...</td>\n",
       "      <td>49</td>\n",
       "      <td>6600</td>\n",
       "      <td>5.4</td>\n",
       "      <td>no</td>\n",
       "      <td>no</td>\n",
       "      <td>no</td>\n",
       "      <td>good</td>\n",
       "      <td>no</td>\n",
       "      <td>no</td>\n",
       "      <td>notckd</td>\n",
       "    </tr>\n",
       "    <tr>\n",
       "      <th>398</th>\n",
       "      <td>17.0</td>\n",
       "      <td>60.0</td>\n",
       "      <td>1.025</td>\n",
       "      <td>0.0</td>\n",
       "      <td>0.0</td>\n",
       "      <td>135.0</td>\n",
       "      <td>4.9</td>\n",
       "      <td>14.2</td>\n",
       "      <td>114.0</td>\n",
       "      <td>50.0</td>\n",
       "      <td>...</td>\n",
       "      <td>51</td>\n",
       "      <td>7200</td>\n",
       "      <td>5.9</td>\n",
       "      <td>no</td>\n",
       "      <td>no</td>\n",
       "      <td>no</td>\n",
       "      <td>good</td>\n",
       "      <td>no</td>\n",
       "      <td>no</td>\n",
       "      <td>notckd</td>\n",
       "    </tr>\n",
       "    <tr>\n",
       "      <th>399</th>\n",
       "      <td>58.0</td>\n",
       "      <td>80.0</td>\n",
       "      <td>1.025</td>\n",
       "      <td>0.0</td>\n",
       "      <td>0.0</td>\n",
       "      <td>141.0</td>\n",
       "      <td>3.5</td>\n",
       "      <td>15.8</td>\n",
       "      <td>131.0</td>\n",
       "      <td>18.0</td>\n",
       "      <td>...</td>\n",
       "      <td>53</td>\n",
       "      <td>6800</td>\n",
       "      <td>6.1</td>\n",
       "      <td>no</td>\n",
       "      <td>no</td>\n",
       "      <td>no</td>\n",
       "      <td>good</td>\n",
       "      <td>no</td>\n",
       "      <td>no</td>\n",
       "      <td>notckd</td>\n",
       "    </tr>\n",
       "  </tbody>\n",
       "</table>\n",
       "<p>400 rows × 25 columns</p>\n",
       "</div>"
      ],
      "text/plain": [
       "       0     1      2    3    4           5         6     7      8     9   \\\n",
       "0    48.0  80.0   1.02  1.0  0.0  137.528754  4.627244  15.4  121.0  36.0   \n",
       "1     7.0  50.0   1.02  4.0  0.0  137.528754  4.627244  11.3  121.0  18.0   \n",
       "2    62.0  80.0   1.01  2.0  3.0  137.528754  4.627244   9.6  423.0  53.0   \n",
       "3    48.0  70.0  1.005  4.0  0.0       111.0       2.5  11.2  117.0  56.0   \n",
       "4    51.0  80.0   1.01  2.0  0.0  137.528754  4.627244  11.6  106.0  26.0   \n",
       "..    ...   ...    ...  ...  ...         ...       ...   ...    ...   ...   \n",
       "395  55.0  80.0   1.02  0.0  0.0       150.0       4.9  15.7  140.0  49.0   \n",
       "396  42.0  70.0  1.025  0.0  0.0       141.0       3.5  16.5   75.0  31.0   \n",
       "397  12.0  80.0   1.02  0.0  0.0       137.0       4.4  15.8  100.0  26.0   \n",
       "398  17.0  60.0  1.025  0.0  0.0       135.0       4.9  14.2  114.0  50.0   \n",
       "399  58.0  80.0  1.025  0.0  0.0       141.0       3.5  15.8  131.0  18.0   \n",
       "\n",
       "     ...  15    16   17   18   19  20    21   22   23      24  \n",
       "0    ...  44  7800  5.2  yes  yes  no  good   no   no     ckd  \n",
       "1    ...  38  6000  5.2   no   no  no  good   no   no     ckd  \n",
       "2    ...  31  7500  5.2   no  yes  no  poor   no  yes     ckd  \n",
       "3    ...  32  6700  3.9  yes   no  no  poor  yes  yes     ckd  \n",
       "4    ...  35  7300  4.6   no   no  no  good   no   no     ckd  \n",
       "..   ...  ..   ...  ...  ...  ...  ..   ...  ...  ...     ...  \n",
       "395  ...  47  6700  4.9   no   no  no  good   no   no  notckd  \n",
       "396  ...  54  7800  6.2   no   no  no  good   no   no  notckd  \n",
       "397  ...  49  6600  5.4   no   no  no  good   no   no  notckd  \n",
       "398  ...  51  7200  5.9   no   no  no  good   no   no  notckd  \n",
       "399  ...  53  6800  6.1   no   no  no  good   no   no  notckd  \n",
       "\n",
       "[400 rows x 25 columns]"
      ]
     },
     "execution_count": 16,
     "metadata": {},
     "output_type": "execute_result"
    }
   ],
   "source": [
    "df_imputed = pd.DataFrame(trf.fit_transform(dataset1))\n",
    "#df_imputed.columns = dataset1.columns\n",
    "df_imputed"
   ]
  },
  {
   "cell_type": "code",
   "execution_count": 17,
   "id": "e197962c",
   "metadata": {
    "execution": {
     "iopub.execute_input": "2024-08-11T09:09:39.662091Z",
     "iopub.status.busy": "2024-08-11T09:09:39.661811Z",
     "iopub.status.idle": "2024-08-11T09:09:39.666470Z",
     "shell.execute_reply": "2024-08-11T09:09:39.665652Z"
    },
    "papermill": {
     "duration": 0.033312,
     "end_time": "2024-08-11T09:09:39.668275",
     "exception": false,
     "start_time": "2024-08-11T09:09:39.634963",
     "status": "completed"
    },
    "tags": []
   },
   "outputs": [],
   "source": [
    "df_imputed.columns = ['age','bp','sg','al','su','sod','pot', 'hemo','bgr','bu','sc','rbc', 'pc', 'pcc', 'ba','pcv', 'wc', 'rc', 'htn', 'dm', 'cad','appet', 'pe', 'ane','classification']"
   ]
  },
  {
   "cell_type": "code",
   "execution_count": 18,
   "id": "4cba66f1",
   "metadata": {
    "execution": {
     "iopub.execute_input": "2024-08-11T09:09:39.720630Z",
     "iopub.status.busy": "2024-08-11T09:09:39.720349Z",
     "iopub.status.idle": "2024-08-11T09:09:39.740257Z",
     "shell.execute_reply": "2024-08-11T09:09:39.739299Z"
    },
    "papermill": {
     "duration": 0.048229,
     "end_time": "2024-08-11T09:09:39.742113",
     "exception": false,
     "start_time": "2024-08-11T09:09:39.693884",
     "status": "completed"
    },
    "tags": []
   },
   "outputs": [
    {
     "data": {
      "text/html": [
       "<div>\n",
       "<style scoped>\n",
       "    .dataframe tbody tr th:only-of-type {\n",
       "        vertical-align: middle;\n",
       "    }\n",
       "\n",
       "    .dataframe tbody tr th {\n",
       "        vertical-align: top;\n",
       "    }\n",
       "\n",
       "    .dataframe thead th {\n",
       "        text-align: right;\n",
       "    }\n",
       "</style>\n",
       "<table border=\"1\" class=\"dataframe\">\n",
       "  <thead>\n",
       "    <tr style=\"text-align: right;\">\n",
       "      <th></th>\n",
       "      <th>age</th>\n",
       "      <th>bp</th>\n",
       "      <th>sg</th>\n",
       "      <th>al</th>\n",
       "      <th>su</th>\n",
       "      <th>sod</th>\n",
       "      <th>pot</th>\n",
       "      <th>hemo</th>\n",
       "      <th>bgr</th>\n",
       "      <th>bu</th>\n",
       "      <th>...</th>\n",
       "      <th>pcv</th>\n",
       "      <th>wc</th>\n",
       "      <th>rc</th>\n",
       "      <th>htn</th>\n",
       "      <th>dm</th>\n",
       "      <th>cad</th>\n",
       "      <th>appet</th>\n",
       "      <th>pe</th>\n",
       "      <th>ane</th>\n",
       "      <th>classification</th>\n",
       "    </tr>\n",
       "  </thead>\n",
       "  <tbody>\n",
       "    <tr>\n",
       "      <th>0</th>\n",
       "      <td>48.0</td>\n",
       "      <td>80.0</td>\n",
       "      <td>1.02</td>\n",
       "      <td>1.0</td>\n",
       "      <td>0.0</td>\n",
       "      <td>137.528754</td>\n",
       "      <td>4.627244</td>\n",
       "      <td>15.4</td>\n",
       "      <td>121.0</td>\n",
       "      <td>36.0</td>\n",
       "      <td>...</td>\n",
       "      <td>44</td>\n",
       "      <td>7800</td>\n",
       "      <td>5.2</td>\n",
       "      <td>yes</td>\n",
       "      <td>yes</td>\n",
       "      <td>no</td>\n",
       "      <td>good</td>\n",
       "      <td>no</td>\n",
       "      <td>no</td>\n",
       "      <td>ckd</td>\n",
       "    </tr>\n",
       "    <tr>\n",
       "      <th>1</th>\n",
       "      <td>7.0</td>\n",
       "      <td>50.0</td>\n",
       "      <td>1.02</td>\n",
       "      <td>4.0</td>\n",
       "      <td>0.0</td>\n",
       "      <td>137.528754</td>\n",
       "      <td>4.627244</td>\n",
       "      <td>11.3</td>\n",
       "      <td>121.0</td>\n",
       "      <td>18.0</td>\n",
       "      <td>...</td>\n",
       "      <td>38</td>\n",
       "      <td>6000</td>\n",
       "      <td>5.2</td>\n",
       "      <td>no</td>\n",
       "      <td>no</td>\n",
       "      <td>no</td>\n",
       "      <td>good</td>\n",
       "      <td>no</td>\n",
       "      <td>no</td>\n",
       "      <td>ckd</td>\n",
       "    </tr>\n",
       "    <tr>\n",
       "      <th>2</th>\n",
       "      <td>62.0</td>\n",
       "      <td>80.0</td>\n",
       "      <td>1.01</td>\n",
       "      <td>2.0</td>\n",
       "      <td>3.0</td>\n",
       "      <td>137.528754</td>\n",
       "      <td>4.627244</td>\n",
       "      <td>9.6</td>\n",
       "      <td>423.0</td>\n",
       "      <td>53.0</td>\n",
       "      <td>...</td>\n",
       "      <td>31</td>\n",
       "      <td>7500</td>\n",
       "      <td>5.2</td>\n",
       "      <td>no</td>\n",
       "      <td>yes</td>\n",
       "      <td>no</td>\n",
       "      <td>poor</td>\n",
       "      <td>no</td>\n",
       "      <td>yes</td>\n",
       "      <td>ckd</td>\n",
       "    </tr>\n",
       "    <tr>\n",
       "      <th>3</th>\n",
       "      <td>48.0</td>\n",
       "      <td>70.0</td>\n",
       "      <td>1.005</td>\n",
       "      <td>4.0</td>\n",
       "      <td>0.0</td>\n",
       "      <td>111.0</td>\n",
       "      <td>2.5</td>\n",
       "      <td>11.2</td>\n",
       "      <td>117.0</td>\n",
       "      <td>56.0</td>\n",
       "      <td>...</td>\n",
       "      <td>32</td>\n",
       "      <td>6700</td>\n",
       "      <td>3.9</td>\n",
       "      <td>yes</td>\n",
       "      <td>no</td>\n",
       "      <td>no</td>\n",
       "      <td>poor</td>\n",
       "      <td>yes</td>\n",
       "      <td>yes</td>\n",
       "      <td>ckd</td>\n",
       "    </tr>\n",
       "    <tr>\n",
       "      <th>4</th>\n",
       "      <td>51.0</td>\n",
       "      <td>80.0</td>\n",
       "      <td>1.01</td>\n",
       "      <td>2.0</td>\n",
       "      <td>0.0</td>\n",
       "      <td>137.528754</td>\n",
       "      <td>4.627244</td>\n",
       "      <td>11.6</td>\n",
       "      <td>106.0</td>\n",
       "      <td>26.0</td>\n",
       "      <td>...</td>\n",
       "      <td>35</td>\n",
       "      <td>7300</td>\n",
       "      <td>4.6</td>\n",
       "      <td>no</td>\n",
       "      <td>no</td>\n",
       "      <td>no</td>\n",
       "      <td>good</td>\n",
       "      <td>no</td>\n",
       "      <td>no</td>\n",
       "      <td>ckd</td>\n",
       "    </tr>\n",
       "  </tbody>\n",
       "</table>\n",
       "<p>5 rows × 25 columns</p>\n",
       "</div>"
      ],
      "text/plain": [
       "    age    bp     sg   al   su         sod       pot  hemo    bgr    bu  ...  \\\n",
       "0  48.0  80.0   1.02  1.0  0.0  137.528754  4.627244  15.4  121.0  36.0  ...   \n",
       "1   7.0  50.0   1.02  4.0  0.0  137.528754  4.627244  11.3  121.0  18.0  ...   \n",
       "2  62.0  80.0   1.01  2.0  3.0  137.528754  4.627244   9.6  423.0  53.0  ...   \n",
       "3  48.0  70.0  1.005  4.0  0.0       111.0       2.5  11.2  117.0  56.0  ...   \n",
       "4  51.0  80.0   1.01  2.0  0.0  137.528754  4.627244  11.6  106.0  26.0  ...   \n",
       "\n",
       "  pcv    wc   rc  htn   dm cad appet   pe  ane classification  \n",
       "0  44  7800  5.2  yes  yes  no  good   no   no            ckd  \n",
       "1  38  6000  5.2   no   no  no  good   no   no            ckd  \n",
       "2  31  7500  5.2   no  yes  no  poor   no  yes            ckd  \n",
       "3  32  6700  3.9  yes   no  no  poor  yes  yes            ckd  \n",
       "4  35  7300  4.6   no   no  no  good   no   no            ckd  \n",
       "\n",
       "[5 rows x 25 columns]"
      ]
     },
     "execution_count": 18,
     "metadata": {},
     "output_type": "execute_result"
    }
   ],
   "source": [
    "df_imputed.head()"
   ]
  },
  {
   "cell_type": "code",
   "execution_count": 19,
   "id": "8bf31725",
   "metadata": {
    "execution": {
     "iopub.execute_input": "2024-08-11T09:09:39.795409Z",
     "iopub.status.busy": "2024-08-11T09:09:39.795165Z",
     "iopub.status.idle": "2024-08-11T09:09:39.800253Z",
     "shell.execute_reply": "2024-08-11T09:09:39.799297Z"
    },
    "papermill": {
     "duration": 0.034001,
     "end_time": "2024-08-11T09:09:39.802207",
     "exception": false,
     "start_time": "2024-08-11T09:09:39.768206",
     "status": "completed"
    },
    "tags": []
   },
   "outputs": [
    {
     "name": "stdout",
     "output_type": "stream",
     "text": [
      "Index(['age', 'bp', 'sg', 'al', 'su', 'rbc', 'pc', 'pcc', 'ba', 'bgr', 'bu',\n",
      "       'sc', 'sod', 'pot', 'hemo', 'pcv', 'wc', 'rc', 'htn', 'dm', 'cad',\n",
      "       'appet', 'pe', 'ane', 'classification'],\n",
      "      dtype='object')\n",
      "**********************************************************************************************************************************\n",
      "Index(['age', 'bp', 'sg', 'al', 'su', 'sod', 'pot', 'hemo', 'bgr', 'bu', 'sc',\n",
      "       'rbc', 'pc', 'pcc', 'ba', 'pcv', 'wc', 'rc', 'htn', 'dm', 'cad',\n",
      "       'appet', 'pe', 'ane', 'classification'],\n",
      "      dtype='object')\n"
     ]
    }
   ],
   "source": [
    "print(dataset1.columns)\n",
    "print(\"*************\"*10)\n",
    "print(df_imputed.columns)"
   ]
  },
  {
   "cell_type": "code",
   "execution_count": 20,
   "id": "7ee7d720",
   "metadata": {
    "execution": {
     "iopub.execute_input": "2024-08-11T09:09:39.856826Z",
     "iopub.status.busy": "2024-08-11T09:09:39.856042Z",
     "iopub.status.idle": "2024-08-11T09:09:39.861620Z",
     "shell.execute_reply": "2024-08-11T09:09:39.860779Z"
    },
    "papermill": {
     "duration": 0.035127,
     "end_time": "2024-08-11T09:09:39.863599",
     "exception": false,
     "start_time": "2024-08-11T09:09:39.828472",
     "status": "completed"
    },
    "tags": []
   },
   "outputs": [
    {
     "data": {
      "text/plain": [
       "(400, 25)"
      ]
     },
     "execution_count": 20,
     "metadata": {},
     "output_type": "execute_result"
    }
   ],
   "source": [
    "dataset1.shape"
   ]
  },
  {
   "cell_type": "code",
   "execution_count": 21,
   "id": "223ce974",
   "metadata": {
    "execution": {
     "iopub.execute_input": "2024-08-11T09:09:39.917172Z",
     "iopub.status.busy": "2024-08-11T09:09:39.916608Z",
     "iopub.status.idle": "2024-08-11T09:09:39.921770Z",
     "shell.execute_reply": "2024-08-11T09:09:39.920997Z"
    },
    "papermill": {
     "duration": 0.034021,
     "end_time": "2024-08-11T09:09:39.923728",
     "exception": false,
     "start_time": "2024-08-11T09:09:39.889707",
     "status": "completed"
    },
    "tags": []
   },
   "outputs": [
    {
     "data": {
      "text/plain": [
       "(400, 25)"
      ]
     },
     "execution_count": 21,
     "metadata": {},
     "output_type": "execute_result"
    }
   ],
   "source": [
    "#df_imputed.columns = dataset.columns\n",
    "df_imputed.shape"
   ]
  },
  {
   "cell_type": "code",
   "execution_count": 22,
   "id": "729f1fae",
   "metadata": {
    "execution": {
     "iopub.execute_input": "2024-08-11T09:09:39.978992Z",
     "iopub.status.busy": "2024-08-11T09:09:39.978722Z",
     "iopub.status.idle": "2024-08-11T09:09:39.987607Z",
     "shell.execute_reply": "2024-08-11T09:09:39.986822Z"
    },
    "papermill": {
     "duration": 0.039374,
     "end_time": "2024-08-11T09:09:39.989573",
     "exception": false,
     "start_time": "2024-08-11T09:09:39.950199",
     "status": "completed"
    },
    "tags": []
   },
   "outputs": [
    {
     "data": {
      "text/plain": [
       "age               0\n",
       "bp                0\n",
       "sg                0\n",
       "al                0\n",
       "su                0\n",
       "sod               0\n",
       "pot               0\n",
       "hemo              0\n",
       "bgr               0\n",
       "bu                0\n",
       "sc                0\n",
       "rbc               0\n",
       "pc                0\n",
       "pcc               0\n",
       "ba                0\n",
       "pcv               0\n",
       "wc                0\n",
       "rc                0\n",
       "htn               0\n",
       "dm                0\n",
       "cad               0\n",
       "appet             0\n",
       "pe                0\n",
       "ane               0\n",
       "classification    0\n",
       "dtype: int64"
      ]
     },
     "execution_count": 22,
     "metadata": {},
     "output_type": "execute_result"
    }
   ],
   "source": [
    "df_imputed.isnull().sum()"
   ]
  },
  {
   "cell_type": "markdown",
   "id": "9f65f76a",
   "metadata": {
    "papermill": {
     "duration": 0.026311,
     "end_time": "2024-08-11T09:09:40.042909",
     "exception": false,
     "start_time": "2024-08-11T09:09:40.016598",
     "status": "completed"
    },
    "tags": []
   },
   "source": [
    "# **Finding the unique values in the columns**"
   ]
  },
  {
   "cell_type": "code",
   "execution_count": 23,
   "id": "121f505b",
   "metadata": {
    "execution": {
     "iopub.execute_input": "2024-08-11T09:09:40.100674Z",
     "iopub.status.busy": "2024-08-11T09:09:40.099864Z",
     "iopub.status.idle": "2024-08-11T09:09:40.107813Z",
     "shell.execute_reply": "2024-08-11T09:09:40.106866Z"
    },
    "papermill": {
     "duration": 0.040463,
     "end_time": "2024-08-11T09:09:40.110698",
     "exception": false,
     "start_time": "2024-08-11T09:09:40.070235",
     "status": "completed"
    },
    "tags": []
   },
   "outputs": [
    {
     "name": "stdout",
     "output_type": "stream",
     "text": [
      "*********************************************************************** age ************************************************************\n",
      "\n",
      "{2.0, 3.0, 4.0, 5.0, 6.0, 7.0, 8.0, 11.0, 12.0, 14.0, 15.0, 17.0, 19.0, 20.0, 21.0, 22.0, 23.0, 24.0, 25.0, 26.0, 27.0, 28.0, 29.0, 30.0, 32.0, 33.0, 34.0, 35.0, 36.0, 37.0, 38.0, 39.0, 40.0, 41.0, 42.0, 43.0, 44.0, 45.0, 46.0, 47.0, 48.0, 49.0, 50.0, 51.0, 52.0, 53.0, 51.48337595907928, 54.0, 55.0, 56.0, 58.0, 59.0, 60.0, 61.0, 62.0, 63.0, 64.0, 65.0, 57.0, 67.0, 68.0, 69.0, 70.0, 71.0, 72.0, 73.0, 74.0, 75.0, 76.0, 78.0, 79.0, 80.0, 81.0, 82.0, 83.0, 90.0, 66.0}\n",
      "\n",
      "*********************************************************************** bp ************************************************************\n",
      "\n",
      "{100.0, 70.0, 76.46907216494846, 140.0, 110.0, 80.0, 50.0, 180.0, 120.0, 90.0, 60.0}\n",
      "\n",
      "*********************************************************************** sg ************************************************************\n",
      "\n",
      "{1.0174079320113314, 1.02, 1.005, 1.015, 1.01, 1.025}\n",
      "\n",
      "*********************************************************************** al ************************************************************\n",
      "\n",
      "{0.0, 1.0, 2.0, 3.0, 4.0, 1.0169491525423728, 5.0}\n",
      "\n",
      "*********************************************************************** su ************************************************************\n",
      "\n",
      "{0.0, 1.0, 0.45014245014245013, 3.0, 4.0, 2.0, 5.0}\n",
      "\n",
      "*********************************************************************** sod ************************************************************\n",
      "\n",
      "{128.0, 129.0, 130.0, 131.0, 4.5, 132.0, 133.0, 135.0, 136.0, 137.52875399361022, 138.0, 139.0, 140.0, 141.0, 142.0, 134.0, 137.0, 143.0, 146.0, 147.0, 145.0, 144.0, 150.0, 163.0, 104.0, 111.0, 113.0, 114.0, 115.0, 120.0, 122.0, 124.0, 125.0, 126.0, 127.0}\n",
      "\n",
      "*********************************************************************** pot ************************************************************\n",
      "\n",
      "{2.5, 3.7, 3.2, 4.62724358974359, 4.0, 4.2, 5.8, 3.4, 6.4, 4.9, 4.1, 4.3, 5.2, 6.6, 3.5, 3.0, 4.6, 4.4, 4.5, 5.9, 5.5, 5.0, 5.4, 5.1, 5.6, 6.5, 7.6, 39.0, 47.0, 3.6, 2.8, 2.7, 3.8, 3.3, 4.7, 4.8, 5.7, 5.3, 6.3, 2.9, 3.9}\n",
      "\n",
      "*********************************************************************** hemo ************************************************************\n",
      "\n",
      "{3.1, 4.8, 5.6, 6.6, 7.6, 8.4, 7.7, 9.6, 10.8, 11.2, 11.3, 11.6, 12.2, 15.4, 12.4, 9.5, 12.6, 12.1, 12.7, 13.0, 15.0, 15.6, 16.1, 5.5, 6.0, 7.5, 8.0, 8.5, 9.0, 10.0, 10.5, 11.0, 11.5, 12.5, 12.0, 13.5, 14.0, 14.5, 15.5, 16.5, 16.4, 16.9, 16.0, 16.6, 17.0, 17.1, 17.4, 17.5, 17.6, 7.9, 9.4, 9.9, 10.9, 10.4, 11.9, 11.4, 12.9, 13.9, 13.4, 14.4, 14.9, 15.9, 5.8, 6.8, 6.3, 7.3, 8.3, 8.2, 8.8, 8.7, 9.7, 9.8, 9.3, 9.2, 10.7, 10.3, 10.2, 11.8, 11.7, 12.3, 12.526436781609195, 12.8, 13.8, 13.2, 13.7, 13.3, 14.3, 14.2, 14.8, 14.7, 15.2, 15.7, 15.8, 15.3, 16.2, 16.3, 16.7, 16.8, 17.2, 17.3, 17.7, 17.8, 6.2, 6.1, 7.1, 8.6, 8.1, 9.1, 10.1, 10.6, 11.1, 13.6, 13.1, 14.1, 14.6, 15.1}\n",
      "\n",
      "*********************************************************************** bgr ************************************************************\n",
      "\n",
      "{22.0, 70.0, 74.0, 75.0, 76.0, 78.0, 79.0, 80.0, 81.0, 82.0, 83.0, 84.0, 85.0, 86.0, 87.0, 88.0, 89.0, 90.0, 91.0, 92.0, 93.0, 94.0, 95.0, 96.0, 97.0, 98.0, 99.0, 100.0, 101.0, 102.0, 103.0, 104.0, 105.0, 106.0, 107.0, 108.0, 109.0, 110.0, 111.0, 112.0, 113.0, 114.0, 115.0, 116.0, 117.0, 118.0, 119.0, 120.0, 121.0, 122.0, 123.0, 124.0, 125.0, 127.0, 128.0, 129.0, 130.0, 131.0, 132.0, 133.0, 134.0, 137.0, 138.0, 139.0, 140.0, 141.0, 143.0, 144.0, 146.0, 148.0, 150.0, 153.0, 156.0, 157.0, 158.0, 159.0, 160.0, 162.0, 163.0, 165.0, 169.0, 171.0, 172.0, 173.0, 176.0, 182.0, 184.0, 192.0, 201.0, 203.0, 204.0, 207.0, 208.0, 210.0, 213.0, 214.0, 215.0, 219.0, 220.0, 224.0, 226.0, 230.0, 233.0, 234.0, 238.0, 239.0, 241.0, 242.0, 246.0, 248.0, 250.0, 251.0, 252.0, 253.0, 255.0, 256.0, 261.0, 263.0, 264.0, 268.0, 269.0, 270.0, 273.0, 280.0, 288.0, 294.0, 295.0, 297.0, 298.0, 303.0, 307.0, 308.0, 309.0, 323.0, 341.0, 352.0, 360.0, 380.0, 410.0, 415.0, 423.0, 424.0, 425.0, 447.0, 463.0, 490.0}\n",
      "\n",
      "*********************************************************************** bu ************************************************************\n",
      "\n",
      "{1.5, 10.0, 15.0, 16.0, 17.0, 18.0, 19.0, 20.0, 21.0, 22.0, 23.0, 24.0, 25.0, 26.0, 27.0, 28.0, 29.0, 30.0, 31.0, 32.0, 33.0, 34.0, 35.0, 36.0, 37.0, 38.0, 39.0, 40.0, 41.0, 42.0, 44.0, 45.0, 46.0, 47.0, 48.0, 49.0, 50.0, 51.0, 52.0, 53.0, 54.0, 55.0, 56.0, 50.1, 58.0, 57.0, 60.0, 61.0, 64.0, 65.0, 66.0, 67.0, 68.0, 70.0, 71.0, 72.0, 73.0, 74.0, 75.0, 76.0, 77.0, 79.0, 80.0, 82.0, 85.0, 86.0, 87.0, 88.0, 89.0, 90.0, 92.0, 93.0, 94.0, 95.0, 96.0, 98.0, 98.6, 103.0, 106.0, 107.0, 111.0, 113.0, 114.0, 115.0, 118.0, 125.0, 132.0, 133.0, 137.0, 139.0, 142.0, 145.0, 146.0, 148.0, 150.0, 153.0, 155.0, 158.0, 162.0, 163.0, 164.0, 165.0, 166.0, 176.0, 180.0, 186.0, 191.0, 202.0, 208.0, 215.0, 217.0, 219.0, 223.0, 235.0, 241.0, 309.0, 322.0, 391.0}\n",
      "\n",
      "*********************************************************************** sc ************************************************************\n",
      "\n",
      "{0.8, 1.2, 1.4, 3.8, 1.8, 1.1, 1.9, 7.2, 4.0, 2.7, 2.1, 4.6, 4.1, 9.6, 5.2, 7.7, 7.3, 2.5, 2.0, 10.8, 3.0, 3.25, 15.0, 14.2, 24.0, 16.9, 18.0, 18.1, 1.5, 1.0, 32.0, 6.5, 0.5, 6.0, 7.5, 8.5, 48.1, 11.5, 12.0, 13.0, 13.5, 76.0, 16.4, 2.4, 2.9, 3.9, 3.4, 4.4, 5.9, 6.4, 11.9, 13.4, 2.8, 2.3, 3.3, 4.3, 1.3, 5.3, 6.3, 6.8, 0.6, 0.9, 0.4, 9.7, 9.2, 9.3, 0.7, 10.2, 1.7, 11.8, 12.2, 12.8, 13.8, 13.3, 2.2, 15.2, 3.2, 6.7, 5.6, 6.1, 7.1, 1.6, 2.6, 3.6}\n",
      "\n",
      "*********************************************************************** rbc ************************************************************\n",
      "\n",
      "{'abnormal', 'normal'}\n",
      "\n",
      "*********************************************************************** pc ************************************************************\n",
      "\n",
      "{'abnormal', 'normal'}\n",
      "\n",
      "*********************************************************************** pcc ************************************************************\n",
      "\n",
      "{'present', 'notpresent'}\n",
      "\n",
      "*********************************************************************** ba ************************************************************\n",
      "\n",
      "{'present', 'notpresent'}\n",
      "\n",
      "*********************************************************************** pcv ************************************************************\n",
      "\n",
      "{'37', '42', '39', '24', '25', '54', '47', '19', '27', '31', '14', '34', '15', '30', '51', '20', '50', '26', '\\t43', '\\t?', '33', '52', '43', '38', '18', '49', '36', '16', '29', '22', '44', '17', '40', '23', '45', '41', '46', '9', '53', '21', '48', '32', '28', '35'}\n",
      "\n",
      "*********************************************************************** wc ************************************************************\n",
      "\n",
      "{'\\t6200', '2600', '8600', '6400', '13200', '5200', '9700', '14900', '8100', '12200', '10800', '4500', '16700', '8800', '4200', '8200', '11300', '10300', '12300', '6200', '5400', '5000', '12700', '15200', '6900', '9100', '11800', '4300', '12500', '26400', '5600', '4900', '7000', '6000', '7300', '3800', '6500', '9500', '8500', '9900', '7500', '14600', '7100', '12000', '4700', '2200', '11900', '9800', '6700', '15700', '6800', '18900', '7200', '12400', '8000', '10900', '\\t?', '10200', '7900', '9600', '12100', '11500', '5300', '\\t8400', '5100', '19100', '9000', '12800', '5700', '10400', '11400', '10700', '9300', '5800', '8300', '9400', '5500', '7700', '16300', '9200', '7800', '11000', '6600', '4100', '5900', '13600', '21600', '10500', '8400', '7400', '11200', '6300'}\n",
      "\n",
      "*********************************************************************** rc ************************************************************\n",
      "\n",
      "{'4.6', '4.9', '3.5', '5.7', '6.4', '2.8', '2.5', '5.2', '6.1', '2.6', '5.3', '5.9', '2.3', '3.9', '4', '6.5', '2.9', '6.3', '8.0', '3.4', '2.7', '3', '2.4', '3.0', '\\t?', '4.1', '5.6', '5.1', '5.5', '4.8', '3.2', '4.7', '4.3', '4.2', '3.3', '6.2', '3.7', '3.6', '4.5', '5.0', '5.4', '4.0', '2.1', '5.8', '3.1', '6.0', '4.4', '5', '3.8'}\n",
      "\n",
      "*********************************************************************** htn ************************************************************\n",
      "\n",
      "{'no', 'yes'}\n",
      "\n",
      "*********************************************************************** dm ************************************************************\n",
      "\n",
      "{'\\tyes', 'yes', 'no', '\\tno', ' yes'}\n",
      "\n",
      "*********************************************************************** cad ************************************************************\n",
      "\n",
      "{'no', '\\tno', 'yes'}\n",
      "\n",
      "*********************************************************************** appet ************************************************************\n",
      "\n",
      "{'poor', 'good'}\n",
      "\n",
      "*********************************************************************** pe ************************************************************\n",
      "\n",
      "{'no', 'yes'}\n",
      "\n",
      "*********************************************************************** ane ************************************************************\n",
      "\n",
      "{'no', 'yes'}\n",
      "\n",
      "*********************************************************************** classification ************************************************************\n",
      "\n",
      "{'notckd', 'ckd', 'ckd\\t'}\n",
      "\n"
     ]
    }
   ],
   "source": [
    "\n",
    "for i in df_imputed.columns:\n",
    "  print(\"***********************************************************************\", i,\n",
    "        \"************************************************************\")\n",
    "  print()\n",
    "  print(set(df_imputed[i].tolist()))\n",
    "  print()"
   ]
  },
  {
   "cell_type": "markdown",
   "id": "df7eeaf9",
   "metadata": {
    "papermill": {
     "duration": 0.02789,
     "end_time": "2024-08-11T09:09:40.166840",
     "exception": false,
     "start_time": "2024-08-11T09:09:40.138950",
     "status": "completed"
    },
    "tags": []
   },
   "source": [
    "# **Steps to Clean and Standardize Categorical Features and Numerical Features**\n",
    "\n",
    "# **bp,hemo,pcv,wc,rc,dm,cad,classification**\n"
   ]
  },
  {
   "cell_type": "code",
   "execution_count": 24,
   "id": "6dbb0533",
   "metadata": {
    "execution": {
     "iopub.execute_input": "2024-08-11T09:09:40.223914Z",
     "iopub.status.busy": "2024-08-11T09:09:40.223376Z",
     "iopub.status.idle": "2024-08-11T09:09:40.229591Z",
     "shell.execute_reply": "2024-08-11T09:09:40.228826Z"
    },
    "papermill": {
     "duration": 0.03731,
     "end_time": "2024-08-11T09:09:40.231756",
     "exception": false,
     "start_time": "2024-08-11T09:09:40.194446",
     "status": "completed"
    },
    "tags": []
   },
   "outputs": [],
   "source": [
    "df_imputed['bp'] = np.where(df_imputed['bp']==0.00, df_imputed['bp'].median(), df_imputed['bp'])"
   ]
  },
  {
   "cell_type": "code",
   "execution_count": 25,
   "id": "38ac6e91",
   "metadata": {
    "execution": {
     "iopub.execute_input": "2024-08-11T09:09:40.288645Z",
     "iopub.status.busy": "2024-08-11T09:09:40.287957Z",
     "iopub.status.idle": "2024-08-11T09:09:40.293922Z",
     "shell.execute_reply": "2024-08-11T09:09:40.293014Z"
    },
    "papermill": {
     "duration": 0.035611,
     "end_time": "2024-08-11T09:09:40.295950",
     "exception": false,
     "start_time": "2024-08-11T09:09:40.260339",
     "status": "completed"
    },
    "tags": []
   },
   "outputs": [],
   "source": [
    "df_imputed['hemo'] = np.where(df_imputed['hemo']==0.00, df_imputed['hemo'].median(), df_imputed['hemo'])"
   ]
  },
  {
   "cell_type": "code",
   "execution_count": 26,
   "id": "6b790379",
   "metadata": {
    "execution": {
     "iopub.execute_input": "2024-08-11T09:09:40.351157Z",
     "iopub.status.busy": "2024-08-11T09:09:40.350433Z",
     "iopub.status.idle": "2024-08-11T09:09:40.361837Z",
     "shell.execute_reply": "2024-08-11T09:09:40.361041Z"
    },
    "papermill": {
     "duration": 0.04079,
     "end_time": "2024-08-11T09:09:40.363736",
     "exception": false,
     "start_time": "2024-08-11T09:09:40.322946",
     "status": "completed"
    },
    "tags": []
   },
   "outputs": [
    {
     "data": {
      "text/plain": [
       "pcv\n",
       "41      91\n",
       "52      21\n",
       "48      19\n",
       "44      19\n",
       "40      16\n",
       "43      14\n",
       "45      13\n",
       "42      13\n",
       "28      12\n",
       "36      12\n",
       "33      12\n",
       "32      12\n",
       "50      12\n",
       "37      11\n",
       "34      11\n",
       "30       9\n",
       "35       9\n",
       "29       9\n",
       "46       9\n",
       "31       8\n",
       "39       7\n",
       "24       7\n",
       "26       6\n",
       "38       5\n",
       "47       4\n",
       "54       4\n",
       "53       4\n",
       "49       4\n",
       "51       4\n",
       "22       3\n",
       "25       3\n",
       "27       3\n",
       "23       2\n",
       "19       2\n",
       "16       1\n",
       "14       1\n",
       "17       1\n",
       "18       1\n",
       "\\t?      1\n",
       "15       1\n",
       "20       1\n",
       "21       1\n",
       "9        1\n",
       "\\t43     1\n",
       "Name: count, dtype: int64"
      ]
     },
     "execution_count": 26,
     "metadata": {},
     "output_type": "execute_result"
    }
   ],
   "source": [
    "df_imputed['pcv'].value_counts()"
   ]
  },
  {
   "cell_type": "code",
   "execution_count": 27,
   "id": "02a922c6",
   "metadata": {
    "execution": {
     "iopub.execute_input": "2024-08-11T09:09:40.419626Z",
     "iopub.status.busy": "2024-08-11T09:09:40.419376Z",
     "iopub.status.idle": "2024-08-11T09:09:40.425735Z",
     "shell.execute_reply": "2024-08-11T09:09:40.424836Z"
    },
    "papermill": {
     "duration": 0.035859,
     "end_time": "2024-08-11T09:09:40.427715",
     "exception": false,
     "start_time": "2024-08-11T09:09:40.391856",
     "status": "completed"
    },
    "tags": []
   },
   "outputs": [
    {
     "data": {
      "text/plain": [
       "0    41\n",
       "Name: pcv, dtype: object"
      ]
     },
     "execution_count": 27,
     "metadata": {},
     "output_type": "execute_result"
    }
   ],
   "source": [
    "# NOTE: There are 2 Inconsistent values in PCV feature\n",
    "df_imputed['pcv'].mode()"
   ]
  },
  {
   "cell_type": "code",
   "execution_count": 28,
   "id": "9f7837b6",
   "metadata": {
    "execution": {
     "iopub.execute_input": "2024-08-11T09:09:40.485033Z",
     "iopub.status.busy": "2024-08-11T09:09:40.484719Z",
     "iopub.status.idle": "2024-08-11T09:09:40.489608Z",
     "shell.execute_reply": "2024-08-11T09:09:40.488776Z"
    },
    "papermill": {
     "duration": 0.036593,
     "end_time": "2024-08-11T09:09:40.491610",
     "exception": false,
     "start_time": "2024-08-11T09:09:40.455017",
     "status": "completed"
    },
    "tags": []
   },
   "outputs": [],
   "source": [
    "df_imputed['pcv'] = df_imputed['pcv'].apply(lambda x:'43' if x=='\\t43' else x)"
   ]
  },
  {
   "cell_type": "code",
   "execution_count": 29,
   "id": "3720937c",
   "metadata": {
    "execution": {
     "iopub.execute_input": "2024-08-11T09:09:40.548648Z",
     "iopub.status.busy": "2024-08-11T09:09:40.548376Z",
     "iopub.status.idle": "2024-08-11T09:09:40.552835Z",
     "shell.execute_reply": "2024-08-11T09:09:40.552030Z"
    },
    "papermill": {
     "duration": 0.035148,
     "end_time": "2024-08-11T09:09:40.554786",
     "exception": false,
     "start_time": "2024-08-11T09:09:40.519638",
     "status": "completed"
    },
    "tags": []
   },
   "outputs": [],
   "source": [
    "df_imputed['pcv'] = df_imputed['pcv'].apply(lambda x:'41' if x=='\\t?' else x)"
   ]
  },
  {
   "cell_type": "code",
   "execution_count": 30,
   "id": "3ede7208",
   "metadata": {
    "execution": {
     "iopub.execute_input": "2024-08-11T09:09:40.637520Z",
     "iopub.status.busy": "2024-08-11T09:09:40.637277Z",
     "iopub.status.idle": "2024-08-11T09:09:40.644891Z",
     "shell.execute_reply": "2024-08-11T09:09:40.643998Z"
    },
    "papermill": {
     "duration": 0.037087,
     "end_time": "2024-08-11T09:09:40.646843",
     "exception": false,
     "start_time": "2024-08-11T09:09:40.609756",
     "status": "completed"
    },
    "tags": []
   },
   "outputs": [
    {
     "data": {
      "text/plain": [
       "wc\n",
       "9800     116\n",
       "6700      10\n",
       "7200       9\n",
       "9600       9\n",
       "9200       9\n",
       "        ... \n",
       "4900       1\n",
       "12000      1\n",
       "15700      1\n",
       "4100       1\n",
       "11500      1\n",
       "Name: count, Length: 92, dtype: int64"
      ]
     },
     "execution_count": 30,
     "metadata": {},
     "output_type": "execute_result"
    }
   ],
   "source": [
    "df_imputed['wc'].value_counts()"
   ]
  },
  {
   "cell_type": "code",
   "execution_count": 31,
   "id": "38df4501",
   "metadata": {
    "execution": {
     "iopub.execute_input": "2024-08-11T09:09:40.702229Z",
     "iopub.status.busy": "2024-08-11T09:09:40.701984Z",
     "iopub.status.idle": "2024-08-11T09:09:40.706785Z",
     "shell.execute_reply": "2024-08-11T09:09:40.705943Z"
    },
    "papermill": {
     "duration": 0.034805,
     "end_time": "2024-08-11T09:09:40.708678",
     "exception": false,
     "start_time": "2024-08-11T09:09:40.673873",
     "status": "completed"
    },
    "tags": []
   },
   "outputs": [],
   "source": [
    "df_imputed['wc'] = df_imputed['wc'].apply(lambda x:'9800' if x=='\\t?' else x)"
   ]
  },
  {
   "cell_type": "code",
   "execution_count": 32,
   "id": "c9648b9a",
   "metadata": {
    "execution": {
     "iopub.execute_input": "2024-08-11T09:09:40.763759Z",
     "iopub.status.busy": "2024-08-11T09:09:40.763290Z",
     "iopub.status.idle": "2024-08-11T09:09:40.771116Z",
     "shell.execute_reply": "2024-08-11T09:09:40.770257Z"
    },
    "papermill": {
     "duration": 0.037501,
     "end_time": "2024-08-11T09:09:40.772924",
     "exception": false,
     "start_time": "2024-08-11T09:09:40.735423",
     "status": "completed"
    },
    "tags": []
   },
   "outputs": [
    {
     "data": {
      "text/plain": [
       "rc\n",
       "5.2    148\n",
       "4.5     16\n",
       "4.9     14\n",
       "4.7     11\n",
       "3.9     10\n",
       "4.8     10\n",
       "3.4      9\n",
       "4.6      9\n",
       "3.7      8\n",
       "5.0      8\n",
       "6.1      8\n",
       "5.9      8\n",
       "5.5      8\n",
       "5.8      7\n",
       "3.8      7\n",
       "5.4      7\n",
       "5.3      7\n",
       "5.6      6\n",
       "4.3      6\n",
       "4.2      6\n",
       "6.5      5\n",
       "6.2      5\n",
       "5.7      5\n",
       "3.2      5\n",
       "4.1      5\n",
       "4.4      5\n",
       "5.1      5\n",
       "6.4      5\n",
       "6.3      4\n",
       "6.0      4\n",
       "3.6      4\n",
       "4.0      3\n",
       "4        3\n",
       "3.5      3\n",
       "3.3      3\n",
       "5        2\n",
       "2.6      2\n",
       "2.8      2\n",
       "2.9      2\n",
       "3.1      2\n",
       "2.5      2\n",
       "2.1      2\n",
       "3.0      2\n",
       "2.7      2\n",
       "2.3      1\n",
       "8.0      1\n",
       "2.4      1\n",
       "\\t?      1\n",
       "3        1\n",
       "Name: count, dtype: int64"
      ]
     },
     "execution_count": 32,
     "metadata": {},
     "output_type": "execute_result"
    }
   ],
   "source": [
    "df_imputed['rc'].value_counts()"
   ]
  },
  {
   "cell_type": "code",
   "execution_count": 33,
   "id": "9de10a26",
   "metadata": {
    "execution": {
     "iopub.execute_input": "2024-08-11T09:09:40.828104Z",
     "iopub.status.busy": "2024-08-11T09:09:40.827835Z",
     "iopub.status.idle": "2024-08-11T09:09:40.832185Z",
     "shell.execute_reply": "2024-08-11T09:09:40.831348Z"
    },
    "papermill": {
     "duration": 0.033764,
     "end_time": "2024-08-11T09:09:40.833983",
     "exception": false,
     "start_time": "2024-08-11T09:09:40.800219",
     "status": "completed"
    },
    "tags": []
   },
   "outputs": [],
   "source": [
    "df_imputed['rc'] = df_imputed['rc'].apply(lambda x:'5.2' if x=='\\t?' else x)"
   ]
  },
  {
   "cell_type": "code",
   "execution_count": 34,
   "id": "abf89182",
   "metadata": {
    "execution": {
     "iopub.execute_input": "2024-08-11T09:09:40.889336Z",
     "iopub.status.busy": "2024-08-11T09:09:40.888540Z",
     "iopub.status.idle": "2024-08-11T09:09:40.895918Z",
     "shell.execute_reply": "2024-08-11T09:09:40.894980Z"
    },
    "papermill": {
     "duration": 0.036944,
     "end_time": "2024-08-11T09:09:40.897888",
     "exception": false,
     "start_time": "2024-08-11T09:09:40.860944",
     "status": "completed"
    },
    "tags": []
   },
   "outputs": [
    {
     "data": {
      "text/plain": [
       "dm\n",
       "no       260\n",
       "yes      134\n",
       "\\tno       3\n",
       "\\tyes      2\n",
       " yes       1\n",
       "Name: count, dtype: int64"
      ]
     },
     "execution_count": 34,
     "metadata": {},
     "output_type": "execute_result"
    }
   ],
   "source": [
    "df_imputed['dm'].value_counts()"
   ]
  },
  {
   "cell_type": "code",
   "execution_count": 35,
   "id": "28eb96f8",
   "metadata": {
    "execution": {
     "iopub.execute_input": "2024-08-11T09:09:40.954666Z",
     "iopub.status.busy": "2024-08-11T09:09:40.953856Z",
     "iopub.status.idle": "2024-08-11T09:09:40.960473Z",
     "shell.execute_reply": "2024-08-11T09:09:40.959753Z"
    },
    "papermill": {
     "duration": 0.036912,
     "end_time": "2024-08-11T09:09:40.962408",
     "exception": false,
     "start_time": "2024-08-11T09:09:40.925496",
     "status": "completed"
    },
    "tags": []
   },
   "outputs": [],
   "source": [
    "df_imputed['dm'] = df_imputed['dm'].apply(lambda x:'no' if x=='\\tno' else x)\n",
    "df_imputed['dm'] = df_imputed['dm'].apply(lambda x:'yes' if x=='\\tyes' else x)\n",
    "df_imputed['dm'] = df_imputed['dm'].apply(lambda x:'yes' if x==' yes' else x)"
   ]
  },
  {
   "cell_type": "code",
   "execution_count": 36,
   "id": "28fcfdda",
   "metadata": {
    "execution": {
     "iopub.execute_input": "2024-08-11T09:09:41.018329Z",
     "iopub.status.busy": "2024-08-11T09:09:41.017847Z",
     "iopub.status.idle": "2024-08-11T09:09:41.024997Z",
     "shell.execute_reply": "2024-08-11T09:09:41.024113Z"
    },
    "papermill": {
     "duration": 0.036917,
     "end_time": "2024-08-11T09:09:41.026800",
     "exception": false,
     "start_time": "2024-08-11T09:09:40.989883",
     "status": "completed"
    },
    "tags": []
   },
   "outputs": [
    {
     "data": {
      "text/plain": [
       "cad\n",
       "no      364\n",
       "yes      34\n",
       "\\tno      2\n",
       "Name: count, dtype: int64"
      ]
     },
     "execution_count": 36,
     "metadata": {},
     "output_type": "execute_result"
    }
   ],
   "source": [
    "df_imputed['cad'].value_counts()"
   ]
  },
  {
   "cell_type": "code",
   "execution_count": 37,
   "id": "032fb0dc",
   "metadata": {
    "execution": {
     "iopub.execute_input": "2024-08-11T09:09:41.084071Z",
     "iopub.status.busy": "2024-08-11T09:09:41.083542Z",
     "iopub.status.idle": "2024-08-11T09:09:41.088424Z",
     "shell.execute_reply": "2024-08-11T09:09:41.087518Z"
    },
    "papermill": {
     "duration": 0.036023,
     "end_time": "2024-08-11T09:09:41.090314",
     "exception": false,
     "start_time": "2024-08-11T09:09:41.054291",
     "status": "completed"
    },
    "tags": []
   },
   "outputs": [],
   "source": [
    "df_imputed['cad'] = df_imputed['cad'].apply(lambda x:'no' if x=='\\tno' else x)"
   ]
  },
  {
   "cell_type": "code",
   "execution_count": 38,
   "id": "b1b0afad",
   "metadata": {
    "execution": {
     "iopub.execute_input": "2024-08-11T09:09:41.146901Z",
     "iopub.status.busy": "2024-08-11T09:09:41.146621Z",
     "iopub.status.idle": "2024-08-11T09:09:41.153876Z",
     "shell.execute_reply": "2024-08-11T09:09:41.153014Z"
    },
    "papermill": {
     "duration": 0.03835,
     "end_time": "2024-08-11T09:09:41.156031",
     "exception": false,
     "start_time": "2024-08-11T09:09:41.117681",
     "status": "completed"
    },
    "tags": []
   },
   "outputs": [
    {
     "data": {
      "text/plain": [
       "classification\n",
       "ckd       248\n",
       "notckd    150\n",
       "ckd\\t       2\n",
       "Name: count, dtype: int64"
      ]
     },
     "execution_count": 38,
     "metadata": {},
     "output_type": "execute_result"
    }
   ],
   "source": [
    "df_imputed['classification'].value_counts()"
   ]
  },
  {
   "cell_type": "code",
   "execution_count": 39,
   "id": "4d6da3ad",
   "metadata": {
    "execution": {
     "iopub.execute_input": "2024-08-11T09:09:41.215479Z",
     "iopub.status.busy": "2024-08-11T09:09:41.215214Z",
     "iopub.status.idle": "2024-08-11T09:09:41.220017Z",
     "shell.execute_reply": "2024-08-11T09:09:41.219277Z"
    },
    "papermill": {
     "duration": 0.035358,
     "end_time": "2024-08-11T09:09:41.222201",
     "exception": false,
     "start_time": "2024-08-11T09:09:41.186843",
     "status": "completed"
    },
    "tags": []
   },
   "outputs": [],
   "source": [
    "df_imputed['classification'] = df_imputed['classification'].apply(lambda x:'ckd' if x=='ckd\\t' else x)"
   ]
  },
  {
   "cell_type": "code",
   "execution_count": 40,
   "id": "85f48b85",
   "metadata": {
    "execution": {
     "iopub.execute_input": "2024-08-11T09:09:41.278786Z",
     "iopub.status.busy": "2024-08-11T09:09:41.278520Z",
     "iopub.status.idle": "2024-08-11T09:09:41.294783Z",
     "shell.execute_reply": "2024-08-11T09:09:41.293998Z"
    },
    "papermill": {
     "duration": 0.046599,
     "end_time": "2024-08-11T09:09:41.296897",
     "exception": false,
     "start_time": "2024-08-11T09:09:41.250298",
     "status": "completed"
    },
    "tags": []
   },
   "outputs": [
    {
     "name": "stdout",
     "output_type": "stream",
     "text": [
      "<class 'pandas.core.frame.DataFrame'>\n",
      "RangeIndex: 400 entries, 0 to 399\n",
      "Data columns (total 25 columns):\n",
      " #   Column          Non-Null Count  Dtype \n",
      "---  ------          --------------  ----- \n",
      " 0   age             400 non-null    object\n",
      " 1   bp              400 non-null    object\n",
      " 2   sg              400 non-null    object\n",
      " 3   al              400 non-null    object\n",
      " 4   su              400 non-null    object\n",
      " 5   sod             400 non-null    object\n",
      " 6   pot             400 non-null    object\n",
      " 7   hemo            400 non-null    object\n",
      " 8   bgr             400 non-null    object\n",
      " 9   bu              400 non-null    object\n",
      " 10  sc              400 non-null    object\n",
      " 11  rbc             400 non-null    object\n",
      " 12  pc              400 non-null    object\n",
      " 13  pcc             400 non-null    object\n",
      " 14  ba              400 non-null    object\n",
      " 15  pcv             400 non-null    object\n",
      " 16  wc              400 non-null    object\n",
      " 17  rc              400 non-null    object\n",
      " 18  htn             400 non-null    object\n",
      " 19  dm              400 non-null    object\n",
      " 20  cad             400 non-null    object\n",
      " 21  appet           400 non-null    object\n",
      " 22  pe              400 non-null    object\n",
      " 23  ane             400 non-null    object\n",
      " 24  classification  400 non-null    object\n",
      "dtypes: object(25)\n",
      "memory usage: 78.2+ KB\n"
     ]
    }
   ],
   "source": [
    "df_imputed.info()"
   ]
  },
  {
   "cell_type": "code",
   "execution_count": 41,
   "id": "14c291ec",
   "metadata": {
    "execution": {
     "iopub.execute_input": "2024-08-11T09:09:41.353316Z",
     "iopub.status.busy": "2024-08-11T09:09:41.353054Z",
     "iopub.status.idle": "2024-08-11T09:09:41.363600Z",
     "shell.execute_reply": "2024-08-11T09:09:41.362765Z"
    },
    "papermill": {
     "duration": 0.041412,
     "end_time": "2024-08-11T09:09:41.366087",
     "exception": false,
     "start_time": "2024-08-11T09:09:41.324675",
     "status": "completed"
    },
    "tags": []
   },
   "outputs": [
    {
     "name": "stdout",
     "output_type": "stream",
     "text": [
      "<class 'pandas.core.frame.DataFrame'>\n",
      "RangeIndex: 400 entries, 0 to 399\n",
      "Data columns (total 26 columns):\n",
      " #   Column          Non-Null Count  Dtype  \n",
      "---  ------          --------------  -----  \n",
      " 0   id              400 non-null    int64  \n",
      " 1   age             391 non-null    float64\n",
      " 2   bp              388 non-null    float64\n",
      " 3   sg              353 non-null    float64\n",
      " 4   al              354 non-null    float64\n",
      " 5   su              351 non-null    float64\n",
      " 6   rbc             248 non-null    object \n",
      " 7   pc              335 non-null    object \n",
      " 8   pcc             396 non-null    object \n",
      " 9   ba              396 non-null    object \n",
      " 10  bgr             356 non-null    float64\n",
      " 11  bu              381 non-null    float64\n",
      " 12  sc              383 non-null    float64\n",
      " 13  sod             313 non-null    float64\n",
      " 14  pot             312 non-null    float64\n",
      " 15  hemo            348 non-null    float64\n",
      " 16  pcv             330 non-null    object \n",
      " 17  wc              295 non-null    object \n",
      " 18  rc              270 non-null    object \n",
      " 19  htn             398 non-null    object \n",
      " 20  dm              398 non-null    object \n",
      " 21  cad             398 non-null    object \n",
      " 22  appet           399 non-null    object \n",
      " 23  pe              399 non-null    object \n",
      " 24  ane             399 non-null    object \n",
      " 25  classification  400 non-null    object \n",
      "dtypes: float64(11), int64(1), object(14)\n",
      "memory usage: 81.4+ KB\n"
     ]
    }
   ],
   "source": [
    "dataset.info()"
   ]
  },
  {
   "cell_type": "markdown",
   "id": "b1a35ff7",
   "metadata": {
    "papermill": {
     "duration": 0.027524,
     "end_time": "2024-08-11T09:09:41.421248",
     "exception": false,
     "start_time": "2024-08-11T09:09:41.393724",
     "status": "completed"
    },
    "tags": []
   },
   "source": [
    "# **As we can see that 'PCV', 'WC' and 'RC' are object type. We need to change them to numerical dtype.**"
   ]
  },
  {
   "cell_type": "code",
   "execution_count": 42,
   "id": "e4c49e82",
   "metadata": {
    "execution": {
     "iopub.execute_input": "2024-08-11T09:09:41.480956Z",
     "iopub.status.busy": "2024-08-11T09:09:41.480149Z",
     "iopub.status.idle": "2024-08-11T09:09:41.491571Z",
     "shell.execute_reply": "2024-08-11T09:09:41.490667Z"
    },
    "papermill": {
     "duration": 0.043782,
     "end_time": "2024-08-11T09:09:41.493467",
     "exception": false,
     "start_time": "2024-08-11T09:09:41.449685",
     "status": "completed"
    },
    "tags": []
   },
   "outputs": [],
   "source": [
    "for i in dataset1.select_dtypes(exclude=['object']).columns:\n",
    "  df_imputed[i] = df_imputed[i].apply(lambda x:float(x))"
   ]
  },
  {
   "cell_type": "code",
   "execution_count": 43,
   "id": "082af406",
   "metadata": {
    "execution": {
     "iopub.execute_input": "2024-08-11T09:09:41.551012Z",
     "iopub.status.busy": "2024-08-11T09:09:41.550704Z",
     "iopub.status.idle": "2024-08-11T09:09:41.556911Z",
     "shell.execute_reply": "2024-08-11T09:09:41.556091Z"
    },
    "papermill": {
     "duration": 0.037099,
     "end_time": "2024-08-11T09:09:41.558759",
     "exception": false,
     "start_time": "2024-08-11T09:09:41.521660",
     "status": "completed"
    },
    "tags": []
   },
   "outputs": [],
   "source": [
    "df_imputed['pcv'] = pd.to_numeric(df_imputed['pcv'])\n",
    "df_imputed['wc'] = pd.to_numeric(df_imputed['wc'])\n",
    "df_imputed['rc'] = pd.to_numeric(df_imputed['rc'])"
   ]
  },
  {
   "cell_type": "code",
   "execution_count": 44,
   "id": "af1508a1",
   "metadata": {
    "execution": {
     "iopub.execute_input": "2024-08-11T09:09:41.616637Z",
     "iopub.status.busy": "2024-08-11T09:09:41.616356Z",
     "iopub.status.idle": "2024-08-11T09:09:41.628932Z",
     "shell.execute_reply": "2024-08-11T09:09:41.627873Z"
    },
    "papermill": {
     "duration": 0.043609,
     "end_time": "2024-08-11T09:09:41.630871",
     "exception": false,
     "start_time": "2024-08-11T09:09:41.587262",
     "status": "completed"
    },
    "tags": []
   },
   "outputs": [
    {
     "name": "stdout",
     "output_type": "stream",
     "text": [
      "<class 'pandas.core.frame.DataFrame'>\n",
      "RangeIndex: 400 entries, 0 to 399\n",
      "Data columns (total 25 columns):\n",
      " #   Column          Non-Null Count  Dtype  \n",
      "---  ------          --------------  -----  \n",
      " 0   age             400 non-null    float64\n",
      " 1   bp              400 non-null    float64\n",
      " 2   sg              400 non-null    float64\n",
      " 3   al              400 non-null    float64\n",
      " 4   su              400 non-null    float64\n",
      " 5   sod             400 non-null    float64\n",
      " 6   pot             400 non-null    float64\n",
      " 7   hemo            400 non-null    float64\n",
      " 8   bgr             400 non-null    float64\n",
      " 9   bu              400 non-null    float64\n",
      " 10  sc              400 non-null    float64\n",
      " 11  rbc             400 non-null    object \n",
      " 12  pc              400 non-null    object \n",
      " 13  pcc             400 non-null    object \n",
      " 14  ba              400 non-null    object \n",
      " 15  pcv             400 non-null    int64  \n",
      " 16  wc              400 non-null    int64  \n",
      " 17  rc              400 non-null    float64\n",
      " 18  htn             400 non-null    object \n",
      " 19  dm              400 non-null    object \n",
      " 20  cad             400 non-null    object \n",
      " 21  appet           400 non-null    object \n",
      " 22  pe              400 non-null    object \n",
      " 23  ane             400 non-null    object \n",
      " 24  classification  400 non-null    object \n",
      "dtypes: float64(12), int64(2), object(11)\n",
      "memory usage: 78.2+ KB\n"
     ]
    }
   ],
   "source": [
    "df_imputed.info()"
   ]
  },
  {
   "cell_type": "code",
   "execution_count": 45,
   "id": "2b5256cd",
   "metadata": {
    "execution": {
     "iopub.execute_input": "2024-08-11T09:09:41.687952Z",
     "iopub.status.busy": "2024-08-11T09:09:41.687693Z",
     "iopub.status.idle": "2024-08-11T09:09:41.692906Z",
     "shell.execute_reply": "2024-08-11T09:09:41.692249Z"
    },
    "papermill": {
     "duration": 0.036098,
     "end_time": "2024-08-11T09:09:41.694836",
     "exception": false,
     "start_time": "2024-08-11T09:09:41.658738",
     "status": "completed"
    },
    "tags": []
   },
   "outputs": [
    {
     "data": {
      "text/plain": [
       "Index(['age', 'bp', 'sg', 'al', 'su', 'sod', 'pot', 'hemo', 'bgr', 'bu', 'sc',\n",
       "       'rbc', 'pc', 'pcc', 'ba', 'pcv', 'wc', 'rc', 'htn', 'dm', 'cad',\n",
       "       'appet', 'pe', 'ane', 'classification'],\n",
       "      dtype='object')"
      ]
     },
     "execution_count": 45,
     "metadata": {},
     "output_type": "execute_result"
    }
   ],
   "source": [
    "df_imputed.columns"
   ]
  },
  {
   "cell_type": "code",
   "execution_count": 46,
   "id": "1105660f",
   "metadata": {
    "execution": {
     "iopub.execute_input": "2024-08-11T09:09:41.751623Z",
     "iopub.status.busy": "2024-08-11T09:09:41.751369Z",
     "iopub.status.idle": "2024-08-11T09:09:41.756235Z",
     "shell.execute_reply": "2024-08-11T09:09:41.755349Z"
    },
    "papermill": {
     "duration": 0.035328,
     "end_time": "2024-08-11T09:09:41.758094",
     "exception": false,
     "start_time": "2024-08-11T09:09:41.722766",
     "status": "completed"
    },
    "tags": []
   },
   "outputs": [],
   "source": [
    "# Extracting categorical and numerical columns\n",
    "\n",
    "cat_cols = [col for col in df_imputed.columns if df_imputed[col].dtype == 'object']\n",
    "num_cols = [col for col in df_imputed.columns if df_imputed[col].dtype != 'object']"
   ]
  },
  {
   "cell_type": "markdown",
   "id": "b8803b2b",
   "metadata": {
    "papermill": {
     "duration": 0.027776,
     "end_time": "2024-08-11T09:09:41.813729",
     "exception": false,
     "start_time": "2024-08-11T09:09:41.785953",
     "status": "completed"
    },
    "tags": []
   },
   "source": [
    "# **All the missing values are handeled now, lets do ctaegorical features encding now**"
   ]
  },
  {
   "cell_type": "markdown",
   "id": "0290a57f",
   "metadata": {
    "papermill": {
     "duration": 0.027723,
     "end_time": "2024-08-11T09:09:41.869321",
     "exception": false,
     "start_time": "2024-08-11T09:09:41.841598",
     "status": "completed"
    },
    "tags": []
   },
   "source": [
    "# **Feature Encoding**"
   ]
  },
  {
   "cell_type": "code",
   "execution_count": 47,
   "id": "e74fb8ee",
   "metadata": {
    "execution": {
     "iopub.execute_input": "2024-08-11T09:09:41.926351Z",
     "iopub.status.busy": "2024-08-11T09:09:41.926058Z",
     "iopub.status.idle": "2024-08-11T09:09:41.932873Z",
     "shell.execute_reply": "2024-08-11T09:09:41.931839Z"
    },
    "papermill": {
     "duration": 0.037735,
     "end_time": "2024-08-11T09:09:41.934754",
     "exception": false,
     "start_time": "2024-08-11T09:09:41.897019",
     "status": "completed"
    },
    "tags": []
   },
   "outputs": [
    {
     "name": "stdout",
     "output_type": "stream",
     "text": [
      "rbc has 2 categories \n",
      "\n",
      "pc has 2 categories \n",
      "\n",
      "pcc has 2 categories \n",
      "\n",
      "ba has 2 categories \n",
      "\n",
      "htn has 2 categories \n",
      "\n",
      "dm has 2 categories \n",
      "\n",
      "cad has 2 categories \n",
      "\n",
      "appet has 2 categories \n",
      "\n",
      "pe has 2 categories \n",
      "\n",
      "ane has 2 categories \n",
      "\n",
      "classification has 2 categories \n",
      "\n"
     ]
    }
   ],
   "source": [
    "for col in cat_cols:\n",
    "    print(f\"{col} has {df_imputed[col].nunique()} categories \\n\")"
   ]
  },
  {
   "cell_type": "markdown",
   "id": "c4bf203e",
   "metadata": {
    "papermill": {
     "duration": 0.028594,
     "end_time": "2024-08-11T09:09:41.991666",
     "exception": false,
     "start_time": "2024-08-11T09:09:41.963072",
     "status": "completed"
    },
    "tags": []
   },
   "source": [
    "# **As all of the categorical columns have 2 categories we can use label encoder**"
   ]
  },
  {
   "cell_type": "code",
   "execution_count": 48,
   "id": "5d832522",
   "metadata": {
    "execution": {
     "iopub.execute_input": "2024-08-11T09:09:42.049401Z",
     "iopub.status.busy": "2024-08-11T09:09:42.049111Z",
     "iopub.status.idle": "2024-08-11T09:09:42.058789Z",
     "shell.execute_reply": "2024-08-11T09:09:42.058112Z"
    },
    "papermill": {
     "duration": 0.04038,
     "end_time": "2024-08-11T09:09:42.060596",
     "exception": false,
     "start_time": "2024-08-11T09:09:42.020216",
     "status": "completed"
    },
    "tags": []
   },
   "outputs": [],
   "source": [
    "from sklearn.preprocessing import LabelEncoder\n",
    "\n",
    "le = LabelEncoder()\n",
    "\n",
    "for col in cat_cols:\n",
    "    df_imputed[col] = le.fit_transform(df_imputed[col])"
   ]
  },
  {
   "cell_type": "code",
   "execution_count": 49,
   "id": "1dd62a63",
   "metadata": {
    "execution": {
     "iopub.execute_input": "2024-08-11T09:09:42.119189Z",
     "iopub.status.busy": "2024-08-11T09:09:42.118905Z",
     "iopub.status.idle": "2024-08-11T09:09:42.144563Z",
     "shell.execute_reply": "2024-08-11T09:09:42.143708Z"
    },
    "papermill": {
     "duration": 0.057338,
     "end_time": "2024-08-11T09:09:42.146760",
     "exception": false,
     "start_time": "2024-08-11T09:09:42.089422",
     "status": "completed"
    },
    "tags": []
   },
   "outputs": [
    {
     "data": {
      "text/html": [
       "<div>\n",
       "<style scoped>\n",
       "    .dataframe tbody tr th:only-of-type {\n",
       "        vertical-align: middle;\n",
       "    }\n",
       "\n",
       "    .dataframe tbody tr th {\n",
       "        vertical-align: top;\n",
       "    }\n",
       "\n",
       "    .dataframe thead th {\n",
       "        text-align: right;\n",
       "    }\n",
       "</style>\n",
       "<table border=\"1\" class=\"dataframe\">\n",
       "  <thead>\n",
       "    <tr style=\"text-align: right;\">\n",
       "      <th></th>\n",
       "      <th>age</th>\n",
       "      <th>bp</th>\n",
       "      <th>sg</th>\n",
       "      <th>al</th>\n",
       "      <th>su</th>\n",
       "      <th>sod</th>\n",
       "      <th>pot</th>\n",
       "      <th>hemo</th>\n",
       "      <th>bgr</th>\n",
       "      <th>bu</th>\n",
       "      <th>...</th>\n",
       "      <th>pcv</th>\n",
       "      <th>wc</th>\n",
       "      <th>rc</th>\n",
       "      <th>htn</th>\n",
       "      <th>dm</th>\n",
       "      <th>cad</th>\n",
       "      <th>appet</th>\n",
       "      <th>pe</th>\n",
       "      <th>ane</th>\n",
       "      <th>classification</th>\n",
       "    </tr>\n",
       "  </thead>\n",
       "  <tbody>\n",
       "    <tr>\n",
       "      <th>0</th>\n",
       "      <td>48.0</td>\n",
       "      <td>80.0</td>\n",
       "      <td>1.020</td>\n",
       "      <td>1.0</td>\n",
       "      <td>0.0</td>\n",
       "      <td>137.528754</td>\n",
       "      <td>4.627244</td>\n",
       "      <td>15.4</td>\n",
       "      <td>121.0</td>\n",
       "      <td>36.0</td>\n",
       "      <td>...</td>\n",
       "      <td>44</td>\n",
       "      <td>7800</td>\n",
       "      <td>5.2</td>\n",
       "      <td>1</td>\n",
       "      <td>1</td>\n",
       "      <td>0</td>\n",
       "      <td>0</td>\n",
       "      <td>0</td>\n",
       "      <td>0</td>\n",
       "      <td>0</td>\n",
       "    </tr>\n",
       "    <tr>\n",
       "      <th>1</th>\n",
       "      <td>7.0</td>\n",
       "      <td>50.0</td>\n",
       "      <td>1.020</td>\n",
       "      <td>4.0</td>\n",
       "      <td>0.0</td>\n",
       "      <td>137.528754</td>\n",
       "      <td>4.627244</td>\n",
       "      <td>11.3</td>\n",
       "      <td>121.0</td>\n",
       "      <td>18.0</td>\n",
       "      <td>...</td>\n",
       "      <td>38</td>\n",
       "      <td>6000</td>\n",
       "      <td>5.2</td>\n",
       "      <td>0</td>\n",
       "      <td>0</td>\n",
       "      <td>0</td>\n",
       "      <td>0</td>\n",
       "      <td>0</td>\n",
       "      <td>0</td>\n",
       "      <td>0</td>\n",
       "    </tr>\n",
       "    <tr>\n",
       "      <th>2</th>\n",
       "      <td>62.0</td>\n",
       "      <td>80.0</td>\n",
       "      <td>1.010</td>\n",
       "      <td>2.0</td>\n",
       "      <td>3.0</td>\n",
       "      <td>137.528754</td>\n",
       "      <td>4.627244</td>\n",
       "      <td>9.6</td>\n",
       "      <td>423.0</td>\n",
       "      <td>53.0</td>\n",
       "      <td>...</td>\n",
       "      <td>31</td>\n",
       "      <td>7500</td>\n",
       "      <td>5.2</td>\n",
       "      <td>0</td>\n",
       "      <td>1</td>\n",
       "      <td>0</td>\n",
       "      <td>1</td>\n",
       "      <td>0</td>\n",
       "      <td>1</td>\n",
       "      <td>0</td>\n",
       "    </tr>\n",
       "    <tr>\n",
       "      <th>3</th>\n",
       "      <td>48.0</td>\n",
       "      <td>70.0</td>\n",
       "      <td>1.005</td>\n",
       "      <td>4.0</td>\n",
       "      <td>0.0</td>\n",
       "      <td>111.000000</td>\n",
       "      <td>2.500000</td>\n",
       "      <td>11.2</td>\n",
       "      <td>117.0</td>\n",
       "      <td>56.0</td>\n",
       "      <td>...</td>\n",
       "      <td>32</td>\n",
       "      <td>6700</td>\n",
       "      <td>3.9</td>\n",
       "      <td>1</td>\n",
       "      <td>0</td>\n",
       "      <td>0</td>\n",
       "      <td>1</td>\n",
       "      <td>1</td>\n",
       "      <td>1</td>\n",
       "      <td>0</td>\n",
       "    </tr>\n",
       "    <tr>\n",
       "      <th>4</th>\n",
       "      <td>51.0</td>\n",
       "      <td>80.0</td>\n",
       "      <td>1.010</td>\n",
       "      <td>2.0</td>\n",
       "      <td>0.0</td>\n",
       "      <td>137.528754</td>\n",
       "      <td>4.627244</td>\n",
       "      <td>11.6</td>\n",
       "      <td>106.0</td>\n",
       "      <td>26.0</td>\n",
       "      <td>...</td>\n",
       "      <td>35</td>\n",
       "      <td>7300</td>\n",
       "      <td>4.6</td>\n",
       "      <td>0</td>\n",
       "      <td>0</td>\n",
       "      <td>0</td>\n",
       "      <td>0</td>\n",
       "      <td>0</td>\n",
       "      <td>0</td>\n",
       "      <td>0</td>\n",
       "    </tr>\n",
       "  </tbody>\n",
       "</table>\n",
       "<p>5 rows × 25 columns</p>\n",
       "</div>"
      ],
      "text/plain": [
       "    age    bp     sg   al   su         sod       pot  hemo    bgr    bu  ...  \\\n",
       "0  48.0  80.0  1.020  1.0  0.0  137.528754  4.627244  15.4  121.0  36.0  ...   \n",
       "1   7.0  50.0  1.020  4.0  0.0  137.528754  4.627244  11.3  121.0  18.0  ...   \n",
       "2  62.0  80.0  1.010  2.0  3.0  137.528754  4.627244   9.6  423.0  53.0  ...   \n",
       "3  48.0  70.0  1.005  4.0  0.0  111.000000  2.500000  11.2  117.0  56.0  ...   \n",
       "4  51.0  80.0  1.010  2.0  0.0  137.528754  4.627244  11.6  106.0  26.0  ...   \n",
       "\n",
       "   pcv    wc   rc  htn  dm  cad  appet  pe  ane  classification  \n",
       "0   44  7800  5.2    1   1    0      0   0    0               0  \n",
       "1   38  6000  5.2    0   0    0      0   0    0               0  \n",
       "2   31  7500  5.2    0   1    0      1   0    1               0  \n",
       "3   32  6700  3.9    1   0    0      1   1    1               0  \n",
       "4   35  7300  4.6    0   0    0      0   0    0               0  \n",
       "\n",
       "[5 rows x 25 columns]"
      ]
     },
     "execution_count": 49,
     "metadata": {},
     "output_type": "execute_result"
    }
   ],
   "source": [
    "df_imputed.head()"
   ]
  },
  {
   "cell_type": "markdown",
   "id": "1ddd3b8b",
   "metadata": {
    "papermill": {
     "duration": 0.030461,
     "end_time": "2024-08-11T09:09:42.211356",
     "exception": false,
     "start_time": "2024-08-11T09:09:42.180895",
     "status": "completed"
    },
    "tags": []
   },
   "source": [
    "# **Check if there is any Imbalence data in our Target variable**"
   ]
  },
  {
   "cell_type": "code",
   "execution_count": 50,
   "id": "489411d1",
   "metadata": {
    "execution": {
     "iopub.execute_input": "2024-08-11T09:09:42.272869Z",
     "iopub.status.busy": "2024-08-11T09:09:42.272562Z",
     "iopub.status.idle": "2024-08-11T09:09:42.281637Z",
     "shell.execute_reply": "2024-08-11T09:09:42.280759Z"
    },
    "papermill": {
     "duration": 0.040626,
     "end_time": "2024-08-11T09:09:42.283579",
     "exception": false,
     "start_time": "2024-08-11T09:09:42.242953",
     "status": "completed"
    },
    "tags": []
   },
   "outputs": [
    {
     "data": {
      "text/plain": [
       "classification\n",
       "0    250\n",
       "1    150\n",
       "Name: count, dtype: int64"
      ]
     },
     "execution_count": 50,
     "metadata": {},
     "output_type": "execute_result"
    }
   ],
   "source": [
    "df_imputed['classification'].value_counts()"
   ]
  },
  {
   "cell_type": "code",
   "execution_count": 51,
   "id": "015649a7",
   "metadata": {
    "execution": {
     "iopub.execute_input": "2024-08-11T09:09:42.343384Z",
     "iopub.status.busy": "2024-08-11T09:09:42.343122Z",
     "iopub.status.idle": "2024-08-11T09:09:42.348386Z",
     "shell.execute_reply": "2024-08-11T09:09:42.347671Z"
    },
    "papermill": {
     "duration": 0.036292,
     "end_time": "2024-08-11T09:09:42.350195",
     "exception": false,
     "start_time": "2024-08-11T09:09:42.313903",
     "status": "completed"
    },
    "tags": []
   },
   "outputs": [],
   "source": [
    "# Feature Scaling\n",
    "x = df_imputed.iloc[:,:-1]\n",
    "y = df_imputed.iloc[:,-1]"
   ]
  },
  {
   "cell_type": "code",
   "execution_count": 52,
   "id": "e8c17efe",
   "metadata": {
    "execution": {
     "iopub.execute_input": "2024-08-11T09:09:42.408866Z",
     "iopub.status.busy": "2024-08-11T09:09:42.408583Z",
     "iopub.status.idle": "2024-08-11T09:09:42.438720Z",
     "shell.execute_reply": "2024-08-11T09:09:42.437837Z"
    },
    "papermill": {
     "duration": 0.061642,
     "end_time": "2024-08-11T09:09:42.440564",
     "exception": false,
     "start_time": "2024-08-11T09:09:42.378922",
     "status": "completed"
    },
    "tags": []
   },
   "outputs": [
    {
     "data": {
      "text/html": [
       "<div>\n",
       "<style scoped>\n",
       "    .dataframe tbody tr th:only-of-type {\n",
       "        vertical-align: middle;\n",
       "    }\n",
       "\n",
       "    .dataframe tbody tr th {\n",
       "        vertical-align: top;\n",
       "    }\n",
       "\n",
       "    .dataframe thead th {\n",
       "        text-align: right;\n",
       "    }\n",
       "</style>\n",
       "<table border=\"1\" class=\"dataframe\">\n",
       "  <thead>\n",
       "    <tr style=\"text-align: right;\">\n",
       "      <th></th>\n",
       "      <th>0</th>\n",
       "      <th>1</th>\n",
       "      <th>2</th>\n",
       "      <th>3</th>\n",
       "      <th>4</th>\n",
       "      <th>5</th>\n",
       "      <th>6</th>\n",
       "      <th>7</th>\n",
       "      <th>8</th>\n",
       "      <th>9</th>\n",
       "      <th>...</th>\n",
       "      <th>14</th>\n",
       "      <th>15</th>\n",
       "      <th>16</th>\n",
       "      <th>17</th>\n",
       "      <th>18</th>\n",
       "      <th>19</th>\n",
       "      <th>20</th>\n",
       "      <th>21</th>\n",
       "      <th>22</th>\n",
       "      <th>23</th>\n",
       "    </tr>\n",
       "  </thead>\n",
       "  <tbody>\n",
       "    <tr>\n",
       "      <th>0</th>\n",
       "      <td>0.045455</td>\n",
       "      <td>-0.538462</td>\n",
       "      <td>0.5</td>\n",
       "      <td>-0.6</td>\n",
       "      <td>-1.0</td>\n",
       "      <td>0.678596</td>\n",
       "      <td>-0.904394</td>\n",
       "      <td>0.673469</td>\n",
       "      <td>-0.576923</td>\n",
       "      <td>-0.822850</td>\n",
       "      <td>...</td>\n",
       "      <td>-1.0</td>\n",
       "      <td>0.555556</td>\n",
       "      <td>-0.537190</td>\n",
       "      <td>0.050847</td>\n",
       "      <td>1.0</td>\n",
       "      <td>1.0</td>\n",
       "      <td>-1.0</td>\n",
       "      <td>-1.0</td>\n",
       "      <td>-1.0</td>\n",
       "      <td>-1.0</td>\n",
       "    </tr>\n",
       "    <tr>\n",
       "      <th>1</th>\n",
       "      <td>-0.886364</td>\n",
       "      <td>-1.000000</td>\n",
       "      <td>0.5</td>\n",
       "      <td>0.6</td>\n",
       "      <td>-1.0</td>\n",
       "      <td>0.678596</td>\n",
       "      <td>-0.904394</td>\n",
       "      <td>0.115646</td>\n",
       "      <td>-0.576923</td>\n",
       "      <td>-0.915276</td>\n",
       "      <td>...</td>\n",
       "      <td>-1.0</td>\n",
       "      <td>0.288889</td>\n",
       "      <td>-0.685950</td>\n",
       "      <td>0.050847</td>\n",
       "      <td>-1.0</td>\n",
       "      <td>-1.0</td>\n",
       "      <td>-1.0</td>\n",
       "      <td>-1.0</td>\n",
       "      <td>-1.0</td>\n",
       "      <td>-1.0</td>\n",
       "    </tr>\n",
       "    <tr>\n",
       "      <th>2</th>\n",
       "      <td>0.363636</td>\n",
       "      <td>-0.538462</td>\n",
       "      <td>-0.5</td>\n",
       "      <td>-0.2</td>\n",
       "      <td>0.2</td>\n",
       "      <td>0.678596</td>\n",
       "      <td>-0.904394</td>\n",
       "      <td>-0.115646</td>\n",
       "      <td>0.713675</td>\n",
       "      <td>-0.735558</td>\n",
       "      <td>...</td>\n",
       "      <td>-1.0</td>\n",
       "      <td>-0.022222</td>\n",
       "      <td>-0.561983</td>\n",
       "      <td>0.050847</td>\n",
       "      <td>-1.0</td>\n",
       "      <td>1.0</td>\n",
       "      <td>-1.0</td>\n",
       "      <td>1.0</td>\n",
       "      <td>-1.0</td>\n",
       "      <td>1.0</td>\n",
       "    </tr>\n",
       "    <tr>\n",
       "      <th>3</th>\n",
       "      <td>0.045455</td>\n",
       "      <td>-0.692308</td>\n",
       "      <td>-1.0</td>\n",
       "      <td>0.6</td>\n",
       "      <td>-1.0</td>\n",
       "      <td>0.343849</td>\n",
       "      <td>-1.000000</td>\n",
       "      <td>0.102041</td>\n",
       "      <td>-0.594017</td>\n",
       "      <td>-0.720154</td>\n",
       "      <td>...</td>\n",
       "      <td>-1.0</td>\n",
       "      <td>0.022222</td>\n",
       "      <td>-0.628099</td>\n",
       "      <td>-0.389831</td>\n",
       "      <td>1.0</td>\n",
       "      <td>-1.0</td>\n",
       "      <td>-1.0</td>\n",
       "      <td>1.0</td>\n",
       "      <td>1.0</td>\n",
       "      <td>1.0</td>\n",
       "    </tr>\n",
       "    <tr>\n",
       "      <th>4</th>\n",
       "      <td>0.113636</td>\n",
       "      <td>-0.538462</td>\n",
       "      <td>-0.5</td>\n",
       "      <td>-0.2</td>\n",
       "      <td>-1.0</td>\n",
       "      <td>0.678596</td>\n",
       "      <td>-0.904394</td>\n",
       "      <td>0.156463</td>\n",
       "      <td>-0.641026</td>\n",
       "      <td>-0.874198</td>\n",
       "      <td>...</td>\n",
       "      <td>-1.0</td>\n",
       "      <td>0.155556</td>\n",
       "      <td>-0.578512</td>\n",
       "      <td>-0.152542</td>\n",
       "      <td>-1.0</td>\n",
       "      <td>-1.0</td>\n",
       "      <td>-1.0</td>\n",
       "      <td>-1.0</td>\n",
       "      <td>-1.0</td>\n",
       "      <td>-1.0</td>\n",
       "    </tr>\n",
       "  </tbody>\n",
       "</table>\n",
       "<p>5 rows × 24 columns</p>\n",
       "</div>"
      ],
      "text/plain": [
       "         0         1    2    3    4         5         6         7         8   \\\n",
       "0  0.045455 -0.538462  0.5 -0.6 -1.0  0.678596 -0.904394  0.673469 -0.576923   \n",
       "1 -0.886364 -1.000000  0.5  0.6 -1.0  0.678596 -0.904394  0.115646 -0.576923   \n",
       "2  0.363636 -0.538462 -0.5 -0.2  0.2  0.678596 -0.904394 -0.115646  0.713675   \n",
       "3  0.045455 -0.692308 -1.0  0.6 -1.0  0.343849 -1.000000  0.102041 -0.594017   \n",
       "4  0.113636 -0.538462 -0.5 -0.2 -1.0  0.678596 -0.904394  0.156463 -0.641026   \n",
       "\n",
       "         9   ...   14        15        16        17   18   19   20   21   22  \\\n",
       "0 -0.822850  ... -1.0  0.555556 -0.537190  0.050847  1.0  1.0 -1.0 -1.0 -1.0   \n",
       "1 -0.915276  ... -1.0  0.288889 -0.685950  0.050847 -1.0 -1.0 -1.0 -1.0 -1.0   \n",
       "2 -0.735558  ... -1.0 -0.022222 -0.561983  0.050847 -1.0  1.0 -1.0  1.0 -1.0   \n",
       "3 -0.720154  ... -1.0  0.022222 -0.628099 -0.389831  1.0 -1.0 -1.0  1.0  1.0   \n",
       "4 -0.874198  ... -1.0  0.155556 -0.578512 -0.152542 -1.0 -1.0 -1.0 -1.0 -1.0   \n",
       "\n",
       "    23  \n",
       "0 -1.0  \n",
       "1 -1.0  \n",
       "2  1.0  \n",
       "3  1.0  \n",
       "4 -1.0  \n",
       "\n",
       "[5 rows x 24 columns]"
      ]
     },
     "execution_count": 52,
     "metadata": {},
     "output_type": "execute_result"
    }
   ],
   "source": [
    "scaler = MinMaxScaler((-1,1))\n",
    "x = scaler.fit_transform(x)\n",
    "pd.DataFrame(x).head()"
   ]
  },
  {
   "cell_type": "markdown",
   "id": "31cb057e",
   "metadata": {
    "papermill": {
     "duration": 0.029022,
     "end_time": "2024-08-11T09:09:42.498621",
     "exception": false,
     "start_time": "2024-08-11T09:09:42.469599",
     "status": "completed"
    },
    "tags": []
   },
   "source": [
    "#                **Model Building**"
   ]
  },
  {
   "cell_type": "code",
   "execution_count": 53,
   "id": "78007982",
   "metadata": {
    "execution": {
     "iopub.execute_input": "2024-08-11T09:09:42.558405Z",
     "iopub.status.busy": "2024-08-11T09:09:42.558110Z",
     "iopub.status.idle": "2024-08-11T09:09:42.565805Z",
     "shell.execute_reply": "2024-08-11T09:09:42.565136Z"
    },
    "papermill": {
     "duration": 0.039869,
     "end_time": "2024-08-11T09:09:42.567815",
     "exception": false,
     "start_time": "2024-08-11T09:09:42.527946",
     "status": "completed"
    },
    "tags": []
   },
   "outputs": [],
   "source": [
    "# split the data into train and test\n",
    "x_train, x_test, y_train, y_test = train_test_split(x, y, test_size=0.2, random_state=42, stratify=y)"
   ]
  },
  {
   "cell_type": "markdown",
   "id": "14bf4144",
   "metadata": {
    "papermill": {
     "duration": 0.02884,
     "end_time": "2024-08-11T09:09:42.627821",
     "exception": false,
     "start_time": "2024-08-11T09:09:42.598981",
     "status": "completed"
    },
    "tags": []
   },
   "source": [
    "# **k-nearest neighbors (KNN) algorithm**"
   ]
  },
  {
   "cell_type": "code",
   "execution_count": 54,
   "id": "b1659969",
   "metadata": {
    "execution": {
     "iopub.execute_input": "2024-08-11T09:09:42.687374Z",
     "iopub.status.busy": "2024-08-11T09:09:42.686664Z",
     "iopub.status.idle": "2024-08-11T09:09:42.801993Z",
     "shell.execute_reply": "2024-08-11T09:09:42.801045Z"
    },
    "papermill": {
     "duration": 0.147447,
     "end_time": "2024-08-11T09:09:42.804313",
     "exception": false,
     "start_time": "2024-08-11T09:09:42.656866",
     "status": "completed"
    },
    "tags": []
   },
   "outputs": [
    {
     "name": "stdout",
     "output_type": "stream",
     "text": [
      "Training Accuracy of KNN is 0.984375\n",
      "Test Accuracy of KNN is 0.9875 \n",
      "\n",
      "Confusion Matrix :- \n",
      "[[49  1]\n",
      " [ 0 30]]\n",
      "\n",
      "Classification Report :- \n",
      "               precision    recall  f1-score   support\n",
      "\n",
      "           0       1.00      0.98      0.99        50\n",
      "           1       0.97      1.00      0.98        30\n",
      "\n",
      "    accuracy                           0.99        80\n",
      "   macro avg       0.98      0.99      0.99        80\n",
      "weighted avg       0.99      0.99      0.99        80\n",
      "\n"
     ]
    }
   ],
   "source": [
    "from sklearn.neighbors import KNeighborsClassifier\n",
    "from sklearn.metrics import accuracy_score, confusion_matrix, classification_report\n",
    "\n",
    "knn = KNeighborsClassifier()\n",
    "knn.fit(x_train, y_train)\n",
    "\n",
    "# accuracy score, confusion matrix and classification report of knn\n",
    "\n",
    "knn_acc = accuracy_score(y_test, knn.predict(x_test))\n",
    "\n",
    "print(f\"Training Accuracy of KNN is {accuracy_score(y_train, knn.predict(x_train))}\")\n",
    "print(f\"Test Accuracy of KNN is {knn_acc} \\n\")\n",
    "\n",
    "print(f\"Confusion Matrix :- \\n{confusion_matrix(y_test, knn.predict(x_test))}\\n\")\n",
    "print(f\"Classification Report :- \\n {classification_report(y_test, knn.predict(x_test))}\")"
   ]
  },
  {
   "cell_type": "markdown",
   "id": "4a1e6f7d",
   "metadata": {
    "papermill": {
     "duration": 0.028614,
     "end_time": "2024-08-11T09:09:42.863871",
     "exception": false,
     "start_time": "2024-08-11T09:09:42.835257",
     "status": "completed"
    },
    "tags": []
   },
   "source": [
    "# **Decision Tree Classifier**"
   ]
  },
  {
   "cell_type": "code",
   "execution_count": 55,
   "id": "0be402c0",
   "metadata": {
    "execution": {
     "iopub.execute_input": "2024-08-11T09:09:42.923486Z",
     "iopub.status.busy": "2024-08-11T09:09:42.922738Z",
     "iopub.status.idle": "2024-08-11T09:09:42.943267Z",
     "shell.execute_reply": "2024-08-11T09:09:42.942134Z"
    },
    "papermill": {
     "duration": 0.052951,
     "end_time": "2024-08-11T09:09:42.945505",
     "exception": false,
     "start_time": "2024-08-11T09:09:42.892554",
     "status": "completed"
    },
    "tags": []
   },
   "outputs": [
    {
     "name": "stdout",
     "output_type": "stream",
     "text": [
      "Training Accuracy of Decision Tree Classifier is 1.0\n",
      "Test Accuracy of Decision Tree Classifier is 0.9625 \n",
      "\n",
      "Confusion Matrix :- \n",
      "[[50  0]\n",
      " [ 3 27]]\n",
      "\n",
      "Classification Report :- \n",
      "               precision    recall  f1-score   support\n",
      "\n",
      "           0       0.94      1.00      0.97        50\n",
      "           1       1.00      0.90      0.95        30\n",
      "\n",
      "    accuracy                           0.96        80\n",
      "   macro avg       0.97      0.95      0.96        80\n",
      "weighted avg       0.96      0.96      0.96        80\n",
      "\n"
     ]
    }
   ],
   "source": [
    "from sklearn.tree import DecisionTreeClassifier\n",
    "\n",
    "dtc = DecisionTreeClassifier()\n",
    "dtc.fit(x_train, y_train)\n",
    "\n",
    "# accuracy score, confusion matrix and classification report of decision tree\n",
    "\n",
    "dtc_acc = accuracy_score(y_test, dtc.predict(x_test))\n",
    "\n",
    "print(f\"Training Accuracy of Decision Tree Classifier is {accuracy_score(y_train, dtc.predict(x_train))}\")\n",
    "print(f\"Test Accuracy of Decision Tree Classifier is {dtc_acc} \\n\")\n",
    "\n",
    "print(f\"Confusion Matrix :- \\n{confusion_matrix(y_test, dtc.predict(x_test))}\\n\")\n",
    "print(f\"Classification Report :- \\n {classification_report(y_test, dtc.predict(x_test))}\")"
   ]
  },
  {
   "cell_type": "markdown",
   "id": "6c734b22",
   "metadata": {
    "papermill": {
     "duration": 0.029102,
     "end_time": "2024-08-11T09:09:43.006514",
     "exception": false,
     "start_time": "2024-08-11T09:09:42.977412",
     "status": "completed"
    },
    "tags": []
   },
   "source": [
    " # Hyper parameter tuning of decision tree "
   ]
  },
  {
   "cell_type": "markdown",
   "id": "08c05430",
   "metadata": {
    "papermill": {
     "duration": 0.029018,
     "end_time": "2024-08-11T09:09:43.064822",
     "exception": false,
     "start_time": "2024-08-11T09:09:43.035804",
     "status": "completed"
    },
    "tags": []
   },
   "source": [
    "# -----------------------------**IMPORTANT**-----------------------\n",
    "\n",
    "# Deprecation of 'auto':\n",
    "\n",
    "# Deprecation Warning: The warning indicates that the max_features='auto' option has been deprecated since scikit- learn version 1.1 and will be removed in version 1.3. The recommendation is to explicitly set \n",
    "# max_features='sqrt' to maintain the behavior similar to the old 'auto' setting."
   ]
  },
  {
   "cell_type": "markdown",
   "id": "ee06d0b2",
   "metadata": {
    "papermill": {
     "duration": 0.029311,
     "end_time": "2024-08-11T09:09:43.123776",
     "exception": false,
     "start_time": "2024-08-11T09:09:43.094465",
     "status": "completed"
    },
    "tags": []
   },
   "source": []
  },
  {
   "cell_type": "code",
   "execution_count": 56,
   "id": "83fe60bb",
   "metadata": {
    "execution": {
     "iopub.execute_input": "2024-08-11T09:09:43.188168Z",
     "iopub.status.busy": "2024-08-11T09:09:43.187783Z",
     "iopub.status.idle": "2024-08-11T09:09:47.815175Z",
     "shell.execute_reply": "2024-08-11T09:09:47.814225Z"
    },
    "papermill": {
     "duration": 4.663321,
     "end_time": "2024-08-11T09:09:47.817326",
     "exception": false,
     "start_time": "2024-08-11T09:09:43.154005",
     "status": "completed"
    },
    "tags": []
   },
   "outputs": [
    {
     "name": "stdout",
     "output_type": "stream",
     "text": [
      "Fitting 5 folds for each of 640 candidates, totalling 3200 fits\n"
     ]
    },
    {
     "data": {
      "text/html": [
       "<style>#sk-container-id-2 {color: black;background-color: white;}#sk-container-id-2 pre{padding: 0;}#sk-container-id-2 div.sk-toggleable {background-color: white;}#sk-container-id-2 label.sk-toggleable__label {cursor: pointer;display: block;width: 100%;margin-bottom: 0;padding: 0.3em;box-sizing: border-box;text-align: center;}#sk-container-id-2 label.sk-toggleable__label-arrow:before {content: \"▸\";float: left;margin-right: 0.25em;color: #696969;}#sk-container-id-2 label.sk-toggleable__label-arrow:hover:before {color: black;}#sk-container-id-2 div.sk-estimator:hover label.sk-toggleable__label-arrow:before {color: black;}#sk-container-id-2 div.sk-toggleable__content {max-height: 0;max-width: 0;overflow: hidden;text-align: left;background-color: #f0f8ff;}#sk-container-id-2 div.sk-toggleable__content pre {margin: 0.2em;color: black;border-radius: 0.25em;background-color: #f0f8ff;}#sk-container-id-2 input.sk-toggleable__control:checked~div.sk-toggleable__content {max-height: 200px;max-width: 100%;overflow: auto;}#sk-container-id-2 input.sk-toggleable__control:checked~label.sk-toggleable__label-arrow:before {content: \"▾\";}#sk-container-id-2 div.sk-estimator input.sk-toggleable__control:checked~label.sk-toggleable__label {background-color: #d4ebff;}#sk-container-id-2 div.sk-label input.sk-toggleable__control:checked~label.sk-toggleable__label {background-color: #d4ebff;}#sk-container-id-2 input.sk-hidden--visually {border: 0;clip: rect(1px 1px 1px 1px);clip: rect(1px, 1px, 1px, 1px);height: 1px;margin: -1px;overflow: hidden;padding: 0;position: absolute;width: 1px;}#sk-container-id-2 div.sk-estimator {font-family: monospace;background-color: #f0f8ff;border: 1px dotted black;border-radius: 0.25em;box-sizing: border-box;margin-bottom: 0.5em;}#sk-container-id-2 div.sk-estimator:hover {background-color: #d4ebff;}#sk-container-id-2 div.sk-parallel-item::after {content: \"\";width: 100%;border-bottom: 1px solid gray;flex-grow: 1;}#sk-container-id-2 div.sk-label:hover label.sk-toggleable__label {background-color: #d4ebff;}#sk-container-id-2 div.sk-serial::before {content: \"\";position: absolute;border-left: 1px solid gray;box-sizing: border-box;top: 0;bottom: 0;left: 50%;z-index: 0;}#sk-container-id-2 div.sk-serial {display: flex;flex-direction: column;align-items: center;background-color: white;padding-right: 0.2em;padding-left: 0.2em;position: relative;}#sk-container-id-2 div.sk-item {position: relative;z-index: 1;}#sk-container-id-2 div.sk-parallel {display: flex;align-items: stretch;justify-content: center;background-color: white;position: relative;}#sk-container-id-2 div.sk-item::before, #sk-container-id-2 div.sk-parallel-item::before {content: \"\";position: absolute;border-left: 1px solid gray;box-sizing: border-box;top: 0;bottom: 0;left: 50%;z-index: -1;}#sk-container-id-2 div.sk-parallel-item {display: flex;flex-direction: column;z-index: 1;position: relative;background-color: white;}#sk-container-id-2 div.sk-parallel-item:first-child::after {align-self: flex-end;width: 50%;}#sk-container-id-2 div.sk-parallel-item:last-child::after {align-self: flex-start;width: 50%;}#sk-container-id-2 div.sk-parallel-item:only-child::after {width: 0;}#sk-container-id-2 div.sk-dashed-wrapped {border: 1px dashed gray;margin: 0 0.4em 0.5em 0.4em;box-sizing: border-box;padding-bottom: 0.4em;background-color: white;}#sk-container-id-2 div.sk-label label {font-family: monospace;font-weight: bold;display: inline-block;line-height: 1.2em;}#sk-container-id-2 div.sk-label-container {text-align: center;}#sk-container-id-2 div.sk-container {/* jupyter's `normalize.less` sets `[hidden] { display: none; }` but bootstrap.min.css set `[hidden] { display: none !important; }` so we also need the `!important` here to be able to override the default hidden behavior on the sphinx rendered scikit-learn.org. See: https://github.com/scikit-learn/scikit-learn/issues/21755 */display: inline-block !important;position: relative;}#sk-container-id-2 div.sk-text-repr-fallback {display: none;}</style><div id=\"sk-container-id-2\" class=\"sk-top-container\"><div class=\"sk-text-repr-fallback\"><pre>GridSearchCV(cv=5, estimator=DecisionTreeClassifier(), n_jobs=-1,\n",
       "             param_grid={&#x27;criterion&#x27;: [&#x27;gini&#x27;, &#x27;entropy&#x27;],\n",
       "                         &#x27;max_depth&#x27;: [3, 5, 7, 10],\n",
       "                         &#x27;max_features&#x27;: [&#x27;sqrt&#x27;, &#x27;log2&#x27;],\n",
       "                         &#x27;min_samples_leaf&#x27;: [1, 2, 3, 5, 7],\n",
       "                         &#x27;min_samples_split&#x27;: [2, 3, 5, 7],\n",
       "                         &#x27;splitter&#x27;: [&#x27;best&#x27;, &#x27;random&#x27;]},\n",
       "             verbose=1)</pre><b>In a Jupyter environment, please rerun this cell to show the HTML representation or trust the notebook. <br />On GitHub, the HTML representation is unable to render, please try loading this page with nbviewer.org.</b></div><div class=\"sk-container\" hidden><div class=\"sk-item sk-dashed-wrapped\"><div class=\"sk-label-container\"><div class=\"sk-label sk-toggleable\"><input class=\"sk-toggleable__control sk-hidden--visually\" id=\"sk-estimator-id-10\" type=\"checkbox\" ><label for=\"sk-estimator-id-10\" class=\"sk-toggleable__label sk-toggleable__label-arrow\">GridSearchCV</label><div class=\"sk-toggleable__content\"><pre>GridSearchCV(cv=5, estimator=DecisionTreeClassifier(), n_jobs=-1,\n",
       "             param_grid={&#x27;criterion&#x27;: [&#x27;gini&#x27;, &#x27;entropy&#x27;],\n",
       "                         &#x27;max_depth&#x27;: [3, 5, 7, 10],\n",
       "                         &#x27;max_features&#x27;: [&#x27;sqrt&#x27;, &#x27;log2&#x27;],\n",
       "                         &#x27;min_samples_leaf&#x27;: [1, 2, 3, 5, 7],\n",
       "                         &#x27;min_samples_split&#x27;: [2, 3, 5, 7],\n",
       "                         &#x27;splitter&#x27;: [&#x27;best&#x27;, &#x27;random&#x27;]},\n",
       "             verbose=1)</pre></div></div></div><div class=\"sk-parallel\"><div class=\"sk-parallel-item\"><div class=\"sk-item\"><div class=\"sk-label-container\"><div class=\"sk-label sk-toggleable\"><input class=\"sk-toggleable__control sk-hidden--visually\" id=\"sk-estimator-id-11\" type=\"checkbox\" ><label for=\"sk-estimator-id-11\" class=\"sk-toggleable__label sk-toggleable__label-arrow\">estimator: DecisionTreeClassifier</label><div class=\"sk-toggleable__content\"><pre>DecisionTreeClassifier()</pre></div></div></div><div class=\"sk-serial\"><div class=\"sk-item\"><div class=\"sk-estimator sk-toggleable\"><input class=\"sk-toggleable__control sk-hidden--visually\" id=\"sk-estimator-id-12\" type=\"checkbox\" ><label for=\"sk-estimator-id-12\" class=\"sk-toggleable__label sk-toggleable__label-arrow\">DecisionTreeClassifier</label><div class=\"sk-toggleable__content\"><pre>DecisionTreeClassifier()</pre></div></div></div></div></div></div></div></div></div></div>"
      ],
      "text/plain": [
       "GridSearchCV(cv=5, estimator=DecisionTreeClassifier(), n_jobs=-1,\n",
       "             param_grid={'criterion': ['gini', 'entropy'],\n",
       "                         'max_depth': [3, 5, 7, 10],\n",
       "                         'max_features': ['sqrt', 'log2'],\n",
       "                         'min_samples_leaf': [1, 2, 3, 5, 7],\n",
       "                         'min_samples_split': [2, 3, 5, 7],\n",
       "                         'splitter': ['best', 'random']},\n",
       "             verbose=1)"
      ]
     },
     "execution_count": 56,
     "metadata": {},
     "output_type": "execute_result"
    }
   ],
   "source": [
    "from sklearn.tree import DecisionTreeClassifier\n",
    "from sklearn.model_selection import GridSearchCV\n",
    "\n",
    "# Define the parameter grid\n",
    "grid_param = {\n",
    "    'criterion' : ['gini', 'entropy'],\n",
    "    'max_depth' : [3, 5, 7, 10],\n",
    "    'splitter' : ['best', 'random'],\n",
    "    'min_samples_leaf' : [1, 2, 3, 5, 7],\n",
    "    'min_samples_split' : [2, 3, 5, 7],  # Removed 1 to avoid errors\n",
    "    'max_features' : ['sqrt', 'log2']  # Removed 'auto' to avoid deprecation warning\n",
    "}\n",
    "\n",
    "# Initialize the DecisionTreeClassifier\n",
    "dtc = DecisionTreeClassifier()\n",
    "\n",
    "# Set up GridSearchCV with the corrected parameter grid\n",
    "grid_search_dtc = GridSearchCV(dtc, grid_param, cv=5, n_jobs=-1, verbose=1)\n",
    "\n",
    "# Fit the model on the training data\n",
    "grid_search_dtc.fit(x_train, y_train)"
   ]
  },
  {
   "cell_type": "markdown",
   "id": "719095bd",
   "metadata": {
    "papermill": {
     "duration": 0.029064,
     "end_time": "2024-08-11T09:09:47.876315",
     "exception": false,
     "start_time": "2024-08-11T09:09:47.847251",
     "status": "completed"
    },
    "tags": []
   },
   "source": [
    "# --------------------------------Next Steps--------------------------------\n",
    "# **After running the grid search, you can find the best parameters and evaluate the performance of the resulting model:**"
   ]
  },
  {
   "cell_type": "markdown",
   "id": "0910c688",
   "metadata": {
    "papermill": {
     "duration": 0.029298,
     "end_time": "2024-08-11T09:09:47.935449",
     "exception": false,
     "start_time": "2024-08-11T09:09:47.906151",
     "status": "completed"
    },
    "tags": []
   },
   "source": [
    "# **Best parameters and best score**"
   ]
  },
  {
   "cell_type": "code",
   "execution_count": 57,
   "id": "4577d596",
   "metadata": {
    "execution": {
     "iopub.execute_input": "2024-08-11T09:09:47.997412Z",
     "iopub.status.busy": "2024-08-11T09:09:47.996572Z",
     "iopub.status.idle": "2024-08-11T09:09:48.001870Z",
     "shell.execute_reply": "2024-08-11T09:09:48.000912Z"
    },
    "papermill": {
     "duration": 0.038162,
     "end_time": "2024-08-11T09:09:48.003933",
     "exception": false,
     "start_time": "2024-08-11T09:09:47.965771",
     "status": "completed"
    },
    "tags": []
   },
   "outputs": [
    {
     "name": "stdout",
     "output_type": "stream",
     "text": [
      "{'criterion': 'gini', 'max_depth': 10, 'max_features': 'sqrt', 'min_samples_leaf': 2, 'min_samples_split': 3, 'splitter': 'random'}\n",
      "0.98125\n"
     ]
    }
   ],
   "source": [
    "print(grid_search_dtc.best_params_)\n",
    "print(grid_search_dtc.best_score_)"
   ]
  },
  {
   "cell_type": "markdown",
   "id": "92859f18",
   "metadata": {
    "papermill": {
     "duration": 0.030149,
     "end_time": "2024-08-11T09:09:48.063899",
     "exception": false,
     "start_time": "2024-08-11T09:09:48.033750",
     "status": "completed"
    },
    "tags": []
   },
   "source": [
    "#  **Best estimator**"
   ]
  },
  {
   "cell_type": "code",
   "execution_count": 58,
   "id": "d7e8eef8",
   "metadata": {
    "execution": {
     "iopub.execute_input": "2024-08-11T09:09:48.126875Z",
     "iopub.status.busy": "2024-08-11T09:09:48.126235Z",
     "iopub.status.idle": "2024-08-11T09:09:48.144785Z",
     "shell.execute_reply": "2024-08-11T09:09:48.143652Z"
    },
    "papermill": {
     "duration": 0.052092,
     "end_time": "2024-08-11T09:09:48.146808",
     "exception": false,
     "start_time": "2024-08-11T09:09:48.094716",
     "status": "completed"
    },
    "tags": []
   },
   "outputs": [
    {
     "name": "stdout",
     "output_type": "stream",
     "text": [
      "Training Accuracy of Decision Tree Classifier is 0.984375\n",
      "Test Accuracy of Decision Tree Classifier is 0.9625 \n",
      "\n",
      "Confusion Matrix :- \n",
      "[[47  3]\n",
      " [ 0 30]]\n",
      "\n",
      "Classification Report :- \n",
      "               precision    recall  f1-score   support\n",
      "\n",
      "           0       1.00      0.94      0.97        50\n",
      "           1       0.91      1.00      0.95        30\n",
      "\n",
      "    accuracy                           0.96        80\n",
      "   macro avg       0.95      0.97      0.96        80\n",
      "weighted avg       0.97      0.96      0.96        80\n",
      "\n"
     ]
    }
   ],
   "source": [
    "dtc = grid_search_dtc.best_estimator_\n",
    "\n",
    "# accuracy score, confusion matrix and classification report of decision tree\n",
    "\n",
    "dtc_acc = accuracy_score(y_test, dtc.predict(x_test))\n",
    "\n",
    "print(f\"Training Accuracy of Decision Tree Classifier is {accuracy_score(y_train, dtc.predict(x_train))}\")\n",
    "print(f\"Test Accuracy of Decision Tree Classifier is {dtc_acc} \\n\")\n",
    "\n",
    "print(f\"Confusion Matrix :- \\n{confusion_matrix(y_test, dtc.predict(x_test))}\\n\")\n",
    "print(f\"Classification Report :- \\n {classification_report(y_test, dtc.predict(x_test))}\")\n"
   ]
  },
  {
   "cell_type": "markdown",
   "id": "d7bec355",
   "metadata": {
    "papermill": {
     "duration": 0.035653,
     "end_time": "2024-08-11T09:09:48.216648",
     "exception": false,
     "start_time": "2024-08-11T09:09:48.180995",
     "status": "completed"
    },
    "tags": []
   },
   "source": [
    "# -----------------------**Random Forest Classifier**-------------------"
   ]
  },
  {
   "cell_type": "code",
   "execution_count": 59,
   "id": "39899076",
   "metadata": {
    "execution": {
     "iopub.execute_input": "2024-08-11T09:09:48.283381Z",
     "iopub.status.busy": "2024-08-11T09:09:48.283019Z",
     "iopub.status.idle": "2024-08-11T09:09:48.668713Z",
     "shell.execute_reply": "2024-08-11T09:09:48.667614Z"
    },
    "papermill": {
     "duration": 0.418987,
     "end_time": "2024-08-11T09:09:48.671295",
     "exception": false,
     "start_time": "2024-08-11T09:09:48.252308",
     "status": "completed"
    },
    "tags": []
   },
   "outputs": [
    {
     "name": "stdout",
     "output_type": "stream",
     "text": [
      "Training Accuracy of Random Forest Classifier is 1.0\n",
      "Test Accuracy of Random Forest Classifier is 0.9625 \n",
      "\n",
      "Confusion Matrix :- \n",
      "[[50  0]\n",
      " [ 3 27]]\n",
      "\n",
      "Classification Report :- \n",
      "               precision    recall  f1-score   support\n",
      "\n",
      "           0       0.94      1.00      0.97        50\n",
      "           1       1.00      0.90      0.95        30\n",
      "\n",
      "    accuracy                           0.96        80\n",
      "   macro avg       0.97      0.95      0.96        80\n",
      "weighted avg       0.96      0.96      0.96        80\n",
      "\n"
     ]
    }
   ],
   "source": [
    "from sklearn.ensemble import RandomForestClassifier\n",
    "\n",
    "rd_clf = RandomForestClassifier(criterion = 'entropy', max_depth = 11, max_features = 'auto', min_samples_leaf = 2, min_samples_split = 3, n_estimators = 130)\n",
    "rd_clf.fit(x_train, y_train)\n",
    "\n",
    "# accuracy score, confusion matrix and classification report of random forest\n",
    "\n",
    "rd_clf_acc = accuracy_score(y_test, rd_clf.predict(x_test))\n",
    "\n",
    "print(f\"Training Accuracy of Random Forest Classifier is {accuracy_score(y_train, rd_clf.predict(x_train))}\")\n",
    "print(f\"Test Accuracy of Random Forest Classifier is {rd_clf_acc} \\n\")\n",
    "\n",
    "print(f\"Confusion Matrix :- \\n{confusion_matrix(y_test, rd_clf.predict(x_test))}\\n\")\n",
    "print(f\"Classification Report :- \\n {classification_report(y_test, rd_clf.predict(x_test))}\")"
   ]
  },
  {
   "cell_type": "markdown",
   "id": "ce82b84b",
   "metadata": {
    "papermill": {
     "duration": 0.029357,
     "end_time": "2024-08-11T09:09:48.732173",
     "exception": false,
     "start_time": "2024-08-11T09:09:48.702816",
     "status": "completed"
    },
    "tags": []
   },
   "source": [
    "# --------------------------**Ada Boost Classifier**--------------------"
   ]
  },
  {
   "cell_type": "code",
   "execution_count": 60,
   "id": "5b0dee43",
   "metadata": {
    "execution": {
     "iopub.execute_input": "2024-08-11T09:09:48.793377Z",
     "iopub.status.busy": "2024-08-11T09:09:48.792591Z",
     "iopub.status.idle": "2024-08-11T09:09:48.961938Z",
     "shell.execute_reply": "2024-08-11T09:09:48.960914Z"
    },
    "papermill": {
     "duration": 0.202491,
     "end_time": "2024-08-11T09:09:48.964466",
     "exception": false,
     "start_time": "2024-08-11T09:09:48.761975",
     "status": "completed"
    },
    "tags": []
   },
   "outputs": [
    {
     "name": "stdout",
     "output_type": "stream",
     "text": [
      "Training Accuracy of Ada Boost Classifier is 1.0\n",
      "Test Accuracy of Ada Boost Classifier is 1.0 \n",
      "\n",
      "Confusion Matrix :- \n",
      "[[50  0]\n",
      " [ 0 30]]\n",
      "\n",
      "Classification Report :- \n",
      "               precision    recall  f1-score   support\n",
      "\n",
      "           0       1.00      1.00      1.00        50\n",
      "           1       1.00      1.00      1.00        30\n",
      "\n",
      "    accuracy                           1.00        80\n",
      "   macro avg       1.00      1.00      1.00        80\n",
      "weighted avg       1.00      1.00      1.00        80\n",
      "\n"
     ]
    }
   ],
   "source": [
    "from sklearn.ensemble import AdaBoostClassifier\n",
    "\n",
    "ada = AdaBoostClassifier(base_estimator = dtc)\n",
    "ada.fit(x_train, y_train)\n",
    "\n",
    "# accuracy score, confusion matrix and classification report of ada boost\n",
    "\n",
    "ada_acc = accuracy_score(y_test, ada.predict(x_test))\n",
    "\n",
    "print(f\"Training Accuracy of Ada Boost Classifier is {accuracy_score(y_train, ada.predict(x_train))}\")\n",
    "print(f\"Test Accuracy of Ada Boost Classifier is {ada_acc} \\n\")\n",
    "\n",
    "print(f\"Confusion Matrix :- \\n{confusion_matrix(y_test, ada.predict(x_test))}\\n\")\n",
    "print(f\"Classification Report :- \\n {classification_report(y_test, ada.predict(x_test))}\")\n"
   ]
  },
  {
   "cell_type": "markdown",
   "id": "558b8544",
   "metadata": {
    "papermill": {
     "duration": 0.036376,
     "end_time": "2024-08-11T09:09:49.034997",
     "exception": false,
     "start_time": "2024-08-11T09:09:48.998621",
     "status": "completed"
    },
    "tags": []
   },
   "source": [
    "# -------------------------**Gradient Boosting Classifier**-------------------"
   ]
  },
  {
   "cell_type": "code",
   "execution_count": 61,
   "id": "0d52ed67",
   "metadata": {
    "execution": {
     "iopub.execute_input": "2024-08-11T09:09:49.106501Z",
     "iopub.status.busy": "2024-08-11T09:09:49.105766Z",
     "iopub.status.idle": "2024-08-11T09:09:49.281237Z",
     "shell.execute_reply": "2024-08-11T09:09:49.280160Z"
    },
    "papermill": {
     "duration": 0.211998,
     "end_time": "2024-08-11T09:09:49.283345",
     "exception": false,
     "start_time": "2024-08-11T09:09:49.071347",
     "status": "completed"
    },
    "tags": []
   },
   "outputs": [
    {
     "name": "stdout",
     "output_type": "stream",
     "text": [
      "Training Accuracy of Gradient Boosting Classifier is 1.0\n",
      "Test Accuracy of Gradient Boosting Classifier is 0.975 \n",
      "\n",
      "Confusion Matrix :- \n",
      "[[50  0]\n",
      " [ 2 28]]\n",
      "\n",
      "Classification Report :- \n",
      "               precision    recall  f1-score   support\n",
      "\n",
      "           0       0.96      1.00      0.98        50\n",
      "           1       1.00      0.93      0.97        30\n",
      "\n",
      "    accuracy                           0.97        80\n",
      "   macro avg       0.98      0.97      0.97        80\n",
      "weighted avg       0.98      0.97      0.97        80\n",
      "\n"
     ]
    }
   ],
   "source": [
    "from sklearn.ensemble import GradientBoostingClassifier\n",
    "\n",
    "gb = GradientBoostingClassifier()\n",
    "gb.fit(x_train, y_train)\n",
    "\n",
    "# accuracy score, confusion matrix and classification report of gradient boosting classifier\n",
    "\n",
    "gb_acc = accuracy_score(y_test, gb.predict(x_test))\n",
    "\n",
    "print(f\"Training Accuracy of Gradient Boosting Classifier is {accuracy_score(y_train, gb.predict(x_train))}\")\n",
    "print(f\"Test Accuracy of Gradient Boosting Classifier is {gb_acc} \\n\")\n",
    "\n",
    "print(f\"Confusion Matrix :- \\n{confusion_matrix(y_test, gb.predict(x_test))}\\n\")\n",
    "print(f\"Classification Report :- \\n {classification_report(y_test, gb.predict(x_test))}\")"
   ]
  },
  {
   "cell_type": "markdown",
   "id": "03a8a953",
   "metadata": {
    "papermill": {
     "duration": 0.033397,
     "end_time": "2024-08-11T09:09:49.354788",
     "exception": false,
     "start_time": "2024-08-11T09:09:49.321391",
     "status": "completed"
    },
    "tags": []
   },
   "source": [
    "# -----------------------**Stochastic Gradient Boosting (SGB)**------------"
   ]
  },
  {
   "cell_type": "code",
   "execution_count": 62,
   "id": "bd0f73e6",
   "metadata": {
    "execution": {
     "iopub.execute_input": "2024-08-11T09:09:49.417208Z",
     "iopub.status.busy": "2024-08-11T09:09:49.416359Z",
     "iopub.status.idle": "2024-08-11T09:09:49.761369Z",
     "shell.execute_reply": "2024-08-11T09:09:49.760241Z"
    },
    "papermill": {
     "duration": 0.378575,
     "end_time": "2024-08-11T09:09:49.763426",
     "exception": false,
     "start_time": "2024-08-11T09:09:49.384851",
     "status": "completed"
    },
    "tags": []
   },
   "outputs": [
    {
     "name": "stdout",
     "output_type": "stream",
     "text": [
      "Training Accuracy of Stochastic Gradient Boosting is 1.0\n",
      "Test Accuracy of Stochastic Gradient Boosting is 0.975 \n",
      "\n",
      "Confusion Matrix :- \n",
      "[[50  0]\n",
      " [ 2 28]]\n",
      "\n",
      "Classification Report :- \n",
      "               precision    recall  f1-score   support\n",
      "\n",
      "           0       0.96      1.00      0.98        50\n",
      "           1       1.00      0.93      0.97        30\n",
      "\n",
      "    accuracy                           0.97        80\n",
      "   macro avg       0.98      0.97      0.97        80\n",
      "weighted avg       0.98      0.97      0.97        80\n",
      "\n"
     ]
    }
   ],
   "source": [
    "sgb = GradientBoostingClassifier(max_depth = 4, subsample = 0.90, max_features = 0.75, n_estimators = 200)\n",
    "sgb.fit(x_train, y_train)\n",
    "\n",
    "# accuracy score, confusion matrix and classification report of stochastic gradient boosting classifier\n",
    "\n",
    "sgb_acc = accuracy_score(y_test, sgb.predict(x_test))\n",
    "\n",
    "print(f\"Training Accuracy of Stochastic Gradient Boosting is {accuracy_score(y_train, sgb.predict(x_train))}\")\n",
    "print(f\"Test Accuracy of Stochastic Gradient Boosting is {sgb_acc} \\n\")\n",
    "\n",
    "print(f\"Confusion Matrix :- \\n{confusion_matrix(y_test, sgb.predict(x_test))}\\n\")\n",
    "print(f\"Classification Report :- \\n {classification_report(y_test, sgb.predict(x_test))}\")"
   ]
  },
  {
   "cell_type": "markdown",
   "id": "52ae221b",
   "metadata": {
    "papermill": {
     "duration": 0.029692,
     "end_time": "2024-08-11T09:09:49.823589",
     "exception": false,
     "start_time": "2024-08-11T09:09:49.793897",
     "status": "completed"
    },
    "tags": []
   },
   "source": [
    "# -------------------------------**XgBoost**-----------------------"
   ]
  },
  {
   "cell_type": "code",
   "execution_count": 63,
   "id": "4eb9d723",
   "metadata": {
    "execution": {
     "iopub.execute_input": "2024-08-11T09:09:49.884243Z",
     "iopub.status.busy": "2024-08-11T09:09:49.883922Z",
     "iopub.status.idle": "2024-08-11T09:09:50.052312Z",
     "shell.execute_reply": "2024-08-11T09:09:50.051203Z"
    },
    "papermill": {
     "duration": 0.201302,
     "end_time": "2024-08-11T09:09:50.054595",
     "exception": false,
     "start_time": "2024-08-11T09:09:49.853293",
     "status": "completed"
    },
    "tags": []
   },
   "outputs": [
    {
     "name": "stdout",
     "output_type": "stream",
     "text": [
      "Training Accuracy of XgBoost is 1.0\n",
      "Test Accuracy of XgBoost is 0.9375 \n",
      "\n",
      "Confusion Matrix :- \n",
      "[[48  2]\n",
      " [ 3 27]]\n",
      "\n",
      "Classification Report :- \n",
      "               precision    recall  f1-score   support\n",
      "\n",
      "           0       0.94      0.96      0.95        50\n",
      "           1       0.93      0.90      0.92        30\n",
      "\n",
      "    accuracy                           0.94        80\n",
      "   macro avg       0.94      0.93      0.93        80\n",
      "weighted avg       0.94      0.94      0.94        80\n",
      "\n"
     ]
    }
   ],
   "source": [
    "from xgboost import XGBClassifier\n",
    "\n",
    "xgb = XGBClassifier(objective = 'binary:logistic', learning_rate = 0.5, max_depth = 5, n_estimators = 150)\n",
    "xgb.fit(x_train, y_train)\n",
    "\n",
    "# accuracy score, confusion matrix and classification report of xgboost\n",
    "\n",
    "xgb_acc = accuracy_score(y_test, xgb.predict(x_test))\n",
    "\n",
    "print(f\"Training Accuracy of XgBoost is {accuracy_score(y_train, xgb.predict(x_train))}\")\n",
    "print(f\"Test Accuracy of XgBoost is {xgb_acc} \\n\")\n",
    "\n",
    "print(f\"Confusion Matrix :- \\n{confusion_matrix(y_test, xgb.predict(x_test))}\\n\")\n",
    "print(f\"Classification Report :- \\n {classification_report(y_test, xgb.predict(x_test))}\")"
   ]
  },
  {
   "cell_type": "markdown",
   "id": "a5f957ad",
   "metadata": {
    "papermill": {
     "duration": 0.030011,
     "end_time": "2024-08-11T09:09:50.116454",
     "exception": false,
     "start_time": "2024-08-11T09:09:50.086443",
     "status": "completed"
    },
    "tags": []
   },
   "source": [
    "# --------------------------**Cat Boost Classifier**-----------------------"
   ]
  },
  {
   "cell_type": "code",
   "execution_count": 64,
   "id": "f73e77e0",
   "metadata": {
    "execution": {
     "iopub.execute_input": "2024-08-11T09:09:50.181299Z",
     "iopub.status.busy": "2024-08-11T09:09:50.180677Z",
     "iopub.status.idle": "2024-08-11T09:09:50.536116Z",
     "shell.execute_reply": "2024-08-11T09:09:50.535277Z"
    },
    "papermill": {
     "duration": 0.390765,
     "end_time": "2024-08-11T09:09:50.538181",
     "exception": false,
     "start_time": "2024-08-11T09:09:50.147416",
     "status": "completed"
    },
    "tags": []
   },
   "outputs": [
    {
     "name": "stdout",
     "output_type": "stream",
     "text": [
      "Learning rate set to 0.432149\n",
      "0:\tlearn: 0.3217869\ttotal: 54.1ms\tremaining: 487ms\n",
      "1:\tlearn: 0.1452301\ttotal: 55.7ms\tremaining: 223ms\n",
      "2:\tlearn: 0.1059415\ttotal: 56.4ms\tremaining: 132ms\n",
      "3:\tlearn: 0.0520325\ttotal: 57.9ms\tremaining: 86.8ms\n",
      "4:\tlearn: 0.0405046\ttotal: 59.2ms\tremaining: 59.2ms\n",
      "5:\tlearn: 0.0299071\ttotal: 60.5ms\tremaining: 40.4ms\n",
      "6:\tlearn: 0.0208935\ttotal: 61.9ms\tremaining: 26.5ms\n",
      "7:\tlearn: 0.0162274\ttotal: 63.1ms\tremaining: 15.8ms\n",
      "8:\tlearn: 0.0135028\ttotal: 64.7ms\tremaining: 7.19ms\n",
      "9:\tlearn: 0.0119991\ttotal: 66.3ms\tremaining: 0us\n"
     ]
    },
    {
     "data": {
      "text/plain": [
       "<catboost.core.CatBoostClassifier at 0x7df6f9f3eef0>"
      ]
     },
     "execution_count": 64,
     "metadata": {},
     "output_type": "execute_result"
    }
   ],
   "source": [
    "from catboost import CatBoostClassifier\n",
    "\n",
    "cat = CatBoostClassifier(iterations=10)\n",
    "cat.fit(x_train, y_train)"
   ]
  },
  {
   "cell_type": "code",
   "execution_count": 65,
   "id": "96c1b754",
   "metadata": {
    "execution": {
     "iopub.execute_input": "2024-08-11T09:09:50.601481Z",
     "iopub.status.busy": "2024-08-11T09:09:50.601180Z",
     "iopub.status.idle": "2024-08-11T09:09:50.627401Z",
     "shell.execute_reply": "2024-08-11T09:09:50.626241Z"
    },
    "papermill": {
     "duration": 0.060118,
     "end_time": "2024-08-11T09:09:50.629371",
     "exception": false,
     "start_time": "2024-08-11T09:09:50.569253",
     "status": "completed"
    },
    "tags": []
   },
   "outputs": [
    {
     "name": "stdout",
     "output_type": "stream",
     "text": [
      "Training Accuracy of Cat Boost Classifier is 1.0\n",
      "Test Accuracy of Cat Boost Classifier is 0.9625 \n",
      "\n",
      "Confusion Matrix :- \n",
      "[[50  0]\n",
      " [ 3 27]]\n",
      "\n",
      "Classification Report :- \n",
      "               precision    recall  f1-score   support\n",
      "\n",
      "           0       0.94      1.00      0.97        50\n",
      "           1       1.00      0.90      0.95        30\n",
      "\n",
      "    accuracy                           0.96        80\n",
      "   macro avg       0.97      0.95      0.96        80\n",
      "weighted avg       0.96      0.96      0.96        80\n",
      "\n"
     ]
    }
   ],
   "source": [
    "# accuracy score, confusion matrix and classification report of cat boost\n",
    "\n",
    "cat_acc = accuracy_score(y_test, cat.predict(x_test))\n",
    "\n",
    "print(f\"Training Accuracy of Cat Boost Classifier is {accuracy_score(y_train, cat.predict(x_train))}\")\n",
    "print(f\"Test Accuracy of Cat Boost Classifier is {cat_acc} \\n\")\n",
    "\n",
    "print(f\"Confusion Matrix :- \\n{confusion_matrix(y_test, cat.predict(x_test))}\\n\")\n",
    "print(f\"Classification Report :- \\n {classification_report(y_test, cat.predict(x_test))}\")"
   ]
  },
  {
   "cell_type": "markdown",
   "id": "a0c78de8",
   "metadata": {
    "papermill": {
     "duration": 0.030071,
     "end_time": "2024-08-11T09:09:50.691481",
     "exception": false,
     "start_time": "2024-08-11T09:09:50.661410",
     "status": "completed"
    },
    "tags": []
   },
   "source": [
    "# ---------------------------**Extra Trees Classifier**--------------------"
   ]
  },
  {
   "cell_type": "code",
   "execution_count": 66,
   "id": "caa654af",
   "metadata": {
    "execution": {
     "iopub.execute_input": "2024-08-11T09:09:50.754068Z",
     "iopub.status.busy": "2024-08-11T09:09:50.753482Z",
     "iopub.status.idle": "2024-08-11T09:09:50.957105Z",
     "shell.execute_reply": "2024-08-11T09:09:50.956120Z"
    },
    "papermill": {
     "duration": 0.237104,
     "end_time": "2024-08-11T09:09:50.959190",
     "exception": false,
     "start_time": "2024-08-11T09:09:50.722086",
     "status": "completed"
    },
    "tags": []
   },
   "outputs": [
    {
     "name": "stdout",
     "output_type": "stream",
     "text": [
      "Training Accuracy of Extra Trees Classifier is 1.0\n",
      "Test Accuracy of Extra Trees Classifier is 1.0 \n",
      "\n",
      "Confusion Matrix :- \n",
      "[[50  0]\n",
      " [ 0 30]]\n",
      "\n",
      "Classification Report :- \n",
      "               precision    recall  f1-score   support\n",
      "\n",
      "           0       1.00      1.00      1.00        50\n",
      "           1       1.00      1.00      1.00        30\n",
      "\n",
      "    accuracy                           1.00        80\n",
      "   macro avg       1.00      1.00      1.00        80\n",
      "weighted avg       1.00      1.00      1.00        80\n",
      "\n"
     ]
    }
   ],
   "source": [
    "from sklearn.ensemble import ExtraTreesClassifier\n",
    "\n",
    "etc = ExtraTreesClassifier()\n",
    "etc.fit(x_train, y_train)\n",
    "\n",
    "# accuracy score, confusion matrix and classification report of extra trees classifier\n",
    "\n",
    "etc_acc = accuracy_score(y_test, etc.predict(x_test))\n",
    "\n",
    "print(f\"Training Accuracy of Extra Trees Classifier is {accuracy_score(y_train, etc.predict(x_train))}\")\n",
    "print(f\"Test Accuracy of Extra Trees Classifier is {etc_acc} \\n\")\n",
    "\n",
    "print(f\"Confusion Matrix :- \\n{confusion_matrix(y_test, etc.predict(x_test))}\\n\")\n",
    "print(f\"Classification Report :- \\n {classification_report(y_test, etc.predict(x_test))}\")"
   ]
  },
  {
   "cell_type": "markdown",
   "id": "d4372447",
   "metadata": {
    "papermill": {
     "duration": 0.030965,
     "end_time": "2024-08-11T09:09:51.021294",
     "exception": false,
     "start_time": "2024-08-11T09:09:50.990329",
     "status": "completed"
    },
    "tags": []
   },
   "source": [
    "# ----------------------------**LGBM Classifier**-----------------------"
   ]
  },
  {
   "cell_type": "code",
   "execution_count": 67,
   "id": "2e3dda49",
   "metadata": {
    "execution": {
     "iopub.execute_input": "2024-08-11T09:09:51.085601Z",
     "iopub.status.busy": "2024-08-11T09:09:51.085268Z",
     "iopub.status.idle": "2024-08-11T09:09:55.089146Z",
     "shell.execute_reply": "2024-08-11T09:09:55.087995Z"
    },
    "papermill": {
     "duration": 4.039913,
     "end_time": "2024-08-11T09:09:55.092089",
     "exception": false,
     "start_time": "2024-08-11T09:09:51.052176",
     "status": "completed"
    },
    "tags": []
   },
   "outputs": [
    {
     "name": "stdout",
     "output_type": "stream",
     "text": [
      "[LightGBM] [Info] Number of positive: 120, number of negative: 200\n",
      "[LightGBM] [Info] Auto-choosing row-wise multi-threading, the overhead of testing was 0.001258 seconds.\n",
      "You can set `force_row_wise=true` to remove the overhead.\n",
      "And if memory is not enough, you can set `force_col_wise=true`.\n",
      "[LightGBM] [Info] Total Bins 540\n",
      "[LightGBM] [Info] Number of data points in the train set: 320, number of used features: 23\n",
      "[LightGBM] [Info] [binary:BoostFromScore]: pavg=0.375000 -> initscore=-0.510826\n",
      "[LightGBM] [Info] Start training from score -0.510826\n",
      "[LightGBM] [Warning] No further splits with positive gain, best gain: -inf\n",
      "[LightGBM] [Warning] No further splits with positive gain, best gain: -inf\n",
      "[LightGBM] [Warning] No further splits with positive gain, best gain: -inf\n",
      "[LightGBM] [Warning] No further splits with positive gain, best gain: -inf\n",
      "[LightGBM] [Warning] No further splits with positive gain, best gain: -inf\n",
      "[LightGBM] [Warning] No further splits with positive gain, best gain: -inf\n",
      "[LightGBM] [Warning] No further splits with positive gain, best gain: -inf\n",
      "[LightGBM] [Warning] No further splits with positive gain, best gain: -inf\n",
      "[LightGBM] [Warning] No further splits with positive gain, best gain: -inf\n",
      "[LightGBM] [Warning] No further splits with positive gain, best gain: -inf\n",
      "[LightGBM] [Warning] No further splits with positive gain, best gain: -inf\n",
      "[LightGBM] [Warning] No further splits with positive gain, best gain: -inf\n",
      "[LightGBM] [Warning] No further splits with positive gain, best gain: -inf\n",
      "[LightGBM] [Warning] No further splits with positive gain, best gain: -inf\n",
      "[LightGBM] [Warning] No further splits with positive gain, best gain: -inf\n",
      "[LightGBM] [Warning] No further splits with positive gain, best gain: -inf\n",
      "[LightGBM] [Warning] No further splits with positive gain, best gain: -inf\n",
      "[LightGBM] [Warning] No further splits with positive gain, best gain: -inf\n",
      "[LightGBM] [Warning] No further splits with positive gain, best gain: -inf\n",
      "[LightGBM] [Warning] No further splits with positive gain, best gain: -inf\n",
      "[LightGBM] [Warning] No further splits with positive gain, best gain: -inf\n",
      "[LightGBM] [Warning] No further splits with positive gain, best gain: -inf\n",
      "[LightGBM] [Warning] No further splits with positive gain, best gain: -inf\n",
      "[LightGBM] [Warning] No further splits with positive gain, best gain: -inf\n",
      "[LightGBM] [Warning] No further splits with positive gain, best gain: -inf\n",
      "[LightGBM] [Warning] No further splits with positive gain, best gain: -inf\n",
      "[LightGBM] [Warning] No further splits with positive gain, best gain: -inf\n",
      "[LightGBM] [Warning] No further splits with positive gain, best gain: -inf\n",
      "[LightGBM] [Warning] No further splits with positive gain, best gain: -inf\n",
      "[LightGBM] [Warning] No further splits with positive gain, best gain: -inf\n",
      "[LightGBM] [Warning] No further splits with positive gain, best gain: -inf\n",
      "[LightGBM] [Warning] No further splits with positive gain, best gain: -inf\n",
      "[LightGBM] [Warning] No further splits with positive gain, best gain: -inf\n",
      "[LightGBM] [Warning] No further splits with positive gain, best gain: -inf\n",
      "[LightGBM] [Warning] No further splits with positive gain, best gain: -inf\n",
      "[LightGBM] [Warning] No further splits with positive gain, best gain: -inf\n",
      "[LightGBM] [Warning] No further splits with positive gain, best gain: -inf\n",
      "[LightGBM] [Warning] No further splits with positive gain, best gain: -inf\n",
      "[LightGBM] [Warning] No further splits with positive gain, best gain: -inf\n",
      "[LightGBM] [Warning] No further splits with positive gain, best gain: -inf\n",
      "[LightGBM] [Warning] No further splits with positive gain, best gain: -inf\n",
      "[LightGBM] [Warning] No further splits with positive gain, best gain: -inf\n",
      "[LightGBM] [Warning] No further splits with positive gain, best gain: -inf\n",
      "[LightGBM] [Warning] No further splits with positive gain, best gain: -inf\n",
      "[LightGBM] [Warning] No further splits with positive gain, best gain: -inf\n",
      "[LightGBM] [Warning] No further splits with positive gain, best gain: -inf\n",
      "[LightGBM] [Warning] No further splits with positive gain, best gain: -inf\n",
      "[LightGBM] [Warning] No further splits with positive gain, best gain: -inf\n",
      "[LightGBM] [Warning] No further splits with positive gain, best gain: -inf\n",
      "[LightGBM] [Warning] No further splits with positive gain, best gain: -inf\n",
      "[LightGBM] [Warning] No further splits with positive gain, best gain: -inf\n",
      "[LightGBM] [Warning] No further splits with positive gain, best gain: -inf\n",
      "[LightGBM] [Warning] No further splits with positive gain, best gain: -inf\n",
      "[LightGBM] [Warning] No further splits with positive gain, best gain: -inf\n",
      "[LightGBM] [Warning] No further splits with positive gain, best gain: -inf\n",
      "[LightGBM] [Warning] No further splits with positive gain, best gain: -inf\n",
      "[LightGBM] [Warning] No further splits with positive gain, best gain: -inf\n",
      "[LightGBM] [Warning] No further splits with positive gain, best gain: -inf\n",
      "[LightGBM] [Warning] No further splits with positive gain, best gain: -inf\n",
      "[LightGBM] [Warning] No further splits with positive gain, best gain: -inf\n",
      "[LightGBM] [Warning] No further splits with positive gain, best gain: -inf\n",
      "[LightGBM] [Warning] No further splits with positive gain, best gain: -inf\n",
      "[LightGBM] [Warning] No further splits with positive gain, best gain: -inf\n",
      "[LightGBM] [Warning] No further splits with positive gain, best gain: -inf\n",
      "[LightGBM] [Warning] No further splits with positive gain, best gain: -inf\n",
      "[LightGBM] [Warning] No further splits with positive gain, best gain: -inf\n",
      "[LightGBM] [Warning] No further splits with positive gain, best gain: -inf\n",
      "[LightGBM] [Warning] No further splits with positive gain, best gain: -inf\n",
      "[LightGBM] [Warning] No further splits with positive gain, best gain: -inf\n",
      "[LightGBM] [Warning] No further splits with positive gain, best gain: -inf\n",
      "[LightGBM] [Warning] No further splits with positive gain, best gain: -inf\n",
      "[LightGBM] [Warning] No further splits with positive gain, best gain: -inf\n",
      "[LightGBM] [Warning] No further splits with positive gain, best gain: -inf\n",
      "[LightGBM] [Warning] No further splits with positive gain, best gain: -inf\n",
      "[LightGBM] [Warning] No further splits with positive gain, best gain: -inf\n",
      "[LightGBM] [Warning] No further splits with positive gain, best gain: -inf\n",
      "[LightGBM] [Warning] No further splits with positive gain, best gain: -inf\n",
      "[LightGBM] [Warning] No further splits with positive gain, best gain: -inf\n",
      "[LightGBM] [Warning] No further splits with positive gain, best gain: -inf\n",
      "[LightGBM] [Warning] No further splits with positive gain, best gain: -inf\n",
      "[LightGBM] [Warning] No further splits with positive gain, best gain: -inf\n",
      "[LightGBM] [Warning] No further splits with positive gain, best gain: -inf\n",
      "[LightGBM] [Warning] No further splits with positive gain, best gain: -inf\n",
      "[LightGBM] [Warning] No further splits with positive gain, best gain: -inf\n",
      "[LightGBM] [Warning] No further splits with positive gain, best gain: -inf\n",
      "[LightGBM] [Warning] No further splits with positive gain, best gain: -inf\n",
      "[LightGBM] [Warning] No further splits with positive gain, best gain: -inf\n",
      "[LightGBM] [Warning] No further splits with positive gain, best gain: -inf\n",
      "[LightGBM] [Warning] No further splits with positive gain, best gain: -inf\n",
      "[LightGBM] [Warning] No further splits with positive gain, best gain: -inf\n",
      "[LightGBM] [Warning] No further splits with positive gain, best gain: -inf\n",
      "[LightGBM] [Warning] No further splits with positive gain, best gain: -inf\n",
      "[LightGBM] [Warning] No further splits with positive gain, best gain: -inf\n",
      "[LightGBM] [Warning] No further splits with positive gain, best gain: -inf\n",
      "[LightGBM] [Warning] No further splits with positive gain, best gain: -inf\n",
      "[LightGBM] [Warning] No further splits with positive gain, best gain: -inf\n",
      "[LightGBM] [Warning] No further splits with positive gain, best gain: -inf\n",
      "[LightGBM] [Warning] No further splits with positive gain, best gain: -inf\n",
      "[LightGBM] [Warning] No further splits with positive gain, best gain: -inf\n",
      "[LightGBM] [Warning] No further splits with positive gain, best gain: -inf\n",
      "Training Accuracy of LGBM Classifier is 1.0\n",
      "Test Accuracy of LGBM Classifier is 1.0 \n",
      "\n",
      "[[50  0]\n",
      " [ 0 30]]\n",
      "\n",
      "              precision    recall  f1-score   support\n",
      "\n",
      "           0       1.00      1.00      1.00        50\n",
      "           1       1.00      1.00      1.00        30\n",
      "\n",
      "    accuracy                           1.00        80\n",
      "   macro avg       1.00      1.00      1.00        80\n",
      "weighted avg       1.00      1.00      1.00        80\n",
      "\n"
     ]
    }
   ],
   "source": [
    "from lightgbm import LGBMClassifier\n",
    "\n",
    "lgbm = LGBMClassifier(boosting_type='gbdt')\n",
    "lgbm.fit(x_train, y_train)\n",
    "\n",
    "# accuracy score, confusion matrix and classification report of lgbm classifier\n",
    "\n",
    "lgbm_acc = accuracy_score(y_test, lgbm.predict(x_test))\n",
    "\n",
    "print(f\"Training Accuracy of LGBM Classifier is {accuracy_score(y_train, lgbm.predict(x_train))}\")\n",
    "print(f\"Test Accuracy of LGBM Classifier is {lgbm_acc} \\n\")\n",
    "\n",
    "print(f\"{confusion_matrix(y_test, lgbm.predict(x_test))}\\n\")\n",
    "print(classification_report(y_test, lgbm.predict(x_test)))"
   ]
  },
  {
   "cell_type": "markdown",
   "id": "5cd540b2",
   "metadata": {
    "papermill": {
     "duration": 0.033505,
     "end_time": "2024-08-11T09:09:55.160007",
     "exception": false,
     "start_time": "2024-08-11T09:09:55.126502",
     "status": "completed"
    },
    "tags": []
   },
   "source": [
    "# -----------------------Support Vector Machine ( SVM )--------------------"
   ]
  },
  {
   "cell_type": "code",
   "execution_count": 68,
   "id": "fd264a56",
   "metadata": {
    "execution": {
     "iopub.execute_input": "2024-08-11T09:09:55.225852Z",
     "iopub.status.busy": "2024-08-11T09:09:55.224849Z",
     "iopub.status.idle": "2024-08-11T09:09:55.229501Z",
     "shell.execute_reply": "2024-08-11T09:09:55.228635Z"
    },
    "papermill": {
     "duration": 0.038628,
     "end_time": "2024-08-11T09:09:55.231410",
     "exception": false,
     "start_time": "2024-08-11T09:09:55.192782",
     "status": "completed"
    },
    "tags": []
   },
   "outputs": [],
   "source": [
    "from sklearn.svm import SVC"
   ]
  },
  {
   "cell_type": "code",
   "execution_count": 69,
   "id": "d4f84014",
   "metadata": {
    "execution": {
     "iopub.execute_input": "2024-08-11T09:09:55.295321Z",
     "iopub.status.busy": "2024-08-11T09:09:55.295027Z",
     "iopub.status.idle": "2024-08-11T09:09:55.317466Z",
     "shell.execute_reply": "2024-08-11T09:09:55.316758Z"
    },
    "papermill": {
     "duration": 0.057125,
     "end_time": "2024-08-11T09:09:55.319284",
     "exception": false,
     "start_time": "2024-08-11T09:09:55.262159",
     "status": "completed"
    },
    "tags": []
   },
   "outputs": [],
   "source": [
    "# SVM -\n",
    "# kernel = linear\n",
    "svm_linear = SVC(kernel='linear')\n",
    "linear = svm_linear.fit(x_train, y_train)\n",
    "y_pred_linear = svm_linear.predict(x_test)\n",
    "accuracy_linear = accuracy_score(y_test, y_pred_linear)\n",
    "\n",
    "# kernel = sigmoid\n",
    "svm_sigmoid = SVC(kernel='sigmoid')\n",
    "sigmoid = svm_sigmoid.fit(x_train, y_train)\n",
    "y_pred_sigmoid = svm_sigmoid.predict(x_test)\n",
    "accuracy_sigmoid = accuracy_score(y_test, y_pred_sigmoid)\n",
    "\n",
    "# kernel = poly\n",
    "svm_poly = SVC(kernel='poly')\n",
    "poly = svm_poly.fit(x_train, y_train)\n",
    "y_pred_poly = svm_poly.predict(x_test)\n",
    "accuracy_poly = accuracy_score(y_test, y_pred_poly)\n",
    "\n",
    "# kernel = rbf\n",
    "svm_rbf = SVC(kernel='rbf')\n",
    "rbf = svm_rbf.fit(x_train, y_train)\n",
    "y_pred_rbf = svm_rbf.predict(x_test)\n",
    "accuracy_rbf = accuracy_score(y_test, y_pred_rbf)"
   ]
  },
  {
   "cell_type": "markdown",
   "id": "f2c5b72e",
   "metadata": {
    "papermill": {
     "duration": 0.031367,
     "end_time": "2024-08-11T09:09:55.381843",
     "exception": false,
     "start_time": "2024-08-11T09:09:55.350476",
     "status": "completed"
    },
    "tags": []
   },
   "source": [
    "# **Always Prefer 'RBF' kernal for SVM Algorithem**"
   ]
  },
  {
   "cell_type": "code",
   "execution_count": 70,
   "id": "5fd17d18",
   "metadata": {
    "execution": {
     "iopub.execute_input": "2024-08-11T09:09:55.446299Z",
     "iopub.status.busy": "2024-08-11T09:09:55.445538Z",
     "iopub.status.idle": "2024-08-11T09:09:55.466181Z",
     "shell.execute_reply": "2024-08-11T09:09:55.465018Z"
    },
    "papermill": {
     "duration": 0.054939,
     "end_time": "2024-08-11T09:09:55.468059",
     "exception": false,
     "start_time": "2024-08-11T09:09:55.413120",
     "status": "completed"
    },
    "tags": []
   },
   "outputs": [
    {
     "name": "stdout",
     "output_type": "stream",
     "text": [
      "Training Accuracy of SVM Classifier: 0.9875\n",
      "Test Accuracy of SVM Classifier: 1.0\n",
      "\n",
      "Confusion Matrix:\n",
      "[[50  0]\n",
      " [ 0 30]]\n",
      "\n",
      "Classification Report:\n",
      "              precision    recall  f1-score   support\n",
      "\n",
      "           0       1.00      1.00      1.00        50\n",
      "           1       1.00      1.00      1.00        30\n",
      "\n",
      "    accuracy                           1.00        80\n",
      "   macro avg       1.00      1.00      1.00        80\n",
      "weighted avg       1.00      1.00      1.00        80\n",
      "\n"
     ]
    }
   ],
   "source": [
    "# Create an SVM classifier with an RBF kernel\n",
    "svm_rbf = SVC(kernel='rbf')\n",
    "svm_rbf.fit(x_train, y_train)\n",
    "\n",
    "# Evaluate the model\n",
    "svm_rbf_acc = accuracy_score(y_test, svm_rbf.predict(x_test))\n",
    "print(f\"Training Accuracy of SVM Classifier: {accuracy_score(y_train, svm_rbf.predict(x_train))}\")\n",
    "print(f\"Test Accuracy of SVM Classifier: {svm_rbf_acc}\\n\")\n",
    "\n",
    "print(f\"Confusion Matrix:\\n{confusion_matrix(y_test, svm_rbf.predict(x_test))}\\n\")\n",
    "print(f\"Classification Report:\\n{classification_report(y_test, svm_rbf.predict(x_test))}\")"
   ]
  },
  {
   "cell_type": "markdown",
   "id": "195a57a1",
   "metadata": {
    "papermill": {
     "duration": 0.031824,
     "end_time": "2024-08-11T09:09:55.531257",
     "exception": false,
     "start_time": "2024-08-11T09:09:55.499433",
     "status": "completed"
    },
    "tags": []
   },
   "source": [
    "# ------------------------**Models Comparison**-----------------------"
   ]
  },
  {
   "cell_type": "code",
   "execution_count": 71,
   "id": "0af4e4a5",
   "metadata": {
    "execution": {
     "iopub.execute_input": "2024-08-11T09:09:55.596640Z",
     "iopub.status.busy": "2024-08-11T09:09:55.596338Z",
     "iopub.status.idle": "2024-08-11T09:09:55.609476Z",
     "shell.execute_reply": "2024-08-11T09:09:55.608620Z"
    },
    "papermill": {
     "duration": 0.047982,
     "end_time": "2024-08-11T09:09:55.611459",
     "exception": false,
     "start_time": "2024-08-11T09:09:55.563477",
     "status": "completed"
    },
    "tags": []
   },
   "outputs": [
    {
     "data": {
      "text/html": [
       "<div>\n",
       "<style scoped>\n",
       "    .dataframe tbody tr th:only-of-type {\n",
       "        vertical-align: middle;\n",
       "    }\n",
       "\n",
       "    .dataframe tbody tr th {\n",
       "        vertical-align: top;\n",
       "    }\n",
       "\n",
       "    .dataframe thead th {\n",
       "        text-align: right;\n",
       "    }\n",
       "</style>\n",
       "<table border=\"1\" class=\"dataframe\">\n",
       "  <thead>\n",
       "    <tr style=\"text-align: right;\">\n",
       "      <th></th>\n",
       "      <th>Model</th>\n",
       "      <th>Score</th>\n",
       "    </tr>\n",
       "  </thead>\n",
       "  <tbody>\n",
       "    <tr>\n",
       "      <th>9</th>\n",
       "      <td>SVC</td>\n",
       "      <td>1.0000</td>\n",
       "    </tr>\n",
       "    <tr>\n",
       "      <th>3</th>\n",
       "      <td>Ada Boost Classifier</td>\n",
       "      <td>1.0000</td>\n",
       "    </tr>\n",
       "    <tr>\n",
       "      <th>8</th>\n",
       "      <td>Extra Trees Classifier</td>\n",
       "      <td>1.0000</td>\n",
       "    </tr>\n",
       "    <tr>\n",
       "      <th>0</th>\n",
       "      <td>KNN</td>\n",
       "      <td>0.9875</td>\n",
       "    </tr>\n",
       "    <tr>\n",
       "      <th>5</th>\n",
       "      <td>Stochastic Gradient Boosting</td>\n",
       "      <td>0.9750</td>\n",
       "    </tr>\n",
       "    <tr>\n",
       "      <th>4</th>\n",
       "      <td>Gradient Boosting Classifier</td>\n",
       "      <td>0.9750</td>\n",
       "    </tr>\n",
       "    <tr>\n",
       "      <th>1</th>\n",
       "      <td>Decision Tree Classifier</td>\n",
       "      <td>0.9625</td>\n",
       "    </tr>\n",
       "    <tr>\n",
       "      <th>2</th>\n",
       "      <td>Random Forest Classifier</td>\n",
       "      <td>0.9625</td>\n",
       "    </tr>\n",
       "    <tr>\n",
       "      <th>7</th>\n",
       "      <td>Cat Boost</td>\n",
       "      <td>0.9625</td>\n",
       "    </tr>\n",
       "    <tr>\n",
       "      <th>6</th>\n",
       "      <td>XgBoost</td>\n",
       "      <td>0.9375</td>\n",
       "    </tr>\n",
       "  </tbody>\n",
       "</table>\n",
       "</div>"
      ],
      "text/plain": [
       "                          Model   Score\n",
       "9                           SVC  1.0000\n",
       "3          Ada Boost Classifier  1.0000\n",
       "8        Extra Trees Classifier  1.0000\n",
       "0                           KNN  0.9875\n",
       "5  Stochastic Gradient Boosting  0.9750\n",
       "4  Gradient Boosting Classifier  0.9750\n",
       "1      Decision Tree Classifier  0.9625\n",
       "2      Random Forest Classifier  0.9625\n",
       "7                     Cat Boost  0.9625\n",
       "6                       XgBoost  0.9375"
      ]
     },
     "execution_count": 71,
     "metadata": {},
     "output_type": "execute_result"
    }
   ],
   "source": [
    "models = pd.DataFrame({\n",
    "    'Model' : [ 'KNN', 'Decision Tree Classifier', 'Random Forest Classifier','Ada Boost Classifier',\n",
    "             'Gradient Boosting Classifier', 'Stochastic Gradient Boosting', 'XgBoost', 'Cat Boost', 'Extra Trees Classifier', 'SVC'],\n",
    "    'Score' : [knn_acc, dtc_acc, rd_clf_acc, ada_acc, gb_acc, sgb_acc, xgb_acc, cat_acc, etc_acc, svm_rbf_acc]\n",
    "})\n",
    "\n",
    "\n",
    "models.sort_values(by = 'Score', ascending = False)"
   ]
  },
  {
   "cell_type": "code",
   "execution_count": 72,
   "id": "e644ff09",
   "metadata": {
    "execution": {
     "iopub.execute_input": "2024-08-11T09:09:55.676952Z",
     "iopub.status.busy": "2024-08-11T09:09:55.676469Z",
     "iopub.status.idle": "2024-08-11T09:09:57.931800Z",
     "shell.execute_reply": "2024-08-11T09:09:57.930837Z"
    },
    "papermill": {
     "duration": 2.28935,
     "end_time": "2024-08-11T09:09:57.933985",
     "exception": false,
     "start_time": "2024-08-11T09:09:55.644635",
     "status": "completed"
    },
    "tags": []
   },
   "outputs": [
    {
     "data": {
      "text/html": [
       "        <script type=\"text/javascript\">\n",
       "        window.PlotlyConfig = {MathJaxConfig: 'local'};\n",
       "        if (window.MathJax && window.MathJax.Hub && window.MathJax.Hub.Config) {window.MathJax.Hub.Config({SVG: {font: \"STIX-Web\"}});}\n",
       "        if (typeof require !== 'undefined') {\n",
       "        require.undef(\"plotly\");\n",
       "        requirejs.config({\n",
       "            paths: {\n",
       "                'plotly': ['https://cdn.plot.ly/plotly-2.27.0.min']\n",
       "            }\n",
       "        });\n",
       "        require(['plotly'], function(Plotly) {\n",
       "            window._Plotly = Plotly;\n",
       "        });\n",
       "        }\n",
       "        </script>\n",
       "        "
      ]
     },
     "metadata": {},
     "output_type": "display_data"
    },
    {
     "data": {
      "text/html": [
       "<div>                            <div id=\"d008c1ab-5d3c-4d06-b93c-461f93eee537\" class=\"plotly-graph-div\" style=\"height:525px; width:100%;\"></div>            <script type=\"text/javascript\">                require([\"plotly\"], function(Plotly) {                    window.PLOTLYENV=window.PLOTLYENV || {};                                    if (document.getElementById(\"d008c1ab-5d3c-4d06-b93c-461f93eee537\")) {                    Plotly.newPlot(                        \"d008c1ab-5d3c-4d06-b93c-461f93eee537\",                        [{\"alignmentgroup\":\"True\",\"hovertemplate\":\"Score=%{marker.color}\\u003cbr\\u003eModel=%{y}\\u003cextra\\u003e\\u003c\\u002fextra\\u003e\",\"legendgroup\":\"\",\"marker\":{\"color\":[0.9875,0.9625,0.9625,1.0,0.975,0.975,0.9375,0.9625,1.0,1.0],\"coloraxis\":\"coloraxis\",\"pattern\":{\"shape\":\"\"}},\"name\":\"\",\"offsetgroup\":\"\",\"orientation\":\"h\",\"showlegend\":false,\"textposition\":\"auto\",\"x\":[0.9875,0.9625,0.9625,1.0,0.975,0.975,0.9375,0.9625,1.0,1.0],\"xaxis\":\"x\",\"y\":[\"KNN\",\"Decision Tree Classifier\",\"Random Forest Classifier\",\"Ada Boost Classifier\",\"Gradient Boosting Classifier\",\"Stochastic Gradient Boosting\",\"XgBoost\",\"Cat Boost\",\"Extra Trees Classifier\",\"SVC\"],\"yaxis\":\"y\",\"type\":\"bar\"}],                        {\"template\":{\"data\":{\"barpolar\":[{\"marker\":{\"line\":{\"color\":\"rgb(17,17,17)\",\"width\":0.5},\"pattern\":{\"fillmode\":\"overlay\",\"size\":10,\"solidity\":0.2}},\"type\":\"barpolar\"}],\"bar\":[{\"error_x\":{\"color\":\"#f2f5fa\"},\"error_y\":{\"color\":\"#f2f5fa\"},\"marker\":{\"line\":{\"color\":\"rgb(17,17,17)\",\"width\":0.5},\"pattern\":{\"fillmode\":\"overlay\",\"size\":10,\"solidity\":0.2}},\"type\":\"bar\"}],\"carpet\":[{\"aaxis\":{\"endlinecolor\":\"#A2B1C6\",\"gridcolor\":\"#506784\",\"linecolor\":\"#506784\",\"minorgridcolor\":\"#506784\",\"startlinecolor\":\"#A2B1C6\"},\"baxis\":{\"endlinecolor\":\"#A2B1C6\",\"gridcolor\":\"#506784\",\"linecolor\":\"#506784\",\"minorgridcolor\":\"#506784\",\"startlinecolor\":\"#A2B1C6\"},\"type\":\"carpet\"}],\"choropleth\":[{\"colorbar\":{\"outlinewidth\":0,\"ticks\":\"\"},\"type\":\"choropleth\"}],\"contourcarpet\":[{\"colorbar\":{\"outlinewidth\":0,\"ticks\":\"\"},\"type\":\"contourcarpet\"}],\"contour\":[{\"colorbar\":{\"outlinewidth\":0,\"ticks\":\"\"},\"colorscale\":[[0.0,\"#0d0887\"],[0.1111111111111111,\"#46039f\"],[0.2222222222222222,\"#7201a8\"],[0.3333333333333333,\"#9c179e\"],[0.4444444444444444,\"#bd3786\"],[0.5555555555555556,\"#d8576b\"],[0.6666666666666666,\"#ed7953\"],[0.7777777777777778,\"#fb9f3a\"],[0.8888888888888888,\"#fdca26\"],[1.0,\"#f0f921\"]],\"type\":\"contour\"}],\"heatmapgl\":[{\"colorbar\":{\"outlinewidth\":0,\"ticks\":\"\"},\"colorscale\":[[0.0,\"#0d0887\"],[0.1111111111111111,\"#46039f\"],[0.2222222222222222,\"#7201a8\"],[0.3333333333333333,\"#9c179e\"],[0.4444444444444444,\"#bd3786\"],[0.5555555555555556,\"#d8576b\"],[0.6666666666666666,\"#ed7953\"],[0.7777777777777778,\"#fb9f3a\"],[0.8888888888888888,\"#fdca26\"],[1.0,\"#f0f921\"]],\"type\":\"heatmapgl\"}],\"heatmap\":[{\"colorbar\":{\"outlinewidth\":0,\"ticks\":\"\"},\"colorscale\":[[0.0,\"#0d0887\"],[0.1111111111111111,\"#46039f\"],[0.2222222222222222,\"#7201a8\"],[0.3333333333333333,\"#9c179e\"],[0.4444444444444444,\"#bd3786\"],[0.5555555555555556,\"#d8576b\"],[0.6666666666666666,\"#ed7953\"],[0.7777777777777778,\"#fb9f3a\"],[0.8888888888888888,\"#fdca26\"],[1.0,\"#f0f921\"]],\"type\":\"heatmap\"}],\"histogram2dcontour\":[{\"colorbar\":{\"outlinewidth\":0,\"ticks\":\"\"},\"colorscale\":[[0.0,\"#0d0887\"],[0.1111111111111111,\"#46039f\"],[0.2222222222222222,\"#7201a8\"],[0.3333333333333333,\"#9c179e\"],[0.4444444444444444,\"#bd3786\"],[0.5555555555555556,\"#d8576b\"],[0.6666666666666666,\"#ed7953\"],[0.7777777777777778,\"#fb9f3a\"],[0.8888888888888888,\"#fdca26\"],[1.0,\"#f0f921\"]],\"type\":\"histogram2dcontour\"}],\"histogram2d\":[{\"colorbar\":{\"outlinewidth\":0,\"ticks\":\"\"},\"colorscale\":[[0.0,\"#0d0887\"],[0.1111111111111111,\"#46039f\"],[0.2222222222222222,\"#7201a8\"],[0.3333333333333333,\"#9c179e\"],[0.4444444444444444,\"#bd3786\"],[0.5555555555555556,\"#d8576b\"],[0.6666666666666666,\"#ed7953\"],[0.7777777777777778,\"#fb9f3a\"],[0.8888888888888888,\"#fdca26\"],[1.0,\"#f0f921\"]],\"type\":\"histogram2d\"}],\"histogram\":[{\"marker\":{\"pattern\":{\"fillmode\":\"overlay\",\"size\":10,\"solidity\":0.2}},\"type\":\"histogram\"}],\"mesh3d\":[{\"colorbar\":{\"outlinewidth\":0,\"ticks\":\"\"},\"type\":\"mesh3d\"}],\"parcoords\":[{\"line\":{\"colorbar\":{\"outlinewidth\":0,\"ticks\":\"\"}},\"type\":\"parcoords\"}],\"pie\":[{\"automargin\":true,\"type\":\"pie\"}],\"scatter3d\":[{\"line\":{\"colorbar\":{\"outlinewidth\":0,\"ticks\":\"\"}},\"marker\":{\"colorbar\":{\"outlinewidth\":0,\"ticks\":\"\"}},\"type\":\"scatter3d\"}],\"scattercarpet\":[{\"marker\":{\"colorbar\":{\"outlinewidth\":0,\"ticks\":\"\"}},\"type\":\"scattercarpet\"}],\"scattergeo\":[{\"marker\":{\"colorbar\":{\"outlinewidth\":0,\"ticks\":\"\"}},\"type\":\"scattergeo\"}],\"scattergl\":[{\"marker\":{\"line\":{\"color\":\"#283442\"}},\"type\":\"scattergl\"}],\"scattermapbox\":[{\"marker\":{\"colorbar\":{\"outlinewidth\":0,\"ticks\":\"\"}},\"type\":\"scattermapbox\"}],\"scatterpolargl\":[{\"marker\":{\"colorbar\":{\"outlinewidth\":0,\"ticks\":\"\"}},\"type\":\"scatterpolargl\"}],\"scatterpolar\":[{\"marker\":{\"colorbar\":{\"outlinewidth\":0,\"ticks\":\"\"}},\"type\":\"scatterpolar\"}],\"scatter\":[{\"marker\":{\"line\":{\"color\":\"#283442\"}},\"type\":\"scatter\"}],\"scatterternary\":[{\"marker\":{\"colorbar\":{\"outlinewidth\":0,\"ticks\":\"\"}},\"type\":\"scatterternary\"}],\"surface\":[{\"colorbar\":{\"outlinewidth\":0,\"ticks\":\"\"},\"colorscale\":[[0.0,\"#0d0887\"],[0.1111111111111111,\"#46039f\"],[0.2222222222222222,\"#7201a8\"],[0.3333333333333333,\"#9c179e\"],[0.4444444444444444,\"#bd3786\"],[0.5555555555555556,\"#d8576b\"],[0.6666666666666666,\"#ed7953\"],[0.7777777777777778,\"#fb9f3a\"],[0.8888888888888888,\"#fdca26\"],[1.0,\"#f0f921\"]],\"type\":\"surface\"}],\"table\":[{\"cells\":{\"fill\":{\"color\":\"#506784\"},\"line\":{\"color\":\"rgb(17,17,17)\"}},\"header\":{\"fill\":{\"color\":\"#2a3f5f\"},\"line\":{\"color\":\"rgb(17,17,17)\"}},\"type\":\"table\"}]},\"layout\":{\"annotationdefaults\":{\"arrowcolor\":\"#f2f5fa\",\"arrowhead\":0,\"arrowwidth\":1},\"autotypenumbers\":\"strict\",\"coloraxis\":{\"colorbar\":{\"outlinewidth\":0,\"ticks\":\"\"}},\"colorscale\":{\"diverging\":[[0,\"#8e0152\"],[0.1,\"#c51b7d\"],[0.2,\"#de77ae\"],[0.3,\"#f1b6da\"],[0.4,\"#fde0ef\"],[0.5,\"#f7f7f7\"],[0.6,\"#e6f5d0\"],[0.7,\"#b8e186\"],[0.8,\"#7fbc41\"],[0.9,\"#4d9221\"],[1,\"#276419\"]],\"sequential\":[[0.0,\"#0d0887\"],[0.1111111111111111,\"#46039f\"],[0.2222222222222222,\"#7201a8\"],[0.3333333333333333,\"#9c179e\"],[0.4444444444444444,\"#bd3786\"],[0.5555555555555556,\"#d8576b\"],[0.6666666666666666,\"#ed7953\"],[0.7777777777777778,\"#fb9f3a\"],[0.8888888888888888,\"#fdca26\"],[1.0,\"#f0f921\"]],\"sequentialminus\":[[0.0,\"#0d0887\"],[0.1111111111111111,\"#46039f\"],[0.2222222222222222,\"#7201a8\"],[0.3333333333333333,\"#9c179e\"],[0.4444444444444444,\"#bd3786\"],[0.5555555555555556,\"#d8576b\"],[0.6666666666666666,\"#ed7953\"],[0.7777777777777778,\"#fb9f3a\"],[0.8888888888888888,\"#fdca26\"],[1.0,\"#f0f921\"]]},\"colorway\":[\"#636efa\",\"#EF553B\",\"#00cc96\",\"#ab63fa\",\"#FFA15A\",\"#19d3f3\",\"#FF6692\",\"#B6E880\",\"#FF97FF\",\"#FECB52\"],\"font\":{\"color\":\"#f2f5fa\"},\"geo\":{\"bgcolor\":\"rgb(17,17,17)\",\"lakecolor\":\"rgb(17,17,17)\",\"landcolor\":\"rgb(17,17,17)\",\"showlakes\":true,\"showland\":true,\"subunitcolor\":\"#506784\"},\"hoverlabel\":{\"align\":\"left\"},\"hovermode\":\"closest\",\"mapbox\":{\"style\":\"dark\"},\"paper_bgcolor\":\"rgb(17,17,17)\",\"plot_bgcolor\":\"rgb(17,17,17)\",\"polar\":{\"angularaxis\":{\"gridcolor\":\"#506784\",\"linecolor\":\"#506784\",\"ticks\":\"\"},\"bgcolor\":\"rgb(17,17,17)\",\"radialaxis\":{\"gridcolor\":\"#506784\",\"linecolor\":\"#506784\",\"ticks\":\"\"}},\"scene\":{\"xaxis\":{\"backgroundcolor\":\"rgb(17,17,17)\",\"gridcolor\":\"#506784\",\"gridwidth\":2,\"linecolor\":\"#506784\",\"showbackground\":true,\"ticks\":\"\",\"zerolinecolor\":\"#C8D4E3\"},\"yaxis\":{\"backgroundcolor\":\"rgb(17,17,17)\",\"gridcolor\":\"#506784\",\"gridwidth\":2,\"linecolor\":\"#506784\",\"showbackground\":true,\"ticks\":\"\",\"zerolinecolor\":\"#C8D4E3\"},\"zaxis\":{\"backgroundcolor\":\"rgb(17,17,17)\",\"gridcolor\":\"#506784\",\"gridwidth\":2,\"linecolor\":\"#506784\",\"showbackground\":true,\"ticks\":\"\",\"zerolinecolor\":\"#C8D4E3\"}},\"shapedefaults\":{\"line\":{\"color\":\"#f2f5fa\"}},\"sliderdefaults\":{\"bgcolor\":\"#C8D4E3\",\"bordercolor\":\"rgb(17,17,17)\",\"borderwidth\":1,\"tickwidth\":0},\"ternary\":{\"aaxis\":{\"gridcolor\":\"#506784\",\"linecolor\":\"#506784\",\"ticks\":\"\"},\"baxis\":{\"gridcolor\":\"#506784\",\"linecolor\":\"#506784\",\"ticks\":\"\"},\"bgcolor\":\"rgb(17,17,17)\",\"caxis\":{\"gridcolor\":\"#506784\",\"linecolor\":\"#506784\",\"ticks\":\"\"}},\"title\":{\"x\":0.05},\"updatemenudefaults\":{\"bgcolor\":\"#506784\",\"borderwidth\":0},\"xaxis\":{\"automargin\":true,\"gridcolor\":\"#283442\",\"linecolor\":\"#506784\",\"ticks\":\"\",\"title\":{\"standoff\":15},\"zerolinecolor\":\"#283442\",\"zerolinewidth\":2},\"yaxis\":{\"automargin\":true,\"gridcolor\":\"#283442\",\"linecolor\":\"#506784\",\"ticks\":\"\",\"title\":{\"standoff\":15},\"zerolinecolor\":\"#283442\",\"zerolinewidth\":2}}},\"xaxis\":{\"anchor\":\"y\",\"domain\":[0.0,1.0],\"title\":{\"text\":\"Score\"}},\"yaxis\":{\"anchor\":\"x\",\"domain\":[0.0,1.0],\"title\":{\"text\":\"Model\"}},\"coloraxis\":{\"colorbar\":{\"title\":{\"text\":\"Score\"}},\"colorscale\":[[0.0,\"#0d0887\"],[0.1111111111111111,\"#46039f\"],[0.2222222222222222,\"#7201a8\"],[0.3333333333333333,\"#9c179e\"],[0.4444444444444444,\"#bd3786\"],[0.5555555555555556,\"#d8576b\"],[0.6666666666666666,\"#ed7953\"],[0.7777777777777778,\"#fb9f3a\"],[0.8888888888888888,\"#fdca26\"],[1.0,\"#f0f921\"]]},\"legend\":{\"tracegroupgap\":0},\"title\":{\"text\":\"Models Comparison\"},\"barmode\":\"relative\"},                        {\"responsive\": true}                    ).then(function(){\n",
       "                            \n",
       "var gd = document.getElementById('d008c1ab-5d3c-4d06-b93c-461f93eee537');\n",
       "var x = new MutationObserver(function (mutations, observer) {{\n",
       "        var display = window.getComputedStyle(gd).display;\n",
       "        if (!display || display === 'none') {{\n",
       "            console.log([gd, 'removed!']);\n",
       "            Plotly.purge(gd);\n",
       "            observer.disconnect();\n",
       "        }}\n",
       "}});\n",
       "\n",
       "// Listen for the removal of the full notebook cells\n",
       "var notebookContainer = gd.closest('#notebook-container');\n",
       "if (notebookContainer) {{\n",
       "    x.observe(notebookContainer, {childList: true});\n",
       "}}\n",
       "\n",
       "// Listen for the clearing of the current output cell\n",
       "var outputEl = gd.closest('.output');\n",
       "if (outputEl) {{\n",
       "    x.observe(outputEl, {childList: true});\n",
       "}}\n",
       "\n",
       "                        })                };                });            </script>        </div>"
      ]
     },
     "metadata": {},
     "output_type": "display_data"
    }
   ],
   "source": [
    "import plotly.express as px\n",
    "px.bar(data_frame = models, x = 'Score', y = 'Model', color = 'Score', template = 'plotly_dark', \n",
    "       title = 'Models Comparison')"
   ]
  },
  {
   "cell_type": "markdown",
   "id": "59f6e7bb",
   "metadata": {
    "papermill": {
     "duration": 0.031745,
     "end_time": "2024-08-11T09:09:57.998496",
     "exception": false,
     "start_time": "2024-08-11T09:09:57.966751",
     "status": "completed"
    },
    "tags": []
   },
   "source": [
    "# --------- If you like my work, don't forget to leave an upvote!!------"
   ]
  }
 ],
 "metadata": {
  "kaggle": {
   "accelerator": "nvidiaTeslaT4",
   "dataSources": [
    {
     "datasetId": 1111,
     "sourceId": 2005,
     "sourceType": "datasetVersion"
    }
   ],
   "isGpuEnabled": true,
   "isInternetEnabled": true,
   "language": "python",
   "sourceType": "notebook"
  },
  "kernelspec": {
   "display_name": "Python 3",
   "language": "python",
   "name": "python3"
  },
  "language_info": {
   "codemirror_mode": {
    "name": "ipython",
    "version": 3
   },
   "file_extension": ".py",
   "mimetype": "text/x-python",
   "name": "python",
   "nbconvert_exporter": "python",
   "pygments_lexer": "ipython3",
   "version": "3.10.13"
  },
  "papermill": {
   "default_parameters": {},
   "duration": 28.473275,
   "end_time": "2024-08-11T09:10:00.648038",
   "environment_variables": {},
   "exception": null,
   "input_path": "__notebook__.ipynb",
   "output_path": "__notebook__.ipynb",
   "parameters": {},
   "start_time": "2024-08-11T09:09:32.174763",
   "version": "2.5.0"
  }
 },
 "nbformat": 4,
 "nbformat_minor": 5
}

